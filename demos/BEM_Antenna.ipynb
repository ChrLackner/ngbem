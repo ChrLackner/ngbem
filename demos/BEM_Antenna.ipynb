{
 "cells": [
  {
   "cell_type": "markdown",
   "id": "b4deff8f-5812-46fb-88f6-dcad9e358f43",
   "metadata": {},
   "source": [
    "# A simple micro-strip antenna in frequency domain"
   ]
  },
  {
   "cell_type": "code",
   "execution_count": null,
   "id": "e7ddde83-9d2f-4a7b-9528-f06c632dbef2",
   "metadata": {},
   "outputs": [],
   "source": [
    "from ngsolve import *\n",
    "from netgen.occ import *\n",
    "from ngsolve.webgui import Draw"
   ]
  },
  {
   "cell_type": "markdown",
   "id": "b40087b4-8fb9-468b-9f1d-f9914a327946",
   "metadata": {},
   "source": [
    "construction in mm, scale to m later:"
   ]
  },
  {
   "cell_type": "code",
   "execution_count": null,
   "id": "ea14a20b-cb18-46a8-9542-c6cdcf0aeb57",
   "metadata": {},
   "outputs": [],
   "source": [
    "height = 2\n",
    "wp = WorkPlane ( Axes ((0,0,height), Z, X))\n",
    "striptop = wp.MoveTo(0.5, -0.5).Line(100).Rotate(-90).Line(10).Rotate(90).Line(20).Rotate(90).Line(21) \\\n",
    "        .Rotate(90).Line(20).Rotate(90).Line(10).Rotate(-90).Line(100).Close().Face()\n",
    "striptop.faces.name=\"strip\"\n",
    "\n",
    "stripbot = striptop.Move(-2*height*Z)\n",
    "\n",
    "port = WorkPlane( Axes((0.5,0,0), -X,Z)).RectangleC(2*height, 1).Face()\n",
    "port.faces.name=\"port\"\n",
    "strip = Glue([striptop, stripbot])\n",
    "shape = Glue([strip, port])\n",
    "\n",
    "shape.faces[\"strip\"].col=(1,0,0)\n",
    "shape.faces[\"port\"].col=(1,1,0)"
   ]
  },
  {
   "cell_type": "code",
   "execution_count": null,
   "id": "231ea528-c515-4e83-b5af-8f2a17d17755",
   "metadata": {},
   "outputs": [],
   "source": [
    "Draw (strip);"
   ]
  },
  {
   "cell_type": "code",
   "execution_count": null,
   "id": "d7ea7041-424f-410c-9ae7-d72bbea0a0b3",
   "metadata": {},
   "outputs": [],
   "source": [
    "mesh = Mesh(OCCGeometry(shape).GenerateMesh(maxh=5))\n",
    "Draw (mesh);"
   ]
  },
  {
   "cell_type": "code",
   "execution_count": null,
   "id": "d1de4cd5-a11f-406e-97a9-4a3f94eedd19",
   "metadata": {},
   "outputs": [],
   "source": [
    "#fes = HCurl(mesh, order=1, complex=True, dirichlet=\"strip\")\n",
    "#print (\"ndof = \", fes.ndof)\n",
    "#u,v = fes.TnT()"
   ]
  },
  {
   "cell_type": "code",
   "execution_count": null,
   "id": "6dc001da-64b3-4c24-9c6a-28bd08a40eac",
   "metadata": {},
   "outputs": [],
   "source": [
    "fesHCurl = HCurl(mesh, order=1, complex=True, dirichlet=\"strip\")\n",
    "fesHDiv = HDivSurface(mesh, order=1, complex = True, dirichlet=\"port\")\n",
    "\n",
    "uHCurl,vHCurl = fesHCurl.TnT()\n",
    "uHDiv, vHDiv = fesHDiv.TnT()"
   ]
  },
  {
   "cell_type": "code",
   "execution_count": null,
   "id": "e97fa0a0-3bc5-41f3-97f5-c9f840aeba20",
   "metadata": {},
   "outputs": [],
   "source": [
    "mu0 = 1.257e-6  * 0.001\n",
    "eps0 = 1.247e-12 * 0.001\n",
    "f = 20e9\n",
    "omega = 2*pi*f\n",
    "kappa = omega*sqrt( eps0 * mu0 )"
   ]
  },
  {
   "cell_type": "code",
   "execution_count": null,
   "id": "4fc4ae78-f087-402f-a00b-f8acd24ab709",
   "metadata": {},
   "outputs": [],
   "source": [
    "m = GridFunction(fesHCurl)\n",
    "j = GridFunction(fesHDiv)\n",
    "\n",
    "# boundary conditions:\n",
    "# Dirichlet Data m_s = 0 on strip \n",
    "# Neumann Data j_p = given on port\n",
    "\n",
    "# Ansatz\n",
    "#             E(x) = S_E^(on port)( j_p ) + S_E^(on strip) ( j_s ) + S_M^(on port) (m_p) + S_M^(on strip) (m_s) \n",
    "# m_s = 0 ==> E(x) = S_E^(on port)( j_p ) + S_E^(on strip) ( j_s ) + S_M^(on port) (m_p)\n",
    "\n",
    "# g_R == 0, i.e., extension of homogeneous Dirichlet data on stripe (m_s=0) to whole boundary (shape) \n",
    "# g_N extension of given Neumann data j_p to whole boundary (shape)\n",
    "\n",
    "# Coupled System\n",
    "#  on strip:  V j_s + K m_p = (1/2 M  - K) g_R - V g_N      ===>  V j_s + K m_p = V g_N\n",
    "#  on port:  Kt j_s + D m_p = (1/2 Mt - Kt) g_N - D g_R     ===> Kt j_s + D m_p = (1/2 Mt - Kt) g_N \n",
    "\n",
    "with TaskManager():\n",
    "    V = MaxwellSingleLayerPotentialOperator(fesHDiv, definedon=mesh.Boundaries(\"strip\"), \n",
    "                                            intorder=12, leafsize=40, eta=3., eps=1e-4, method=\"aca\", testhmatrix=False)\n",
    "    K = MaxwellDoubleLayerPotentialOperator(fesHCurl, fesHDiv,  \n",
    "                                     trial_definedon=mesh.Boundaries(\"port\"),  test_definedon=mesh.Boundaries(\"strip\"), \n",
    "                                     intorder=12, leafsize=40, eta=3., eps=1e-4, method=\"aca\", testhmatrix=False)\n",
    "    D = MaxwellHypersingularOperator(fesHCurl, fesHDiv, definedon=mesh.Boundaries(\"port\"), test_definedon=mesh.Boundaries(\"port\"),  \n",
    "                                     intorder=12, leafsize=40, eta=3., eps=1e-4, method=\"aca\", testhmatrix=False) # wrong spaces ?\n",
    "    Kt = MaxwellDoubleLayerPotentialOperator(fesHCurl, fesHDiv,  \n",
    "                                     trial_definedon=mesh.Boundaries(\"port\"),  test_definedon=mesh.Boundaries(\"strip\"), \n",
    "                                     intorder=12, leafsize=40, eta=3., eps=1e-4, method=\"aca\", testhmatrix=False) # use its transposed ?\n",
    "    M = BilinearForm( uHCurl.Trace() * vHDiv.Trace()* ds(bonus_intorder=3)).Assemble() # <Hcurl, Hdiv>  # definedon missing"
   ]
  },
  {
   "cell_type": "code",
   "execution_count": null,
   "id": "1bf50394-0d18-4f16-b926-f061aba07d97",
   "metadata": {},
   "outputs": [],
   "source": [
    "# Neumann Daten auf port, \n",
    "# homogene Dirichlet Daten auf strip\n",
    "\n",
    "pre = BilinearForm( uHDiv.Trace() * vHDiv.Trace() *ds ).Assemble().mat.Inverse(freedofs=fesHDiv.FreeDofs()) \n"
   ]
  },
  {
   "cell_type": "code",
   "execution_count": null,
   "id": "97450bb4-ddf1-491a-a07c-7288b88b725e",
   "metadata": {},
   "outputs": [],
   "source": [
    "gfu = GridFunction(fes)\n",
    "inv = a.mat.Inverse(fes.FreeDofs())\n",
    "f = LinearForm( CF( (0,0,jz)) * v.Trace() * ds(\"port\")).Assemble() # v - Test Funktion von H(curl) Projektion des port current -> Freiheitsgrade gesetzt in Hdiv Surface\n",
    "gfu.vec.data = inv * f.vec"
   ]
  },
  {
   "cell_type": "markdown",
   "id": "d2a32159-880d-4257-a62b-30ff57535af3",
   "metadata": {},
   "source": [
    "in gui, switch on \"Clipping Plane\" for drawing field in clipping plane:"
   ]
  },
  {
   "cell_type": "code",
   "execution_count": null,
   "id": "b71d7270-bed4-43d8-8522-4a26318eb616",
   "metadata": {},
   "outputs": [],
   "source": [
    "#Draw (gfu[2], mesh, clipping = { \"z\" : 1}, animate_complex=True );"
   ]
  },
  {
   "cell_type": "code",
   "execution_count": null,
   "id": "36e1df39-9fa3-4409-81e6-30492416632b",
   "metadata": {},
   "outputs": [],
   "source": []
  }
 ],
 "metadata": {
  "kernelspec": {
   "display_name": "Python 3 (ipykernel)",
   "language": "python",
   "name": "python3"
  },
  "language_info": {
   "codemirror_mode": {
    "name": "ipython",
    "version": 3
   },
   "file_extension": ".py",
   "mimetype": "text/x-python",
   "name": "python",
   "nbconvert_exporter": "python",
   "pygments_lexer": "ipython3",
   "version": "3.11.6"
  }
 },
 "nbformat": 4,
 "nbformat_minor": 5
}
