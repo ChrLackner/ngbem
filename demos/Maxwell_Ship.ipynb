{
 "cells": [
  {
   "cell_type": "markdown",
   "id": "27439a9a-bf23-4761-bb28-b73132b97f25",
   "metadata": {},
   "source": [
    "Maxwell solver for PEC bodies (EFIE)\n",
    "=============================\n",
    "**keys**: Maxwell single layer potential, EFIE, indirect ansatz, MoM, PEC scattering"
   ]
  },
  {
   "cell_type": "code",
   "execution_count": null,
   "id": "4220f8af-1580-467a-801e-6ef49d43c70c",
   "metadata": {},
   "outputs": [],
   "source": [
    "import sys\n",
    "sys.path.append(\"../build/\")\n",
    "from netgen.occ import *\n",
    "import netgen.meshing as meshing\n",
    "from ngsolve import *\n",
    "from ngsolve.webgui import Draw\n",
    "from libbem import *\n",
    "from ngsolve.krylovspace import CG, GMRes"
   ]
  },
  {
   "cell_type": "markdown",
   "id": "60f033eb-7ce3-464f-a114-cbcd2b784c83",
   "metadata": {},
   "source": [
    "We consider a perfect conducter $\\Omega \\subset \\mathbb R^3$ and a plane wave $\\boldsymbol E_{\\mathrm{inc}} $ with tangential trace $\\gamma_R \\boldsymbol E_{\\mathrm{inc}} = -\\boldsymbol m \\in \\boldsymbol H^{-\\frac12}\\left( \\mathrm{curl}_\\Gamma, \\Gamma\\right)\\,.$ The incoming wave thus induces a scattered electric field $\\boldsymbol E$ which propagates into $\\Omega^c$. The scattered electric field solves the following boundary value problem: \n",
    "\n",
    "$$ \\left\\{ \\begin{array}{rcl l} \\mathbf{curl} \\, \\mathbf{curl}\\, \\boldsymbol E - \\kappa^2 \\, \\boldsymbol E &=& \\boldsymbol 0, \\quad &\\textnormal{in } \\Omega^c \\subset \\mathbb R^3\\,,\\\\ \\gamma_R \\,\\boldsymbol E &=& \\boldsymbol m, \\quad & \\textnormal{on }\\Gamma \\\\ \\left\\| \\mathbf{curl} \\, \\boldsymbol E( x) - i\\,\\omega\\,\\epsilon \\, \\boldsymbol E( x)\\right\\| &=& \\mathcal O\\left( \\displaystyle \\frac{1}{\\| x\\|^2}\\right), &\\textnormal{for} \\; \\|x\\| \\to \\infty\\,.\\end{array} \\right. $$ \n",
    "\n",
    "and a possible representation reads\n",
    "\n",
    "$$ \\boldsymbol E(x) = \\underbrace{ \\kappa \\, \\int_\\Gamma \\displaystyle{ \\frac{1}{4\\,\\pi} \\, \\frac{e^{i\\,\\kappa\\,\\|x-y\\|}}{\\| x-y\\|} } \\, \\boldsymbol j(y)\\, \\mathrm{d}\\sigma_y + \\frac{1}{\\kappa} \\nabla \\int_\\Gamma \\displaystyle{ \\frac{1}{4\\,\\pi}\\, \\frac{e^{i\\,\\kappa\\,\\|x-y\\|}}{\\| x-y\\|} } \\, \\mathrm{div}_\\Gamma \\boldsymbol j(y)\\, \\mathrm{d}\\sigma_y }_{\\displaystyle{ \\mathrm{SL} (\\boldsymbol j) } } \\,.$$ \n",
    "\n",
    "The density $\\boldsymbol j$ is determined by the boundary element method, i.e. the numerical solution of the variational formulation \n",
    "\n",
    "$$ \\begin{array}{c} \\forall \\, \\boldsymbol v\\in H^{-\\frac12}(\\mathrm{div}_\\Gamma, \\Gamma): \\quad \\left\\langle \\,\\mathrm{SL} (\\boldsymbol j),\\, \\boldsymbol v \\right\\rangle_{-\\frac12} = \\left\\langle \\boldsymbol m , \\boldsymbol v\\right\\rangle_{-\\frac12} \\,. \\end{array}$$ \n",
    "\n",
    "In the enineering community, the approximation scheme is also known as **method of moments** (MoM) and the resulting equation for $\\boldsymbol j$ is called the **EFIE**, the **electric field integral equation**. "
   ]
  },
  {
   "cell_type": "markdown",
   "id": "c74e2639-0d66-49ca-84e1-62a4631f1652",
   "metadata": {},
   "source": [
    "Define the geometry of the perfect conductor $\\Omega$ and create a mesh:"
   ]
  },
  {
   "cell_type": "code",
   "execution_count": null,
   "id": "b3bee3e9-b23a-43dd-b5d9-8f9265af827a",
   "metadata": {},
   "outputs": [],
   "source": [
    "#shape = Box((-10., -1., -1.), (10., 1., 1.)) + Box((-6., -1, 1.), (0., 1, 2.)) + Box((6., -1., 1.), (7., 1., 3.5))\n",
    "#mesh = Mesh(OCCGeometry(shape).GenerateMesh(maxh=2., perfstepsend=meshing.MeshingStep.MESHSURFACE))\n",
    "mesh = Mesh(\"ship0.stl\")\n",
    "mesh.Curve(4)\n",
    "print(mesh.nface)\n",
    "Draw(mesh)"
   ]
  },
  {
   "cell_type": "markdown",
   "id": "e8c31fe0-9761-494b-9ab7-81a88a8c9bbb",
   "metadata": {},
   "source": [
    "Next, we create finite element spaces $\\boldsymbol H^{-\\frac12}(\\mathrm{curl}_\\Gamma, \\Gamma)$ and $\\boldsymbol H^{-\\frac12}(\\mathrm{div}_\\Gamma, \\Gamma)$:"
   ]
  },
  {
   "cell_type": "code",
   "execution_count": null,
   "id": "5a6ee11f-4bc6-4cc8-9408-c4d6d9c4727d",
   "metadata": {},
   "outputs": [],
   "source": [
    "order = 4\n",
    "fesHDiv = HDivSurface(mesh, order=order, complex=True)\n",
    "uHDiv, vHDiv = fesHDiv.TnT()\n",
    "fesHCurl = HCurl(mesh, order=order, complex=True)\n",
    "uHCurl, vHCurl = fesHDiv.TnT()\n",
    "print(\"ndof HDiv =\", fesHDiv.ndof, \"ndof HCurl =\", fesHCurl.ndof)"
   ]
  },
  {
   "cell_type": "markdown",
   "id": "072b149e-d83c-46f6-9d30-b0a432e7dcdd",
   "metadata": {},
   "source": [
    "Define the incoming plane wave and compute the given Dirichlet data $\\boldsymbol m$: "
   ]
  },
  {
   "cell_type": "code",
   "execution_count": null,
   "id": "2ea25412-738b-469b-a30c-990d32089e9c",
   "metadata": {},
   "outputs": [],
   "source": [
    "kx = -0.785\n",
    "ky = - 0.453\n",
    "kz = - 0.524\n",
    "kappa = sqrt(kx ** 2 + ky ** 2 + kz ** 2)\n",
    "E_inc = CF((-0.66, 0.436, 0.112)) * exp(1j * (kx * x + ky * y + kz * z))\n",
    "\n",
    "n = specialcf.normal(3)\n",
    "m = -Cross(Cross(n, E_inc), n)\n",
    "gfm = GridFunction(fesHCurl)\n",
    "gfm.Set(m, definedon=mesh.Boundaries(\".*\"), dual=True)\n",
    "print(sqrt(Integrate(Norm(m - gfm) ** 2, mesh.Boundaries(\".*\"), BND)) / sqrt(Integrate(Norm(m) ** 2, mesh.Boundaries(\".*\"), BND)))\n",
    "Draw(m[0].real, mesh, draw_vol=False, order=order);"
   ]
  },
  {
   "cell_type": "markdown",
   "id": "2d42750a-50ce-445a-b547-bb64f74aa98f",
   "metadata": {},
   "source": [
    "# Compute the right hand side vector:"
   ]
  },
  {
   "cell_type": "code",
   "execution_count": null,
   "id": "5da7bba5-fe7a-4b35-814e-50f380c0c338",
   "metadata": {},
   "outputs": [],
   "source": [
    "#rhs = LinearForm(m * vHDiv.Trace() * ds(bonus_intorder=3)).Assemble()"
   ]
  },
  {
   "cell_type": "markdown",
   "id": "c9255ee1-9bb1-47a3-a3f1-12fc048bb19e",
   "metadata": {},
   "source": [
    "The discretisation of the above variational formulation leads to a system of linear equations, ie\n",
    "\n",
    "$$ V\\, \\mathrm j = \\mathrm{rhs}\\,,$$\n",
    "\n",
    "where the single layer operator $V$ on the left is a regular and symmetric matrix."
   ]
  },
  {
   "cell_type": "code",
   "execution_count": null,
   "id": "86468414-ef61-462e-a97d-6dbd0e1f5098",
   "metadata": {},
   "outputs": [],
   "source": [
    "j = GridFunction(fesHDiv)\n",
    "pre = BilinearForm(uHDiv.Trace() * vHDiv.Trace() * ds).Assemble().mat.Inverse(freedofs=fesHDiv.FreeDofs()) \n",
    "with TaskManager(): \n",
    "    V = MaxwellSingleLayerPotentialOperator(fesHDiv, kappa, intorder=16, leafsize=200, eta=0., eps=1e-8)\n",
    "    M = BilinearForm(uHCurl.Trace() * vHDiv.Trace()* ds(bonus_intorder=3)).Assemble()\n",
    "    rhs = (M.mat * gfm.vec).Evaluate()\n",
    "    GMRes(A = V.mat, pre=pre, b=rhs, x=j.vec, tol=1e-8, maxsteps=4000, printrates=True)\n",
    "j.vec[:] *= kappa"
   ]
  },
  {
   "cell_type": "code",
   "execution_count": null,
   "id": "1e63632c-608c-4a1d-b1fb-7e7fc709c3d0",
   "metadata": {},
   "outputs": [],
   "source": [
    "Draw(j[0].real, mesh, draw_vol=False, order=order, min=-0.5, max=0.5);"
   ]
  },
  {
   "cell_type": "code",
   "execution_count": null,
   "id": "02adad79-e75a-4097-9c3a-a2969b243a68",
   "metadata": {},
   "outputs": [],
   "source": []
  }
 ],
 "metadata": {
  "kernelspec": {
   "display_name": "Python 3 (ipykernel)",
   "language": "python",
   "name": "python3"
  },
  "language_info": {
   "codemirror_mode": {
    "name": "ipython",
    "version": 3
   },
   "file_extension": ".py",
   "mimetype": "text/x-python",
   "name": "python",
   "nbconvert_exporter": "python",
   "pygments_lexer": "ipython3",
   "version": "3.11.6"
  }
 },
 "nbformat": 4,
 "nbformat_minor": 5
}
