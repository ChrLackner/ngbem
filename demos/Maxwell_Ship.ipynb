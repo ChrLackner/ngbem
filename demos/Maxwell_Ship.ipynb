{
 "cells": [
  {
   "cell_type": "markdown",
   "id": "27439a9a-bf23-4761-bb28-b73132b97f25",
   "metadata": {},
   "source": [
    "Maxwell solver for PEC bodies (EFIE)\n",
    "=============================\n",
    "**keys**: Maxwell single layer potential, EFIE, indirect ansatz, MoM, PEC scattering"
   ]
  },
  {
   "cell_type": "code",
   "execution_count": null,
   "id": "4220f8af-1580-467a-801e-6ef49d43c70c",
   "metadata": {},
   "outputs": [],
   "source": [
    "from netgen.occ import *\n",
    "import netgen.meshing as meshing\n",
    "from ngsolve import *\n",
    "from ngsolve.webgui import Draw\n",
    "from libbem import *\n",
    "from ngsolve import Projector, Preconditioner\n",
    "from ngsolve.krylovspace import CG, GMRes"
   ]
  },
  {
   "cell_type": "markdown",
   "id": "c74e2639-0d66-49ca-84e1-62a4631f1652",
   "metadata": {},
   "source": [
    "Load the mesh:"
   ]
  },
  {
   "cell_type": "code",
   "execution_count": null,
   "id": "b3bee3e9-b23a-43dd-b5d9-8f9265af827a",
   "metadata": {},
   "outputs": [],
   "source": [
    "#hull = Box((0,0,0), (100,10,5))\n",
    "#deck1 = Box((30,0,5), (50,5,5))\n",
    "#deck2 = Box((70,0,5), (85,10,15))\n",
    "#shape = hull + deck1 + deck2\n",
    "\n",
    "#shape = Box((0,0,0), (1,1,1))\n",
    "#mesh = Mesh(OCCGeometry(shape).GenerateMesh(maxh=3, perfstepsend=meshing.MeshingStep.MESHSURFACE)).Curve(1)\n",
    "\n",
    "mesh = Mesh(\"resources/ship_1.stl\")\n",
    "mesh.Curve(1)\n",
    "Draw(mesh)\n",
    "fesL2 = SurfaceL2(mesh,order=0)\n",
    "print(fesL2.ndof)"
   ]
  },
  {
   "cell_type": "markdown",
   "id": "93b05a6e-c64d-4994-bd93-f0ad053d8df1",
   "metadata": {},
   "source": [
    "Generate the finite element spaces:"
   ]
  },
  {
   "cell_type": "code",
   "execution_count": null,
   "id": "5a6ee11f-4bc6-4cc8-9408-c4d6d9c4727d",
   "metadata": {},
   "outputs": [],
   "source": [
    "order = 3\n",
    "fesHDiv = HDivSurface(mesh, order=order, complex=True)\n",
    "uHDiv,vHDiv = fesHDiv.TnT() # H(div_Gamma) \n",
    "\n",
    "fesHCurl = HCurl(mesh, order=order, complex=True)\n",
    "uHCurl, vHCurl = fesHCurl.TnT() # H(curl_Gamma)\n",
    "\n",
    "print (\"ndof HDiv = \", fesHDiv.ndof)\n",
    "print (\"ndof HCurl = \", fesHCurl.ndof)"
   ]
  },
  {
   "cell_type": "markdown",
   "id": "b9e1170f-4f42-4076-9ff0-23e4ae931a82",
   "metadata": {},
   "source": [
    "Define incoming plane wave $\\boldsymbol E_{\\mathrm{inc}}$:"
   ]
  },
  {
   "cell_type": "code",
   "execution_count": null,
   "id": "2ea25412-738b-469b-a30c-990d32089e9c",
   "metadata": {},
   "outputs": [],
   "source": [
    "a = -0.758\n",
    "b = -0.453\n",
    "c = -0.524\n",
    "E_inc = CF( (-c, 0., a) ) * exp( -1j * (a * x + b * y + c * z))\n",
    "kappa = sqrt( a*a + b*b + c*c)\n",
    "print(kappa)"
   ]
  },
  {
   "cell_type": "markdown",
   "id": "f1a14867-c597-44cb-91da-be3b6b442642",
   "metadata": {},
   "source": [
    "Let's compute the relative error in input data, i.e., in the given Dirichlet trace $\\boldsymbol m$"
   ]
  },
  {
   "cell_type": "code",
   "execution_count": null,
   "id": "14f211cf-d6ed-48fb-96ca-5e1aec55a1a6",
   "metadata": {},
   "outputs": [],
   "source": [
    "n = specialcf.normal(3)\n",
    "m_exa = -Cross(Cross(n, E_inc), n)\n",
    "m = GridFunction(fesHCurl)\n",
    "m.Set(-E_inc, definedon=mesh.Boundaries(\".*\"), dual=True)\n",
    "error = sqrt(Integrate(Norm(m_exa - m) ** 2, mesh, BND) / Integrate(Norm(m_exa) ** 2, mesh, BND))\n",
    "print(\"relative L2-error in m: \", error)"
   ]
  },
  {
   "cell_type": "markdown",
   "id": "d416c478-306b-4ce2-bd66-7a44c9adff60",
   "metadata": {},
   "source": [
    "Have a look at the Dirichlet trace $\\boldsymbol m$ that induces the scattered electric field, for instance the first real component: "
   ]
  },
  {
   "cell_type": "code",
   "execution_count": null,
   "id": "5d963fe8-4eff-4c1e-9f60-17b9a06926a3",
   "metadata": {},
   "outputs": [],
   "source": [
    "Draw(m[0].real, mesh, draw_vol=False, order=3, min=-0.5, max=0.5);"
   ]
  },
  {
   "cell_type": "markdown",
   "id": "0a7fe004-e8e2-46fc-965b-15bcc45b03c0",
   "metadata": {},
   "source": [
    "Consider the indirect ansatz for the unknown scattered electric field, i.e.,  \n",
    "\n",
    "$$\\boldsymbol E(\\boldsymbol x) = S_E\\left(\\boldsymbol j_{\\mathrm{efie}}\\right)(\\boldsymbol x)$$ \n",
    "\n",
    "and solve EFIE for unknown density $\\;\\boldsymbol j_{\\mathrm{efie}}$: "
   ]
  },
  {
   "cell_type": "code",
   "execution_count": null,
   "id": "f9a4b928-6958-442e-83a3-964c806437db",
   "metadata": {},
   "outputs": [],
   "source": [
    "# indirect ansatz, i.e., solution of V j_efie = M m\n",
    "j_efie = GridFunction(fesHDiv)\n",
    "rhs_efie = LinearForm( - E_inc* vHDiv.Trace() * ds(bonus_intorder=20)).Assemble()\n",
    "with TaskManager():\n",
    "    pre = BilinearForm(uHDiv.Trace() * vHDiv.Trace() * ds).Assemble().mat.Inverse(freedofs=fesHDiv.FreeDofs()) \n",
    "    V = MaxwellSingleLayerPotentialOperator(fesHDiv, kappa, intorder=16, leafsize=320, eta=0., eps=1e-8)\n",
    "    GMRes(A=V.mat, pre=pre, b=rhs_efie.vec, x=j_efie.vec, tol=1e-8, maxsteps=5000, printrates=False)"
   ]
  },
  {
   "cell_type": "code",
   "execution_count": null,
   "id": "17cd97f2-f99d-4964-9056-d0b68875e041",
   "metadata": {},
   "outputs": [],
   "source": [
    "# have a look at the solution\n",
    "Draw (j_efie[0].real, mesh, draw_vol=False, order=3, min=-0.15, max=0.15);"
   ]
  },
  {
   "cell_type": "markdown",
   "id": "60222e5f-31a4-494c-8804-76a30c67a9a4",
   "metadata": {},
   "source": [
    "Alternatively, we can consider the direct ansatz, i.e., \n",
    "\n",
    "$$ \\boldsymbol E(\\boldsymbol x) = S_E\\left( \\boldsymbol j\\right)(\\boldsymbol x) + S_M\\left( \\boldsymbol m \\right)(\\boldsymbol x) $$\n",
    "\n",
    "and solve for the Neumann trace of the scattered field $\\boldsymbol E$, i.e., \n",
    "\n",
    "$$\\boldsymbol j = \\dfrac{1}{\\kappa} \\boldsymbol n \\times \\left( \\nabla \\times \\boldsymbol E\\right)$$ "
   ]
  },
  {
   "cell_type": "code",
   "execution_count": null,
   "id": "eef45d92-8ae5-40d9-b0f9-64bec0c923e4",
   "metadata": {},
   "outputs": [],
   "source": [
    "# direct ansatz, i.e., solution of   V j = ( 1/2 M  - K) m \n",
    "j = GridFunction(fesHDiv)\n",
    "with TaskManager(): \n",
    "    K = MaxwellDoubleLayerPotentialOperator(fesHCurl, fesHDiv, kappa, intorder=16, leafsize=320, eta=0., eps=1e-8)\n",
    "    M = BilinearForm(uHCurl.Trace() * vHDiv.Trace()* ds(bonus_intorder=3)).Assemble()\n",
    "    rhs = (( 0.5*M.mat- K.mat)* m.vec).Evaluate()  \n",
    "    GMRes(A=V.mat, pre=pre, b=rhs, x=j.vec, tol=1e-8, maxsteps=5000, printrates=False)"
   ]
  },
  {
   "cell_type": "code",
   "execution_count": null,
   "id": "a7a2a0c3-ae21-461b-a066-60e1d8a95473",
   "metadata": {},
   "outputs": [],
   "source": [
    "# have a look at the solution\n",
    "Draw (j[0].real, mesh, draw_vol=False, order=3, min=-0.5, max=0.5);"
   ]
  },
  {
   "cell_type": "markdown",
   "id": "e9913bc0-323a-4a2b-ab22-573f7ed29a0b",
   "metadata": {},
   "source": [
    "**Check the solutions**\n",
    "\n",
    "It must hold \n",
    "\n",
    "$$ \\boldsymbol j_{\\mathrm{efie}} = \\boldsymbol j + \\boldsymbol j_{\\mathrm{inc}}, \\quad \\boldsymbol j_{\\mathrm{inc}} = \\dfrac{1}{\\kappa} \\boldsymbol n \\left( \\nabla \\times \\boldsymbol E_{\\mathrm{inc}} \\right) $$\n",
    "\n",
    "Thus, we can check the consistency of the numerical solutions and this is what we do now: "
   ]
  },
  {
   "cell_type": "code",
   "execution_count": null,
   "id": "47f04652-6690-45df-9ff6-6c57cf101e4b",
   "metadata": {},
   "outputs": [],
   "source": [
    "# compute the Neumann trace of the incoming singal: \n",
    "curlE_inc = CF( (a*b - 0*c, -c*c - a*a, 0*a + c*b) ) * (-1j) * exp( -1j * (a * x + b * y + c * z))\n",
    "jexa_inc = GridFunction(fesHDiv)\n",
    "jexa_inc.Set( 1/kappa*Cross(n, curlE_inc), definedon=mesh.Boundaries(\".*\"), dual=True) # Projektion in HDiv !\n",
    "Draw (jexa_inc[0].real, mesh, draw_vol=False, order=3, min = -0.5, max=0.5);"
   ]
  },
  {
   "cell_type": "code",
   "execution_count": null,
   "id": "1e63632c-608c-4a1d-b1fb-7e7fc709c3d0",
   "metadata": {},
   "outputs": [],
   "source": [
    "# Check consistency: j_test == j_efie: \n",
    "j_test = GridFunction(fesHDiv)\n",
    "j_test.Set(j+jexa_inc, definedon=mesh.Boundaries(\".*\"), dual=True) \n",
    "Draw (j_test[0].real, mesh, draw_vol=False, order=3, min=-0.5, max=0.5); # trace of total field\n",
    "Draw (j_efie[0].real, mesh, draw_vol=False, order=3, min=-0.5, max=0.5); # solution of indirect formulation"
   ]
  },
  {
   "cell_type": "code",
   "execution_count": null,
   "id": "217a490d-4d2d-4721-ae23-a6fba5da0e73",
   "metadata": {},
   "outputs": [],
   "source": []
  },
  {
   "cell_type": "code",
   "execution_count": null,
   "id": "9f01bf1f-50a8-4d4b-b470-9489e0a65aa3",
   "metadata": {},
   "outputs": [],
   "source": []
  }
 ],
 "metadata": {
  "kernelspec": {
   "display_name": "Python 3 (ipykernel)",
   "language": "python",
   "name": "python3"
  },
  "language_info": {
   "codemirror_mode": {
    "name": "ipython",
    "version": 3
   },
   "file_extension": ".py",
   "mimetype": "text/x-python",
   "name": "python",
   "nbconvert_exporter": "python",
   "pygments_lexer": "ipython3",
   "version": "3.11.6"
  }
 },
 "nbformat": 4,
 "nbformat_minor": 5
}
