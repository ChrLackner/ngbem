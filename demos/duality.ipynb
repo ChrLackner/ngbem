{
 "cells": [
  {
   "cell_type": "code",
   "execution_count": null,
   "id": "667a666a-3324-4cc0-a3f0-47ba7aa32d5c",
   "metadata": {},
   "outputs": [],
   "source": [
    "import sys\n",
    "sys.path.append('../build')\n",
    "\n",
    "from netgen.occ import *\n",
    "from ngsolve import *\n",
    "from ngsolve.webgui import Draw\n",
    "from libbem import *"
   ]
  },
  {
   "cell_type": "code",
   "execution_count": null,
   "id": "c7abb299-0827-4f90-8d0f-6239f08249b2",
   "metadata": {},
   "outputs": [],
   "source": [
    "sp = Sphere( (0,0,0), 1)\n",
    "mesh = Mesh( OCCGeometry(sp).GenerateMesh(maxh=0.2)).Curve(4)\n",
    "# mesh = Mesh(unit_cube.GenerateMesh(maxh=0.3))"
   ]
  },
  {
   "cell_type": "code",
   "execution_count": null,
   "id": "d8c2c6d6-b3b3-4f91-8e2b-b63c146b6a09",
   "metadata": {},
   "outputs": [],
   "source": [
    "fesl2 = SurfaceL2(mesh, order=0, dual_mapping=True)\n",
    "ul2,vl2 = fesl2.TnT()\n",
    "\n",
    "fesh1 = H1(mesh, order=1)\n",
    "uh1, vh1 = fesh1.TnT()\n",
    "\n",
    "a = BilinearForm(uh1*vl2*ds).Assemble()\n",
    "print (a.mat)"
   ]
  },
  {
   "cell_type": "code",
   "execution_count": null,
   "id": "b6bccc97-cf58-4393-9cbf-92a6a7837933",
   "metadata": {},
   "outputs": [],
   "source": []
  }
 ],
 "metadata": {
  "kernelspec": {
   "display_name": "Python 3 (ipykernel)",
   "language": "python",
   "name": "python3"
  },
  "language_info": {
   "codemirror_mode": {
    "name": "ipython",
    "version": 3
   },
   "file_extension": ".py",
   "mimetype": "text/x-python",
   "name": "python",
   "nbconvert_exporter": "python",
   "pygments_lexer": "ipython3",
   "version": "3.12.0"
  }
 },
 "nbformat": 4,
 "nbformat_minor": 5
}
