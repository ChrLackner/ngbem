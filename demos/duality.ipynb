{
 "cells": [
  {
   "cell_type": "code",
   "execution_count": null,
   "id": "667a666a-3324-4cc0-a3f0-47ba7aa32d5c",
   "metadata": {},
   "outputs": [],
   "source": [
    "from netgen.occ import *\n",
    "from ngsolve import *\n",
    "import netgen.meshing as meshing\n",
    "from ngsolve.webgui import Draw\n",
    "from ngbem import *"
   ]
  },
  {
   "cell_type": "code",
   "execution_count": null,
   "id": "c7abb299-0827-4f90-8d0f-6239f08249b2",
   "metadata": {},
   "outputs": [],
   "source": [
    "sp = Sphere( (0,0,0), 1)\n",
    "mesh = Mesh( OCCGeometry(sp).GenerateMesh(maxh=1, perfstepsend=meshing.MeshingStep.MESHSURFACE)).Curve(3)\n",
    "n = specialcf.normal(3)\n",
    "#mesh = Mesh(unit_cube.GenerateMesh(maxh=1, perfstepsend=meshing.MeshingStep.MESHSURFACE)).Curve(3)"
   ]
  },
  {
   "cell_type": "code",
   "execution_count": null,
   "id": "d8c2c6d6-b3b3-4f91-8e2b-b63c146b6a09",
   "metadata": {},
   "outputs": [],
   "source": [
    "fesl2 = SurfaceL2(mesh, order=1, dual_mapping=True)\n",
    "ul2,vl2 = fesl2.TnT()\n",
    "\n",
    "fesh1 = SurfaceL2(mesh, order=1)\n",
    "uh1, vh1 = fesh1.TnT()\n",
    "\n",
    "a = BilinearForm(uh1*vl2*ds).Assemble()\n",
    "#print (a.mat)"
   ]
  },
  {
   "cell_type": "code",
   "execution_count": null,
   "id": "b6bccc97-cf58-4393-9cbf-92a6a7837933",
   "metadata": {},
   "outputs": [],
   "source": [
    "fesHCurl = HCurl(mesh, order=0)\n",
    "uHtest,vHtest = fesHCurl.TnT() # H(curl_Gamma) conform spaces\n",
    "print(fesHCurl.ndof)\n",
    "\n",
    "M = BilinearForm( (uHtest.Trace()* vHtest.Trace() ) * ds(bonus_intorder=3), check_unused=True).Assemble() # <Hcurl, Hcurl>\n",
    "for k in range(0,fesHCurl.ndof):\n",
    "    for l in range(0, fesHCurl.ndof):\n",
    "        if(abs(M.mat[l,k]) > 1e-15):\n",
    "            print(l,k, M.mat[l,k])       "
   ]
  },
  {
   "cell_type": "code",
   "execution_count": null,
   "id": "4efd503c-6b6a-48dd-8132-d0f8bdca93ea",
   "metadata": {},
   "outputs": [],
   "source": [
    "Minv = M.mat.Inverse() "
   ]
  },
  {
   "cell_type": "code",
   "execution_count": null,
   "id": "18866e84-1167-4a35-8397-8f66a2f2cb94",
   "metadata": {},
   "outputs": [],
   "source": [
    "fesHCurl = HCurl(mesh, order=0)\n",
    "uHtest,vHtest = fesHCurl.TnT() # H(curl_Gamma) conform spaces\n",
    "print(fesHCurl.ndof)\n",
    "\n",
    "M = BilinearForm( (Cross(n,uHtest.Trace())* vHtest.Trace() ) * ds(bonus_intorder=3), check_unused=True).Assemble() # <Hdiv, Hcurl> metric invariant\n",
    "#for k in range(0,fesHCurl.ndof):\n",
    "    #for l in range(0, fesHCurl.ndof):\n",
    "    #    if(abs(M.mat[l,k]) > 1e-15):\n",
    "    #        print(l,k, M.mat[l,k])\n",
    "Minv = M.mat.Inverse() "
   ]
  },
  {
   "cell_type": "code",
   "execution_count": null,
   "id": "7c0bee61-7f21-43ad-844f-c50d9bbe0724",
   "metadata": {},
   "outputs": [],
   "source": [
    "fesHDiv = HDivSurface(mesh, order=0)\n",
    "print(fesHDiv.ndof)\n",
    "#print(fesHDiv.FreeDofs())\n",
    "uHdiv,vHdiv = fesHDiv.TnT() # H(div_Gamma) conform spaces\n",
    "M = BilinearForm( (uHdiv.Trace() * vHdiv.Trace() +  div(uHdiv).Trace() * div(vHdiv).Trace() )  * ds(bonus_intorder=3), check_unused=True).Assemble() # <Hcurl, Hdiv>\n",
    "#for k in range(0,fesHDiv.ndof):\n",
    "#    for l in range(0, fesHDiv.ndof):\n",
    "#        if(abs(M.mat[l,k]) > 1e-15):\n",
    "#            print(l,k, M.mat[l,k])      "
   ]
  },
  {
   "cell_type": "code",
   "execution_count": null,
   "id": "b8c42784-c6ba-4b56-a028-f07f6a2c9903",
   "metadata": {},
   "outputs": [],
   "source": [
    "Minv = M.mat.Inverse(freedofs=fesHDiv.FreeDofs()) "
   ]
  },
  {
   "cell_type": "code",
   "execution_count": null,
   "id": "b0d4a9c1-feec-4233-a520-70d6727677b9",
   "metadata": {},
   "outputs": [],
   "source": [
    "fesHDiv = HDivSurface(mesh, order=0)\n",
    "print(fesHDiv.ndof)\n",
    "#print(fesHDiv.FreeDofs())\n",
    "uHdiv,vHdiv = fesHDiv.TnT() # H(div_Gamma) conform spaces\n",
    "M = BilinearForm( (Cross(uHdiv.Trace(),n) * vHdiv.Trace())  * ds(bonus_intorder=3)).Assemble() # <Hcurl, Hdiv>\n",
    "#for k in range(0,fesHDiv.ndof):\n",
    "#    for l in range(0, fesHDiv.ndof):\n",
    "#        if(abs(M.mat[l,k]) > 1e-15):\n",
    "#            print(l,k, M.mat[l,k])\n",
    "Minv = M.mat.Inverse() "
   ]
  },
  {
   "cell_type": "code",
   "execution_count": null,
   "id": "065d8d0b-888e-4c05-876c-f15d4187c7e3",
   "metadata": {},
   "outputs": [],
   "source": []
  }
 ],
 "metadata": {
  "kernelspec": {
   "display_name": "Python 3 (ipykernel)",
   "language": "python",
   "name": "python3"
  },
  "language_info": {
   "codemirror_mode": {
    "name": "ipython",
    "version": 3
   },
   "file_extension": ".py",
   "mimetype": "text/x-python",
   "name": "python",
   "nbconvert_exporter": "python",
   "pygments_lexer": "ipython3",
   "version": "3.11.6"
  }
 },
 "nbformat": 4,
 "nbformat_minor": 5
}
