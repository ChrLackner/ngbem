{
 "cells": [
  {
   "cell_type": "markdown",
   "id": "7ba2b304-c597-408f-8873-5b6f90444a7a",
   "metadata": {},
   "source": [
    "Laplace solver using direct formulation (Dirichlet)\n",
    "==========================\n",
    "**keys**: Laplace double layer potential operator, electrostatics, homogeneous Dirichlet bvp, Neumann data, representation formula"
   ]
  },
  {
   "cell_type": "code",
   "execution_count": null,
   "id": "667a666a-3324-4cc0-a3f0-47ba7aa32d5c",
   "metadata": {},
   "outputs": [],
   "source": [
    "import sys\n",
    "sys.path.append(\"../build/\")\n",
    "from netgen.occ import *\n",
    "import netgen.meshing as meshing\n",
    "from ngsolve import *\n",
    "from ngsolve.webgui import Draw\n",
    "from libbem import *\n",
    "from ngsolve import Projector, Preconditioner\n",
    "from ngsolve.krylovspace import CG"
   ]
  },
  {
   "cell_type": "markdown",
   "id": "41a46028-99d6-4272-beb6-393a396d7c71",
   "metadata": {},
   "source": [
    "Consider the Dirichlet boundary value problem \n",
    "\n",
    "$$ \\left\\{ \\begin{array}{rcl l} \\Delta u &=& 0, \\quad &\\Omega \\subset \\mathbb R^3\\,,\\\\ \\gamma_0 u&=& u_0, \\quad &\\Gamma = \\partial \\Omega\\,.\\end{array} \\right. $$ "
   ]
  },
  {
   "cell_type": "markdown",
   "id": "a1f3128c-f83c-4859-9fab-3ed5a951b794",
   "metadata": {},
   "source": [
    "Let us choose the following ansatz for the solution $u\\in H^1(\\Omega)$ (direct ansatz) \n",
    "\n",
    "$$ u(x) = \\underbrace{ \\int_\\Gamma \\displaystyle{\\frac{1}{4\\,\\pi}\\, \\frac{1}{\\| x-y\\|} } \\, u_1(y)\\, \\mathrm{d}\\sigma_y}_{\\displaystyle{ \\mathrm{ SL}(u_1) }} - \\underbrace{ \\int_\\Gamma \\displaystyle{\\frac{1}{4\\,\\pi}\\, \\frac{\\langle n(y) , x-y\\rangle }{\\| x-y\\|^3} } \\, u_0(y)\\, \\mathrm{d}\\sigma_y}_{\\displaystyle{ \\mathrm{DL}(u_0) }}$$ \n",
    "\n",
    "and solve for the Neumann data $u_1 \\in H^{-\\frac12}(\\Gamma)$ by the boundary element method, i.e., \n",
    "\n",
    "$$ \\forall \\, v\\in H^{-\\frac12}(\\Gamma): \\quad \\left\\langle \\gamma_0 \\left(\\mathrm{SL}(u_1)\\right), v \\right\\rangle_{-\\frac12}= \\left\\langle u_0, v\\right\\rangle_{-\\frac12} + \\left\\langle \\gamma_0 \\left(\\mathrm{DL}(u_0)\\right), v\\right\\rangle_{-\\frac12}\\,. $$"
   ]
  },
  {
   "cell_type": "markdown",
   "id": "be5f96f2-32b2-4d48-883f-8bc994f9388d",
   "metadata": {},
   "source": [
    "Define the geometry $\\Omega \\subset \\mathbb R^3$ and create a mesh:"
   ]
  },
  {
   "cell_type": "code",
   "execution_count": null,
   "id": "c7abb299-0827-4f90-8d0f-6239f08249b2",
   "metadata": {},
   "outputs": [],
   "source": [
    "sp = Sphere( (0,0,0), 1)\n",
    "mesh = Mesh( OCCGeometry(sp).GenerateMesh(maxh=0.2)).Curve(4)\n",
    "#mesh = Mesh(unit_cube.GenerateMesh(maxh=1))"
   ]
  },
  {
   "cell_type": "markdown",
   "id": "8f6fd26c-9809-458b-82e4-958a1206fd5a",
   "metadata": {},
   "source": [
    "Create the finite element spaces for $H^{-\\frac12}(\\Gamma)$ and $H^{\\frac12}(\\Gamma)$ according to the given mesh:  "
   ]
  },
  {
   "cell_type": "code",
   "execution_count": null,
   "id": "d8c2c6d6-b3b3-4f91-8e2b-b63c146b6a09",
   "metadata": {},
   "outputs": [],
   "source": [
    "fesL2 = SurfaceL2(mesh, order=3, dual_mapping=True)\n",
    "u,v = fesL2.TnT()\n",
    "fesH1 = H1(mesh, order=4)\n",
    "uH1,vH1 = fesH1.TnT()\n",
    "print (\"ndofL2 = \", fesL2.ndof, \"ndof H1 = \", fesH1.ndof)"
   ]
  },
  {
   "cell_type": "markdown",
   "id": "1b0307f4-ad7f-4252-84ab-f4c8b14c896d",
   "metadata": {},
   "source": [
    "Compute the interpolation of exact Dirichlet data $u_0$ in finite element space:"
   ]
  },
  {
   "cell_type": "code",
   "execution_count": null,
   "id": "c5267b3c-7006-409c-a9fe-499acf23b57c",
   "metadata": {},
   "outputs": [],
   "source": [
    "uexa = 1/ sqrt( (x-1)**2 + (y-1)**2 + (z-1)**2 )\n",
    "u0 = GridFunction(fesH1)\n",
    "u0.Interpolate (uexa)\n",
    "Draw (u0, mesh, draw_vol=False, order=3)"
   ]
  },
  {
   "cell_type": "markdown",
   "id": "34b34f68-3395-40b2-a0ec-93955123c232",
   "metadata": {},
   "source": [
    "The discretisation of the above variational formulation leads to a system of linear equations, ie \n",
    "\n",
    "$$ \\mathrm{V} \\, \\mathrm{u}_1 = \\left( \\frac12 \\,\\mathrm{M} + \\mathrm{K} \\right) \\, \\mathrm{u}_0\\,, $$ \n",
    "where the linear operators are as follows\n",
    "- $\\mathrm{V}$ is the single layer operator. $\\mathrm V$ is regular and symmetric.\n",
    "- $\\mathrm{M}$ is a mass matrix.\n",
    "- $\\mathrm{K}$ is the double layer operator. "
   ]
  },
  {
   "cell_type": "markdown",
   "id": "bd4292d0-1b19-4847-9f8f-d3660ba78c4a",
   "metadata": {},
   "source": [
    "We approximate the linear operators as hmatrices and solve for the Neumann data $u_1$ with an iterative solver:"
   ]
  },
  {
   "cell_type": "code",
   "execution_count": null,
   "id": "2dafa1fc-8fd2-47b3-a7c7-87c6070c362e",
   "metadata": {},
   "outputs": [],
   "source": [
    "u1 = GridFunction(fesL2)\n",
    "pre = BilinearForm(u*v*ds, diagonal=True).Assemble().mat.Inverse()\n",
    "with TaskManager(): \n",
    "    V = SingleLayerPotentialOperator(fesL2, intorder=12, leafsize=40, eta=3., eps=1e-4, method=\"aca\", testhmatrix=False)\n",
    "\n",
    "    M = BilinearForm( uH1 * v.Trace() * ds(bonus_intorder=3)).Assemble()\n",
    "    K = DoubleLayerPotentialOperator(fesH1, fesL2, intorder=12, leafsize=40, eta=3., eps=1e-4, method=\"aca\")\n",
    "    \n",
    "    rhs = ( (0.5 * M.mat + K.mat) * u0.vec).Evaluate()\n",
    "    CG(mat = V.mat, pre=pre, rhs = rhs, sol=u1.vec, tol=1e-8, maxsteps=200, initialize=False, printrates=True)\n",
    "\n",
    "Draw (u1, mesh, draw_vol=False, order=3);"
   ]
  },
  {
   "cell_type": "code",
   "execution_count": null,
   "id": "2ede1e97-2b3b-4949-98d9-acb703b98fcf",
   "metadata": {
    "scrolled": true
   },
   "outputs": [],
   "source": [
    "for t in Timers():\n",
    "    if \"ngbem\" in t[\"name\"]:\n",
    "        print (t)"
   ]
  },
  {
   "cell_type": "markdown",
   "id": "81767284-bfe5-4cdf-8d97-1f1b607f9588",
   "metadata": {},
   "source": [
    "Let's have a look at the exact Neumann data and compute the error of the numerical solution:"
   ]
  },
  {
   "cell_type": "code",
   "execution_count": null,
   "id": "3446124b-f8ed-4a0c-8965-44808171ad87",
   "metadata": {
    "scrolled": true
   },
   "outputs": [],
   "source": [
    "graduexa = CF( (uexa.Diff(x), uexa.Diff(y), uexa.Diff(z)) )\n",
    "n = specialcf.normal(3)\n",
    "u1exa = graduexa*n\n",
    "Draw (u1exa, mesh, draw_vol=False, order=3)\n",
    "print (\"L2-error =\", sqrt (Integrate ( (u1exa-u1)**2, mesh, BND)))"
   ]
  },
  {
   "cell_type": "markdown",
   "id": "5412ad0c-396b-4d0b-8288-2ab3b96102b2",
   "metadata": {},
   "source": [
    "We evaluate the solution $u$ on an inner sphere and a plane screen:"
   ]
  },
  {
   "cell_type": "code",
   "execution_count": null,
   "id": "2046bc4c-b5a2-4269-86d3-ec5b7aa299ac",
   "metadata": {},
   "outputs": [],
   "source": [
    "# inside sphere\n",
    "screen = Sphere( (0,0,0), 0.5)\n",
    "screen.faces.name=\"screen\"\n",
    "mesh_screen = Mesh( OCCGeometry(screen).GenerateMesh(maxh=0.2)).Curve(4)\n",
    "fes_screen = H1(mesh_screen, order=3)\n",
    "u_sphere = GridFunction(fes_screen)\n",
    "with TaskManager():\n",
    "    u_sphere.Set (V.GetPotential(u1)-K.GetPotential(u0), definedon=mesh_screen.Boundaries(\"screen\"), dual=False)\n",
    "Draw (u_sphere, clipping={\"y\":1, \"z\":1, \"x\":1, \"dist\":0.0, \"function\":True});"
   ]
  },
  {
   "cell_type": "code",
   "execution_count": null,
   "id": "e03ad1bd-ea71-4a75-bc3b-b19ce484afc9",
   "metadata": {},
   "outputs": [],
   "source": [
    "# plane screen \n",
    "screen = WorkPlane(Axes( (0,0,0), Z, X)).RectangleC(0.5,0.5).Face()\n",
    "screen.faces.name=\"screen\"\n",
    "mesh_screen = Mesh( OCCGeometry(screen).GenerateMesh(maxh=1)).Curve(1)\n",
    "fes_screen = H1(mesh_screen, order=3)\n",
    "gf_screen = GridFunction(fes_screen)\n",
    "print (\"ndofscreen=\", fes_screen.ndof)\n",
    "with TaskManager():\n",
    "    gf_screen.Set (V.GetPotential(u1)-K.GetPotential(u0), definedon=mesh_screen.Boundaries(\"screen\"), dual=False)\n",
    "Draw (gf_screen)"
   ]
  },
  {
   "cell_type": "code",
   "execution_count": null,
   "id": "ae9ee085-cace-4d7d-b1ac-dc43013be700",
   "metadata": {},
   "outputs": [],
   "source": []
  }
 ],
 "metadata": {
  "kernelspec": {
   "display_name": "Python 3 (ipykernel)",
   "language": "python",
   "name": "python3"
  },
  "language_info": {
   "codemirror_mode": {
    "name": "ipython",
    "version": 3
   },
   "file_extension": ".py",
   "mimetype": "text/x-python",
   "name": "python",
   "nbconvert_exporter": "python",
   "pygments_lexer": "ipython3",
   "version": "3.11.6"
  }
 },
 "nbformat": 4,
 "nbformat_minor": 5
}
