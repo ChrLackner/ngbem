{
 "cells": [
  {
   "cell_type": "code",
   "execution_count": null,
   "id": "667a666a-3324-4cc0-a3f0-47ba7aa32d5c",
   "metadata": {},
   "outputs": [],
   "source": [
    "import sys\n",
    "sys.path.append('../build')\n",
    "\n",
    "from netgen.occ import *\n",
    "from ngsolve import *\n",
    "from ngsolve.webgui import Draw\n",
    "from libbem import *"
   ]
  },
  {
   "cell_type": "code",
   "execution_count": null,
   "id": "c7abb299-0827-4f90-8d0f-6239f08249b2",
   "metadata": {},
   "outputs": [],
   "source": [
    "sp = Sphere( (0,0,0), 1)\n",
    "mesh = Mesh( OCCGeometry(sp).GenerateMesh(maxh=0.2)).Curve(4)\n",
    "# mesh = Mesh(unit_cube.GenerateMesh(maxh=0.3))"
   ]
  },
  {
   "cell_type": "code",
   "execution_count": null,
   "id": "036485a8-c2b9-4fbe-99da-8cca457dbfdd",
   "metadata": {},
   "outputs": [],
   "source": [
    "u0 = 1/ sqrt( (x+1)**2 + (y+1)**2 + (z+1)**2 )"
   ]
  },
  {
   "cell_type": "code",
   "execution_count": null,
   "id": "d8c2c6d6-b3b3-4f91-8e2b-b63c146b6a09",
   "metadata": {},
   "outputs": [],
   "source": [
    "fes = SurfaceL2(mesh, order=2, dual_mapping=False)\n",
    "u,v = fes.TnT()\n",
    "a = BilinearForm(fes)\n",
    "SingleLayerPotential(a)\n",
    "a.Assemble()\n",
    "# print (a.mat)"
   ]
  },
  {
   "cell_type": "code",
   "execution_count": null,
   "id": "936a02af-acd6-4054-800d-d13cbc995800",
   "metadata": {},
   "outputs": [],
   "source": [
    "f = LinearForm (u0*v.Trace()*ds(bonus_intorder=3)).Assemble()\n",
    "\n",
    "gfv = GridFunction(fes)\n",
    "gfv.vec.data = a.mat.Inverse() * f.vec"
   ]
  },
  {
   "cell_type": "code",
   "execution_count": null,
   "id": "0e260973-f9d0-4e22-a669-f6a78aec76fa",
   "metadata": {
    "scrolled": true
   },
   "outputs": [],
   "source": [
    "# gfv.Set (x, definedon=mesh.Boundaries(\".*\"))\n",
    "Draw (gfv)"
   ]
  },
  {
   "cell_type": "code",
   "execution_count": null,
   "id": "998d7e8c-e3f7-4261-ba6a-dfe4fa087dee",
   "metadata": {},
   "outputs": [],
   "source": [
    "gradu0 = CF( (u0.Diff(x), u0.Diff(y), u0.Diff(z)) )\n",
    "n = specialcf.normal(3)\n",
    "u1 = gradu0*n\n",
    "Draw (u1, mesh, draw_vol=False)"
   ]
  },
  {
   "cell_type": "code",
   "execution_count": null,
   "id": "f98e20f8-00b7-4750-9b2d-d96d3c0ad7b8",
   "metadata": {},
   "outputs": [],
   "source": [
    "for t in Timers():\n",
    "    if \"SingleLayer\" in t[\"name\"]:\n",
    "        print (t)"
   ]
  },
  {
   "cell_type": "code",
   "execution_count": null,
   "id": "e2290d29-69bf-4410-b05b-5866bfb3b85d",
   "metadata": {},
   "outputs": [],
   "source": [
    "print (Norm(gfv.vec))"
   ]
  },
  {
   "cell_type": "code",
   "execution_count": null,
   "id": "b6bccc97-cf58-4393-9cbf-92a6a7837933",
   "metadata": {},
   "outputs": [],
   "source": []
  }
 ],
 "metadata": {
  "kernelspec": {
   "display_name": "Python 3 (ipykernel)",
   "language": "python",
   "name": "python3"
  },
  "language_info": {
   "codemirror_mode": {
    "name": "ipython",
    "version": 3
   },
   "file_extension": ".py",
   "mimetype": "text/x-python",
   "name": "python",
   "nbconvert_exporter": "python",
   "pygments_lexer": "ipython3",
   "version": "3.12.0"
  }
 },
 "nbformat": 4,
 "nbformat_minor": 5
}
