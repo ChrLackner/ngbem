{
 "cells": [
  {
   "cell_type": "code",
   "execution_count": null,
   "id": "667a666a-3324-4cc0-a3f0-47ba7aa32d5c",
   "metadata": {},
   "outputs": [],
   "source": [
    "import sys\n",
    "sys.path.append('../build')\n",
    "\n",
    "from netgen.occ import *\n",
    "from ngsolve import *\n",
    "from ngsolve.webgui import Draw\n",
    "from libbem import *"
   ]
  },
  {
   "cell_type": "markdown",
   "id": "7ba2b304-c597-408f-8873-5b6f90444a7a",
   "metadata": {},
   "source": [
    "Use ngbem as HOBEM solver \n",
    "=============================\n",
    "\n",
    "\n",
    "As first example how it works, consider $$ \\begin{cases} \\Delta u &=& 0, \\quad \\Omega \\subset \\mathbb R^3\\,,\\\\ u&=& u_0, \\quad \\Gamma = \\partial \\Omega\\,.\\end{cases} $$ \n",
    "\n",
    "Consider the following ansatz for the solution  $u\\in H^1(\\Omega)$ of the bvp (indirect ansatz) $$ u(x) = \\int_\\Gamma \\displaystyle{\\frac{1}{4\\,\\pi}\\, \\frac{1}{\\| x-y\\|} } \\, j(y)\\, \\mathrm{d}\\sigma_y $$ and solve for the density $j\\in H^{-\\frac12}(\\Gamma)$ by the boundary element method.\n"
   ]
  },
  {
   "cell_type": "markdown",
   "id": "be5f96f2-32b2-4d48-883f-8bc994f9388d",
   "metadata": {},
   "source": [
    "Define the domain $\\Omega \\subset \\mathbb R^3$ and create a mesh:"
   ]
  },
  {
   "cell_type": "code",
   "execution_count": null,
   "id": "c7abb299-0827-4f90-8d0f-6239f08249b2",
   "metadata": {},
   "outputs": [],
   "source": [
    "#sp = Sphere( (0,0,0), 1)\n",
    "#mesh = Mesh( OCCGeometry(sp).GenerateMesh(maxh=0.3)).Curve(2)\n",
    "mesh = Mesh(unit_cube.GenerateMesh(maxh=1))"
   ]
  },
  {
   "cell_type": "markdown",
   "id": "1b0307f4-ad7f-4252-84ab-f4c8b14c896d",
   "metadata": {},
   "source": [
    "Define dirichlet data:"
   ]
  },
  {
   "cell_type": "code",
   "execution_count": null,
   "id": "c3194f56-dc87-487a-9b08-1dcd99035665",
   "metadata": {},
   "outputs": [],
   "source": [
    "u0 = 1/ sqrt( (x+1)**2 + (y+1)**2 + (z+1)**2 )"
   ]
  },
  {
   "cell_type": "markdown",
   "id": "8f6fd26c-9809-458b-82e4-958a1206fd5a",
   "metadata": {},
   "source": [
    "Create test and trial function finite element spaces for $H^{-\\frac12}(\\Gamma)$ according to the given mesh:  "
   ]
  },
  {
   "cell_type": "code",
   "execution_count": null,
   "id": "d8c2c6d6-b3b3-4f91-8e2b-b63c146b6a09",
   "metadata": {},
   "outputs": [],
   "source": [
    "fesL2 = SurfaceL2(mesh, order=3, dual_mapping=True)\n",
    "u,v = fesL2.TnT()"
   ]
  },
  {
   "cell_type": "markdown",
   "id": "c553ca48-1fdc-45d0-b0b2-a0621ceeb0bd",
   "metadata": {},
   "source": [
    "Assemble single layer potential operator matrix and the right hand side: "
   ]
  },
  {
   "cell_type": "code",
   "execution_count": null,
   "id": "3d18cc77-9cb6-4e05-a11c-adcddd996d6a",
   "metadata": {},
   "outputs": [],
   "source": [
    "a = BilinearForm(fesL2)\n",
    "SingleLayerPotentialOperator(a, intorder=10)\n",
    "a.Assemble();\n",
    "f = LinearForm (u0*v.Trace()*ds(bonus_intorder=3)).Assemble()"
   ]
  },
  {
   "cell_type": "markdown",
   "id": "d094acbe-7ed4-4efc-8182-0265eb9e3e08",
   "metadata": {},
   "source": [
    "Solve the linear system of equations and have a look at the approximation of density $j$:"
   ]
  },
  {
   "cell_type": "code",
   "execution_count": null,
   "id": "936a02af-acd6-4054-800d-d13cbc995800",
   "metadata": {},
   "outputs": [],
   "source": [
    "gfv = GridFunction(fesL2)\n",
    "inv = a.mat.Inverse()\n",
    "gfv.vec.data = inv * f.vec\n",
    "Draw (gfv);"
   ]
  },
  {
   "cell_type": "markdown",
   "id": "66438ea4-55e8-4e54-80c1-dc425c00d9c8",
   "metadata": {},
   "source": [
    "Consider alternative the following ansatz for the solution $u\\in H^1(\\Omega)$ of the above bvp (direct ansatz) $$ u(x) = \\int_\\Gamma \\displaystyle{\\frac{1}{4\\,\\pi}\\, \\frac{1}{\\| x-y\\|} } \\, u_1(y)\\, \\mathrm{d}\\sigma_y - \\int_\\Gamma n(y)\\cdot \\displaystyle{\\frac{1}{4\\,\\pi}\\, \\frac{x-y}{\\| x-y\\|^3} } \\, u_0(y)\\, \\mathrm{d}\\sigma_y  $$ and solve for the Neumann data $u_1 \\in H^{-\\frac12}(\\Gamma)$ by the boundary element method. "
   ]
  },
  {
   "cell_type": "markdown",
   "id": "96878cce-d61e-4d9d-83ef-36140da14a46",
   "metadata": {},
   "source": [
    "We assemble the double layer potential operator with finite element spaces for $H^{\\frac12}(\\Gamma)$ and $H^{-\\frac12}(\\Gamma)$: "
   ]
  },
  {
   "cell_type": "code",
   "execution_count": null,
   "id": "b6bccc97-cf58-4393-9cbf-92a6a7837933",
   "metadata": {},
   "outputs": [],
   "source": [
    "fesH1 = H1(mesh, order=3)\n",
    "uH1,vH1 = fesH1.TnT()\n",
    "b = BilinearForm(trialspace=fesH1, testspace=fesL2)\n",
    "DoubleLayerPotentialOperator(b, intorder=12)\n",
    "b += - 0.5 * uH1 * v.Trace() * ds(bonus_intorder=3)\n",
    "b.Assemble();"
   ]
  },
  {
   "cell_type": "markdown",
   "id": "9670fc97-89fa-4214-9372-b58fca920222",
   "metadata": {},
   "source": [
    "We interpolate the given dirichlet trace in finite element space for $H^{-\\frac12}(\\Gamma)$, compute the rhs and solve the linear system:"
   ]
  },
  {
   "cell_type": "code",
   "execution_count": null,
   "id": "f5161961-7441-4407-9ac2-610c7959ada7",
   "metadata": {},
   "outputs": [],
   "source": [
    "gfdir = GridFunction(fesH1)\n",
    "gfdir.Interpolate (u0)\n",
    "gfv.vec.data = inv @ b.mat * gfdir.vec"
   ]
  },
  {
   "cell_type": "code",
   "execution_count": null,
   "id": "74f4c71a-54ee-4a4f-b12c-040590750915",
   "metadata": {},
   "outputs": [],
   "source": [
    "Draw (-gfv, mesh, draw_vol=False);"
   ]
  },
  {
   "cell_type": "markdown",
   "id": "e6421153-428d-432f-b469-4036419cb566",
   "metadata": {},
   "source": [
    "The solution of the direct ansatz are Neumann data of $u$. Let's look at the exact Neumann trace: "
   ]
  },
  {
   "cell_type": "code",
   "execution_count": null,
   "id": "998d7e8c-e3f7-4261-ba6a-dfe4fa087dee",
   "metadata": {},
   "outputs": [],
   "source": [
    "gradu0 = CF( (u0.Diff(x), u0.Diff(y), u0.Diff(z)) )\n",
    "n = specialcf.normal(3)\n",
    "u1 = gradu0*n\n",
    "Draw (u1, mesh, draw_vol=False);"
   ]
  },
  {
   "cell_type": "markdown",
   "id": "a1f3128c-f83c-4859-9fab-3ed5a951b794",
   "metadata": {},
   "source": [
    "You can find details on the implementation of isoparametric HOBEM for elliptic and Maxwell problems in the following work:\n",
    "\n",
    "\n",
    "[High Order Boundary Elment Methods (2011)](https://publikationen.sulb.uni-saarland.de/bitstream/20.500.11880/26312/1/thesis_weggler_final_6.1.12.pdf)\n",
    "\n"
   ]
  },
  {
   "cell_type": "code",
   "execution_count": null,
   "id": "2ede1e97-2b3b-4949-98d9-acb703b98fcf",
   "metadata": {},
   "outputs": [],
   "source": []
  }
 ],
 "metadata": {
  "kernelspec": {
   "display_name": "Python 3 (ipykernel)",
   "language": "python",
   "name": "python3"
  },
  "language_info": {
   "codemirror_mode": {
    "name": "ipython",
    "version": 3
   },
   "file_extension": ".py",
   "mimetype": "text/x-python",
   "name": "python",
   "nbconvert_exporter": "python",
   "pygments_lexer": "ipython3",
   "version": "3.11.6"
  }
 },
 "nbformat": 4,
 "nbformat_minor": 5
}
