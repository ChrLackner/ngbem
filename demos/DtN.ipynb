{
 "cells": [
  {
   "cell_type": "code",
   "execution_count": 1,
   "id": "667a666a-3324-4cc0-a3f0-47ba7aa32d5c",
   "metadata": {},
   "outputs": [
    {
     "name": "stdout",
     "output_type": "stream",
     "text": [
      "Loading ngbem library\n"
     ]
    },
    {
     "name": "stderr",
     "output_type": "stream",
     "text": [
      "================================================================\n",
      "WARNING: NGSolve was compiled with Netgen \n",
      "         version v6.2.2305-13-g790f4784 but\n",
      "         version v6.2.2305-16-g69025e5e is loaded at run-time!!!\n",
      "================================================================\n"
     ]
    }
   ],
   "source": [
    "import sys\n",
    "sys.path.append('../build')\n",
    "\n",
    "from netgen.occ import *\n",
    "from ngsolve import *\n",
    "from ngsolve.webgui import Draw\n",
    "from libbem import *"
   ]
  },
  {
   "cell_type": "code",
   "execution_count": 2,
   "id": "c7abb299-0827-4f90-8d0f-6239f08249b2",
   "metadata": {},
   "outputs": [],
   "source": [
    "sp = Sphere( (0,0,0), 1)\n",
    "mesh = Mesh( OCCGeometry(sp).GenerateMesh(maxh=0.3)).Curve(2)\n",
    "# mesh = Mesh(unit_cube.GenerateMesh(maxh=0.3))"
   ]
  },
  {
   "cell_type": "code",
   "execution_count": 3,
   "id": "036485a8-c2b9-4fbe-99da-8cca457dbfdd",
   "metadata": {},
   "outputs": [],
   "source": [
    "u0 = 1/ sqrt( (x+1)**2 + (y+1)**2 + (z+1)**2 )"
   ]
  },
  {
   "cell_type": "code",
   "execution_count": 4,
   "id": "d8c2c6d6-b3b3-4f91-8e2b-b63c146b6a09",
   "metadata": {},
   "outputs": [
    {
     "name": "stderr",
     "output_type": "stream",
     "text": [
      "WARNING: kwarg 'dual_mapping' is an undocumented flags option for class <class 'ngsolve.comp.SurfaceL2'>, maybe there is a typo?\n"
     ]
    }
   ],
   "source": [
    "fes = SurfaceL2(mesh, order=2, dual_mapping=True)\n",
    "u,v = fes.TnT()\n",
    "a = BilinearForm(fes)\n",
    "SingleLayerPotential(a, intorder=16)\n",
    "a.Assemble();"
   ]
  },
  {
   "cell_type": "code",
   "execution_count": 5,
   "id": "936a02af-acd6-4054-800d-d13cbc995800",
   "metadata": {},
   "outputs": [],
   "source": [
    "f = LinearForm (u0*v.Trace()*ds(bonus_intorder=3)).Assemble()\n",
    "\n",
    "gfv = GridFunction(fes)\n",
    "inv = a.mat.Inverse()\n",
    "gfv.vec.data = inv * f.vec"
   ]
  },
  {
   "cell_type": "code",
   "execution_count": 6,
   "id": "22ffa2a5-f72a-476c-8fbd-3dd97add5221",
   "metadata": {},
   "outputs": [
    {
     "data": {
      "application/vnd.jupyter.widget-view+json": {
       "model_id": "c25dba53422546c38fb7432aab1580b0",
       "version_major": 2,
       "version_minor": 0
      },
      "text/plain": [
       "WebGuiWidget(layout=Layout(height='50vh', width='100%'), value={'gui_settings': {}, 'ngsolve_version': '6.2.23…"
      ]
     },
     "metadata": {},
     "output_type": "display_data"
    }
   ],
   "source": [
    "Draw (gfv);"
   ]
  },
  {
   "cell_type": "code",
   "execution_count": 7,
   "id": "998d7e8c-e3f7-4261-ba6a-dfe4fa087dee",
   "metadata": {},
   "outputs": [
    {
     "data": {
      "application/vnd.jupyter.widget-view+json": {
       "model_id": "51353392f7fc4cdab3c23657a488d3b9",
       "version_major": 2,
       "version_minor": 0
      },
      "text/plain": [
       "WebGuiWidget(layout=Layout(height='50vh', width='100%'), value={'gui_settings': {}, 'ngsolve_version': '6.2.23…"
      ]
     },
     "metadata": {},
     "output_type": "display_data"
    }
   ],
   "source": [
    "gradu0 = CF( (u0.Diff(x), u0.Diff(y), u0.Diff(z)) )\n",
    "n = specialcf.normal(3)\n",
    "u1 = gradu0*n\n",
    "Draw (u1, mesh, draw_vol=False);"
   ]
  },
  {
   "cell_type": "code",
   "execution_count": 8,
   "id": "f98e20f8-00b7-4750-9b2d-d96d3c0ad7b8",
   "metadata": {},
   "outputs": [
    {
     "name": "stdout",
     "output_type": "stream",
     "text": [
      "{'name': 'SingleLayer - disjoint2', 'time': 24.55448671959417, 'counts': 90910, 'flops': 0.0, 'Gflop/s': 0.0}\n",
      "{'name': 'SingleLayer - disjoint', 'time': 26.61041194898356, 'counts': 90910, 'flops': 0.0, 'Gflop/s': 0.0}\n",
      "{'name': 'SingleLayer - common edge', 'time': 11.34377154423237, 'counts': 924, 'flops': 0.0, 'Gflop/s': 0.0}\n",
      "{'name': 'SingleLayer - common vertex', 'time': 13.380266964061242, 'counts': 2722, 'flops': 0.0, 'Gflop/s': 0.0}\n",
      "{'name': 'SingleLayer - identic panel', 'time': 4.530227602815268, 'counts': 308, 'flops': 0.0, 'Gflop/s': 0.0}\n",
      "{'name': 'SingleLayer - all', 'time': 56.01938799395096, 'counts': 1, 'flops': 0.0, 'Gflop/s': 0.0}\n"
     ]
    }
   ],
   "source": [
    "for t in Timers():\n",
    "    if \"SingleLayer\" in t[\"name\"]:\n",
    "        print (t)"
   ]
  },
  {
   "cell_type": "code",
   "execution_count": 9,
   "id": "b6bccc97-cf58-4393-9cbf-92a6a7837933",
   "metadata": {},
   "outputs": [],
   "source": [
    "fesh1 = H1(mesh, order=3)\n",
    "uH1,vH1 = fesh1.TnT()\n",
    "b = BilinearForm(trialspace=fesh1, testspace=fes)\n",
    "DoubleLayerPotential(b, intorder=16)\n",
    "b += - 0.5 * uH1 * v.Trace() * ds(bonus_intorder=3)\n",
    "b.Assemble();"
   ]
  },
  {
   "cell_type": "code",
   "execution_count": 10,
   "id": "f5161961-7441-4407-9ac2-610c7959ada7",
   "metadata": {},
   "outputs": [],
   "source": [
    "gfdir = GridFunction(fesh1)\n",
    "gfdir.Interpolate (u0)\n",
    "\n",
    "gfv.vec.data = inv @ b.mat * gfdir.vec"
   ]
  },
  {
   "cell_type": "code",
   "execution_count": null,
   "id": "74f4c71a-54ee-4a4f-b12c-040590750915",
   "metadata": {},
   "outputs": [],
   "source": [
    "Draw (-gfv, mesh, draw_vol=False);"
   ]
  },
  {
   "cell_type": "code",
   "execution_count": null,
   "id": "2ede1e97-2b3b-4949-98d9-acb703b98fcf",
   "metadata": {},
   "outputs": [],
   "source": []
  }
 ],
 "metadata": {
  "kernelspec": {
   "display_name": "Python 3 (ipykernel)",
   "language": "python",
   "name": "python3"
  },
  "language_info": {
   "codemirror_mode": {
    "name": "ipython",
    "version": 3
   },
   "file_extension": ".py",
   "mimetype": "text/x-python",
   "name": "python",
   "nbconvert_exporter": "python",
   "pygments_lexer": "ipython3",
   "version": "3.11.6"
  }
 },
 "nbformat": 4,
 "nbformat_minor": 5
}
