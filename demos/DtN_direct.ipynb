{
 "cells": [
  {
   "cell_type": "code",
   "execution_count": 7,
   "id": "667a666a-3324-4cc0-a3f0-47ba7aa32d5c",
   "metadata": {},
   "outputs": [],
   "source": [
    "import sys\n",
    "sys.path.append('../build')\n",
    "\n",
    "from netgen.occ import *\n",
    "from ngsolve import *\n",
    "from ngsolve.webgui import Draw\n",
    "from libbem import *\n",
    "from ngsolve import Projector, Preconditioner\n",
    "from ngsolve.krylovspace import CG"
   ]
  },
  {
   "cell_type": "markdown",
   "id": "7ba2b304-c597-408f-8873-5b6f90444a7a",
   "metadata": {},
   "source": [
    "Use ngbem as HOBEM solver \n",
    "=============================\n",
    "\n",
    "\n",
    "As first example how it works, consider $$ \\begin{cases} \\Delta u &=& 0, \\quad \\Omega \\subset \\mathbb R^3\\,,\\\\ u&=& u_0, \\quad \\Gamma = \\partial \\Omega\\,.\\end{cases} $$ "
   ]
  },
  {
   "cell_type": "markdown",
   "id": "a1f3128c-f83c-4859-9fab-3ed5a951b794",
   "metadata": {},
   "source": [
    "Consider the following ansatz for the solution $u\\in H^1(\\Omega)$ of the above bvp (direct ansatz) $$ u(x) = \\underbrace{ \\int_\\Gamma \\displaystyle{\\frac{1}{4\\,\\pi}\\, \\frac{1}{\\| x-y\\|} } \\, u_1(y)\\, \\mathrm{d}\\sigma_y}_{\\displaystyle{ \\mathrm{ SL}(u_1) }} - \\underbrace{ \\int_\\Gamma n(y)\\cdot \\displaystyle{\\frac{1}{4\\,\\pi}\\, \\frac{x-y}{\\| x-y\\|^3} } \\, u_0(y)\\, \\mathrm{d}\\sigma_y}_{\\displaystyle{ \\mathrm{DL}(u_0) }}  $$ and solve for the Neumann data $u_1 \\in H^{-\\frac12}(\\Gamma)$ by the boundary element method, i.e., $$ \\forall \\, v\\in H^{-\\frac12}(\\Gamma): \\quad \\left\\langle \\gamma_0 \\left(\\mathrm{SL}(u_1)\\right), v \\right\\rangle_{-\\frac12} = \\left\\langle u_0, v\\right\\rangle_{-\\frac12} + \\left\\langle \\gamma_0 \\left(\\mathrm{DL}(u_0)\\right), v\\right\\rangle_{-\\frac12} \\,. $$"
   ]
  },
  {
   "cell_type": "markdown",
   "id": "be5f96f2-32b2-4d48-883f-8bc994f9388d",
   "metadata": {},
   "source": [
    "Define the domain $\\Omega \\subset \\mathbb R^3$ and create a mesh:"
   ]
  },
  {
   "cell_type": "code",
   "execution_count": 2,
   "id": "c7abb299-0827-4f90-8d0f-6239f08249b2",
   "metadata": {},
   "outputs": [],
   "source": [
    "sp = Sphere( (0,0,0), 1)\n",
    "mesh = Mesh( OCCGeometry(sp).GenerateMesh(maxh=0.3)).Curve(2)\n",
    "#mesh = Mesh(unit_cube.GenerateMesh(maxh=1))"
   ]
  },
  {
   "cell_type": "markdown",
   "id": "1b0307f4-ad7f-4252-84ab-f4c8b14c896d",
   "metadata": {},
   "source": [
    "Define dirichlet data:"
   ]
  },
  {
   "cell_type": "code",
   "execution_count": 3,
   "id": "c3194f56-dc87-487a-9b08-1dcd99035665",
   "metadata": {},
   "outputs": [],
   "source": [
    "u0 = 1/ sqrt( (x+1)**2 + (y+1)**2 + (z+1)**2 )"
   ]
  },
  {
   "cell_type": "markdown",
   "id": "8f6fd26c-9809-458b-82e4-958a1206fd5a",
   "metadata": {},
   "source": [
    "Create the finite element spaces for $H^{-\\frac12}(\\Gamma)$ and $H^{\\frac12}(\\Gamma)$ according to the given mesh:  "
   ]
  },
  {
   "cell_type": "code",
   "execution_count": 4,
   "id": "d8c2c6d6-b3b3-4f91-8e2b-b63c146b6a09",
   "metadata": {},
   "outputs": [
    {
     "name": "stderr",
     "output_type": "stream",
     "text": [
      "WARNING: kwarg 'dual_mapping' is an undocumented flags option for class <class 'ngsolve.comp.SurfaceL2'>, maybe there is a typo?\n"
     ]
    }
   ],
   "source": [
    "fesL2 = SurfaceL2(mesh, order=3, dual_mapping=True)\n",
    "u,v = fesL2.TnT()\n",
    "fesH1 = H1(mesh, order=3)\n",
    "uH1,vH1 = fesH1.TnT()"
   ]
  },
  {
   "cell_type": "code",
   "execution_count": 5,
   "id": "c5267b3c-7006-409c-a9fe-499acf23b57c",
   "metadata": {},
   "outputs": [
    {
     "name": "stdout",
     "output_type": "stream",
     "text": [
      "dense: 3080 x 2815\n",
      "error 1.60475e-09\n"
     ]
    }
   ],
   "source": [
    "K = BilinearForm(trialspace=fesH1, testspace=fesL2, nonassemble=True)\n",
    "DoubleLayerPotentialOperator(K, intorder=10, leafsize=40, eta=3., eps=1e-10, method=\"svd\")\n",
    "K += - 0.5 * uH1 * v.Trace() * ds(bonus_intorder=3)\n",
    "gfdir = GridFunction(fesH1)\n",
    "gfdir.Interpolate (u0)"
   ]
  },
  {
   "cell_type": "markdown",
   "id": "bd4292d0-1b19-4847-9f8f-d3660ba78c4a",
   "metadata": {},
   "source": [
    "Assemble low-rank approximation single layer potential matrix (H-matrix) and solve for the Neumann data $u_1$ with iterative solver:"
   ]
  },
  {
   "cell_type": "code",
   "execution_count": 9,
   "id": "8acec479-eb95-4258-a200-2389cacdee45",
   "metadata": {},
   "outputs": [
    {
     "name": "stdout",
     "output_type": "stream",
     "text": [
      "HMatrix done \n",
      "dense: 3080 x 3080\n",
      "error 4.86664e-09\n"
     ]
    },
    {
     "ename": "AssertionError",
     "evalue": "",
     "output_type": "error",
     "traceback": [
      "\u001b[0;31m---------------------------------------------------------------------------\u001b[0m",
      "\u001b[0;31mAssertionError\u001b[0m                            Traceback (most recent call last)",
      "Cell \u001b[0;32mIn[9], line 5\u001b[0m\n\u001b[1;32m      3\u001b[0m     SingleLayerPotentialOperator(V, intorder\u001b[38;5;241m=\u001b[39m\u001b[38;5;241m10\u001b[39m, leafsize\u001b[38;5;241m=\u001b[39m\u001b[38;5;241m40\u001b[39m, eta\u001b[38;5;241m=\u001b[39m\u001b[38;5;241m3.\u001b[39m, eps\u001b[38;5;241m=\u001b[39m\u001b[38;5;241m1e-10\u001b[39m, method\u001b[38;5;241m=\u001b[39m\u001b[38;5;124m\"\u001b[39m\u001b[38;5;124msvd\u001b[39m\u001b[38;5;124m\"\u001b[39m)\n\u001b[1;32m      4\u001b[0m     gfv \u001b[38;5;241m=\u001b[39m GridFunction(fesL2)\n\u001b[0;32m----> 5\u001b[0m     \u001b[43mCG\u001b[49m\u001b[43m(\u001b[49m\u001b[43mmat\u001b[49m\u001b[43m \u001b[49m\u001b[38;5;241;43m=\u001b[39;49m\u001b[43m \u001b[49m\u001b[43mV\u001b[49m\u001b[38;5;241;43m.\u001b[39;49m\u001b[43mmat\u001b[49m\u001b[43m,\u001b[49m\u001b[43m \u001b[49m\u001b[43mrhs\u001b[49m\u001b[43m \u001b[49m\u001b[38;5;241;43m=\u001b[39;49m\u001b[43m \u001b[49m\u001b[43mK\u001b[49m\u001b[38;5;241;43m.\u001b[39;49m\u001b[43mmat\u001b[49m\u001b[38;5;241;43m*\u001b[39;49m\u001b[43mgfdir\u001b[49m\u001b[38;5;241;43m.\u001b[39;49m\u001b[43mvec\u001b[49m\u001b[43m,\u001b[49m\u001b[43m \u001b[49m\u001b[43mpre\u001b[49m\u001b[38;5;241;43m=\u001b[39;49m\u001b[38;5;28;43;01mNone\u001b[39;49;00m\u001b[43m,\u001b[49m\u001b[43m \u001b[49m\u001b[43msol\u001b[49m\u001b[38;5;241;43m=\u001b[39;49m\u001b[43mgfv\u001b[49m\u001b[38;5;241;43m.\u001b[39;49m\u001b[43mvec\u001b[49m\u001b[43m,\u001b[49m\u001b[43m \u001b[49m\u001b[43mtol\u001b[49m\u001b[38;5;241;43m=\u001b[39;49m\u001b[38;5;241;43m1e-8\u001b[39;49m\u001b[43m,\u001b[49m\u001b[43m \u001b[49m\u001b[43mmaxsteps\u001b[49m\u001b[38;5;241;43m=\u001b[39;49m\u001b[38;5;241;43m200\u001b[39;49m\u001b[43m,\u001b[49m\u001b[43m \u001b[49m\u001b[43minitialize\u001b[49m\u001b[38;5;241;43m=\u001b[39;49m\u001b[38;5;28;43;01mFalse\u001b[39;49;00m\u001b[43m,\u001b[49m\u001b[43m \u001b[49m\u001b[43mprintrates\u001b[49m\u001b[38;5;241;43m=\u001b[39;49m\u001b[38;5;28;43;01mTrue\u001b[39;49;00m\u001b[43m)\u001b[49m\n\u001b[1;32m      6\u001b[0m \u001b[38;5;66;03m#    solvers.BVP(bf=V, lf=K.mat*gfdir.vec, gf=gfv, solver=CGSolver)\u001b[39;00m\n\u001b[1;32m      7\u001b[0m Draw (\u001b[38;5;241m-\u001b[39mgfv, mesh, draw_vol\u001b[38;5;241m=\u001b[39m\u001b[38;5;28;01mFalse\u001b[39;00m);\n",
      "File \u001b[0;32m~/ngsuite/ngsolve-install/lib/python3.11/dist-packages/ngsolve/krylovspace.py:253\u001b[0m, in \u001b[0;36mCG\u001b[0;34m(mat, rhs, pre, sol, tol, maxsteps, printrates, initialize, conjugate, callback, **kwargs)\u001b[0m\n\u001b[1;32m    212\u001b[0m \u001b[38;5;28;01mdef\u001b[39;00m \u001b[38;5;21mCG\u001b[39m(mat, rhs, pre\u001b[38;5;241m=\u001b[39m\u001b[38;5;28;01mNone\u001b[39;00m, sol\u001b[38;5;241m=\u001b[39m\u001b[38;5;28;01mNone\u001b[39;00m, tol\u001b[38;5;241m=\u001b[39m\u001b[38;5;241m1e-12\u001b[39m, maxsteps \u001b[38;5;241m=\u001b[39m \u001b[38;5;241m100\u001b[39m, printrates \u001b[38;5;241m=\u001b[39m \u001b[38;5;28;01mTrue\u001b[39;00m, initialize \u001b[38;5;241m=\u001b[39m \u001b[38;5;28;01mTrue\u001b[39;00m, conjugate\u001b[38;5;241m=\u001b[39m\u001b[38;5;28;01mFalse\u001b[39;00m, callback\u001b[38;5;241m=\u001b[39m\u001b[38;5;28;01mNone\u001b[39;00m, \u001b[38;5;241m*\u001b[39m\u001b[38;5;241m*\u001b[39mkwargs):\n\u001b[1;32m    213\u001b[0m \u001b[38;5;250m    \u001b[39m\u001b[38;5;124;03m\"\"\"preconditioned conjugate gradient method\u001b[39;00m\n\u001b[1;32m    214\u001b[0m \n\u001b[1;32m    215\u001b[0m \n\u001b[0;32m   (...)\u001b[0m\n\u001b[1;32m    251\u001b[0m \n\u001b[1;32m    252\u001b[0m \u001b[38;5;124;03m    \"\"\"\u001b[39;00m\n\u001b[0;32m--> 253\u001b[0m     solver \u001b[38;5;241m=\u001b[39m \u001b[43mCGSolver\u001b[49m\u001b[43m(\u001b[49m\u001b[43mmat\u001b[49m\u001b[38;5;241;43m=\u001b[39;49m\u001b[43mmat\u001b[49m\u001b[43m,\u001b[49m\u001b[43m \u001b[49m\u001b[43mpre\u001b[49m\u001b[38;5;241;43m=\u001b[39;49m\u001b[43mpre\u001b[49m\u001b[43m,\u001b[49m\u001b[43m \u001b[49m\u001b[43mconjugate\u001b[49m\u001b[38;5;241;43m=\u001b[39;49m\u001b[43mconjugate\u001b[49m\u001b[43m,\u001b[49m\u001b[43m \u001b[49m\u001b[43mtol\u001b[49m\u001b[38;5;241;43m=\u001b[39;49m\u001b[43mtol\u001b[49m\u001b[43m,\u001b[49m\u001b[43m \u001b[49m\u001b[43mmaxiter\u001b[49m\u001b[38;5;241;43m=\u001b[39;49m\u001b[43mmaxsteps\u001b[49m\u001b[43m,\u001b[49m\n\u001b[1;32m    254\u001b[0m \u001b[43m                      \u001b[49m\u001b[43mcallback\u001b[49m\u001b[38;5;241;43m=\u001b[39;49m\u001b[43mcallback\u001b[49m\u001b[43m,\u001b[49m\u001b[43m \u001b[49m\u001b[43mprintrates\u001b[49m\u001b[38;5;241;43m=\u001b[39;49m\u001b[43mprintrates\u001b[49m\u001b[43m,\u001b[49m\u001b[43m \u001b[49m\u001b[38;5;241;43m*\u001b[39;49m\u001b[38;5;241;43m*\u001b[39;49m\u001b[43mkwargs\u001b[49m\u001b[43m)\u001b[49m\n\u001b[1;32m    255\u001b[0m     solver\u001b[38;5;241m.\u001b[39mSolve(rhs\u001b[38;5;241m=\u001b[39mrhs, sol\u001b[38;5;241m=\u001b[39msol, initialize\u001b[38;5;241m=\u001b[39minitialize)\n\u001b[1;32m    256\u001b[0m     \u001b[38;5;28;01mreturn\u001b[39;00m solver\u001b[38;5;241m.\u001b[39msol\n",
      "File \u001b[0;32m~/ngsuite/ngsolve-install/lib/python3.11/dist-packages/ngsolve/krylovspace.py:174\u001b[0m, in \u001b[0;36mCGSolver.__init__\u001b[0;34m(self, conjugate, abstol, maxsteps, printing, *args, **kwargs)\u001b[0m\n\u001b[1;32m    172\u001b[0m     \u001b[38;5;28mprint\u001b[39m(\u001b[38;5;124m\"\u001b[39m\u001b[38;5;124mWARNING: maxsteps is deprecated, use maxiter instead!\u001b[39m\u001b[38;5;124m\"\u001b[39m)\n\u001b[1;32m    173\u001b[0m     kwargs[\u001b[38;5;124m\"\u001b[39m\u001b[38;5;124mmaxiter\u001b[39m\u001b[38;5;124m\"\u001b[39m] \u001b[38;5;241m=\u001b[39m maxsteps\n\u001b[0;32m--> 174\u001b[0m \u001b[38;5;28;43msuper\u001b[39;49m\u001b[43m(\u001b[49m\u001b[43m)\u001b[49m\u001b[38;5;241;43m.\u001b[39;49m\u001b[38;5;21;43m__init__\u001b[39;49m\u001b[43m(\u001b[49m\u001b[38;5;241;43m*\u001b[39;49m\u001b[43margs\u001b[49m\u001b[43m,\u001b[49m\u001b[43m \u001b[49m\u001b[38;5;241;43m*\u001b[39;49m\u001b[38;5;241;43m*\u001b[39;49m\u001b[43mkwargs\u001b[49m\u001b[43m)\u001b[49m\n\u001b[1;32m    175\u001b[0m \u001b[38;5;28mself\u001b[39m\u001b[38;5;241m.\u001b[39mconjugate \u001b[38;5;241m=\u001b[39m conjugate\n",
      "File \u001b[0;32m~/ngsuite/ngsolve-install/lib/python3.11/dist-packages/ngsolve/krylovspace.py:64\u001b[0m, in \u001b[0;36mLinearSolver.__init__\u001b[0;34m(self, mat, pre, freedofs, tol, maxiter, atol, callback, callback_sol, printrates)\u001b[0m\n\u001b[1;32m     62\u001b[0m     tol \u001b[38;5;241m=\u001b[39m \u001b[38;5;241m1e-12\u001b[39m\n\u001b[1;32m     63\u001b[0m \u001b[38;5;28mself\u001b[39m\u001b[38;5;241m.\u001b[39mmat \u001b[38;5;241m=\u001b[39m mat\n\u001b[0;32m---> 64\u001b[0m \u001b[38;5;28;01massert\u001b[39;00m (freedofs \u001b[38;5;129;01mis\u001b[39;00m \u001b[38;5;28;01mNone\u001b[39;00m) \u001b[38;5;241m!=\u001b[39m (pre \u001b[38;5;129;01mis\u001b[39;00m \u001b[38;5;28;01mNone\u001b[39;00m) \u001b[38;5;66;03m# either pre or freedofs must be given\u001b[39;00m\n\u001b[1;32m     65\u001b[0m \u001b[38;5;28mself\u001b[39m\u001b[38;5;241m.\u001b[39mpre \u001b[38;5;241m=\u001b[39m pre \u001b[38;5;28;01mif\u001b[39;00m pre \u001b[38;5;28;01melse\u001b[39;00m Projector(freedofs, \u001b[38;5;28;01mTrue\u001b[39;00m)\n\u001b[1;32m     66\u001b[0m \u001b[38;5;28mself\u001b[39m\u001b[38;5;241m.\u001b[39mtol \u001b[38;5;241m=\u001b[39m tol\n",
      "\u001b[0;31mAssertionError\u001b[0m: "
     ]
    }
   ],
   "source": [
    "V = BilinearForm(fesL2, nonassemble=True)\n",
    "with TaskManager(pajetrace=1000*1000*1000):\n",
    "    SingleLayerPotentialOperator(V, intorder=10, leafsize=40, eta=3., eps=1e-10, method=\"svd\")\n",
    "    gfv = GridFunction(fesL2)\n",
    "    CG(mat = V.mat, rhs = K.mat*gfdir.vec, pre=None, sol=gfv.vec, tol=1e-8, maxsteps=200, initialize=False, printrates=True)\n",
    "#    solvers.BVP(bf=V, lf=K.mat*gfdir.vec, gf=gfv, solver=CGSolver)\n",
    "Draw (-gfv, mesh, draw_vol=False);"
   ]
  },
  {
   "cell_type": "code",
   "execution_count": null,
   "id": "2ede1e97-2b3b-4949-98d9-acb703b98fcf",
   "metadata": {},
   "outputs": [],
   "source": [
    "for t in Timers():\n",
    "    if \"ngbem\" in t[\"name\"]:\n",
    "        print (t)"
   ]
  },
  {
   "cell_type": "code",
   "execution_count": null,
   "id": "3446124b-f8ed-4a0c-8965-44808171ad87",
   "metadata": {},
   "outputs": [],
   "source": [
    "gradu0 = CF( (u0.Diff(x), u0.Diff(y), u0.Diff(z)) )\n",
    "n = specialcf.normal(3)\n",
    "u1 = gradu0*n\n",
    "Draw (u1, mesh, draw_vol=False);"
   ]
  }
 ],
 "metadata": {
  "kernelspec": {
   "display_name": "Python 3 (ipykernel)",
   "language": "python",
   "name": "python3"
  },
  "language_info": {
   "codemirror_mode": {
    "name": "ipython",
    "version": 3
   },
   "file_extension": ".py",
   "mimetype": "text/x-python",
   "name": "python",
   "nbconvert_exporter": "python",
   "pygments_lexer": "ipython3",
   "version": "3.11.6"
  }
 },
 "nbformat": 4,
 "nbformat_minor": 5
}
