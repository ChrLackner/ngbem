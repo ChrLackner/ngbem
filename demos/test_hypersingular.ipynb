{
 "cells": [
  {
   "cell_type": "code",
   "execution_count": null,
   "id": "813a7d56-14bb-412e-ad82-828c7954d860",
   "metadata": {},
   "outputs": [],
   "source": [
    "import sys\n",
    "sys.path.append('../build')\n",
    "\n",
    "from netgen.occ import *\n",
    "from ngsolve import *\n",
    "from ngsolve.webgui import Draw\n",
    "from libbem import *\n",
    "from ngsolve import Projector, Preconditioner\n",
    "from ngsolve.krylovspace import CG"
   ]
  },
  {
   "cell_type": "code",
   "execution_count": null,
   "id": "fdc2b350-833b-47d0-b37f-c2a2ce73f9c2",
   "metadata": {},
   "outputs": [],
   "source": [
    "sp = Sphere( (0,0,0), 1)\n",
    "mesh = Mesh( OCCGeometry(sp).GenerateMesh(maxh=0.3)).Curve(2)"
   ]
  },
  {
   "cell_type": "code",
   "execution_count": null,
   "id": "da3065d0-817d-4268-a14a-c9494e084ab3",
   "metadata": {},
   "outputs": [],
   "source": [
    "u0 = 1/ sqrt( (x+1)**2 + (y+1)**2 + (z+1)**2 )"
   ]
  },
  {
   "cell_type": "code",
   "execution_count": null,
   "id": "9078bc2e-e3de-4564-a6f2-69553e6d1c39",
   "metadata": {},
   "outputs": [],
   "source": [
    "# fesL2 = SurfaceL2(mesh, order=1, dual_mapping=True)\n",
    "# u,v = fesL2.TnT()\n",
    "fesH1 = H1(mesh, order=2, definedon=mesh.Boundaries(\".*\"))\n",
    "uH1,vH1 = fesH1.TnT()\n",
    "print (\"ndof H1 = \", fesH1.ndof)"
   ]
  },
  {
   "cell_type": "code",
   "execution_count": null,
   "id": "7e872d44-2db1-47c6-bb03-cff11a9fcba4",
   "metadata": {},
   "outputs": [],
   "source": [
    "D=HypersingularOperator(fesH1, intorder=12, leafsize=40, eta=3., eps=1e-11, \n",
    "                                    method=\"svd\", testhmatrix=False)\n"
   ]
  },
  {
   "cell_type": "code",
   "execution_count": null,
   "id": "5846e667-b6f0-4800-b5d2-42a93218b0c9",
   "metadata": {},
   "outputs": [],
   "source": [
    "gfu = GridFunction(fesH1)\n",
    "gfu.Set (u0, definedon=mesh.Boundaries(\".*\"))\n",
    "\n",
    "mass = BilinearForm(uH1*vH1*ds).Assemble().mat\n",
    "invmass = mass.Inverse(freedofs=fesH1.FreeDofs())\n",
    "\n",
    "gf = GridFunction(fesH1)\n",
    "gf.vec.data = (invmass@D.mat*gfu.vec).Evaluate()\n",
    "print (Norm(D.mat*gfu.vec))\n",
    "Draw (gf)"
   ]
  },
  {
   "cell_type": "code",
   "execution_count": null,
   "id": "a01832e5-b361-4714-adf5-d67d364cf6f5",
   "metadata": {},
   "outputs": [],
   "source": []
  },
  {
   "cell_type": "code",
   "execution_count": null,
   "id": "40c92301-bb2a-43e8-938f-ee031a8ec8cd",
   "metadata": {},
   "outputs": [],
   "source": []
  }
 ],
 "metadata": {
  "kernelspec": {
   "display_name": "Python 3 (ipykernel)",
   "language": "python",
   "name": "python3"
  },
  "language_info": {
   "codemirror_mode": {
    "name": "ipython",
    "version": 3
   },
   "file_extension": ".py",
   "mimetype": "text/x-python",
   "name": "python",
   "nbconvert_exporter": "python",
   "pygments_lexer": "ipython3",
   "version": "3.12.1"
  }
 },
 "nbformat": 4,
 "nbformat_minor": 5
}
