{
 "cells": [
  {
   "cell_type": "markdown",
   "id": "27439a9a-bf23-4761-bb28-b73132b97f25",
   "metadata": {},
   "source": [
    "Maxwell solver with mixed BC\n",
    "============================\n",
    "**keys**: mixed bvp, MoM, PEC scattering"
   ]
  },
  {
   "cell_type": "code",
   "execution_count": null,
   "id": "4220f8af-1580-467a-801e-6ef49d43c70c",
   "metadata": {},
   "outputs": [],
   "source": [
    "import sys\n",
    "sys.path.append(\"../build/\")\n",
    "from netgen.occ import *\n",
    "import netgen.meshing as meshing\n",
    "from ngsolve import *\n",
    "from ngsolve.webgui import Draw\n",
    "from libbem import *\n",
    "from ngsolve import Projector, Preconditioner\n",
    "from ngsolve.krylovspace import CG, GMRes"
   ]
  },
  {
   "cell_type": "code",
   "execution_count": null,
   "id": "b3bee3e9-b23a-43dd-b5d9-8f9265af827a",
   "metadata": {},
   "outputs": [],
   "source": [
    "topsphere = Sphere((0,0,0), 1) * Box((-1,-1,0),(1,1,1))\n",
    "botsphere = Sphere((0,0,0), 1) - Box((-1,-1,0),(1,1,1))\n",
    "topsphere.faces.name = \"neumann\" # 1/kappa n x curl E\n",
    "botsphere.faces.name = \"dirichlet\" # nxE\n",
    "shape = Fuse( [topsphere,botsphere] )\n",
    "\n",
    "order = 3\n",
    "mesh = Mesh(OCCGeometry(shape).GenerateMesh(maxh=0.5)).Curve(order)\n",
    "#Draw (mesh);"
   ]
  },
  {
   "cell_type": "markdown",
   "id": "2b563978-852c-442d-84e9-ef5dd152645b",
   "metadata": {},
   "source": [
    "Consider the mixed problem:\n",
    "\n",
    "- bottom sphere: Dirichlet boundary with given $\\gamma_D \\, E = \\boldsymbol m$ (PEC)\n",
    "- top sphere: Neumann boundary with given $\\gamma_N \\, E = \\boldsymbol j$ (computed from PEC solution)\n",
    "  \n",
    "The Neumann boundary condition is manufactured as follows. We solve Neumann trace of the scattered electric field and rebuild a perfect electric conductor on the whole boundary. "
   ]
  },
  {
   "cell_type": "code",
   "execution_count": null,
   "id": "5a6ee11f-4bc6-4cc8-9408-c4d6d9c4727d",
   "metadata": {},
   "outputs": [],
   "source": [
    "order = 3\n",
    "fesHDiv = HDivSurface(mesh, order=order, complex=True)\n",
    "uHDiv,vHDiv = fesHDiv.TnT() "
   ]
  },
  {
   "cell_type": "markdown",
   "id": "072b149e-d83c-46f6-9d30-b0a432e7dcdd",
   "metadata": {},
   "source": [
    "Define the incoming plane wave and compute the given Dirichlet data $\\boldsymbol m$: "
   ]
  },
  {
   "cell_type": "code",
   "execution_count": null,
   "id": "2ea25412-738b-469b-a30c-990d32089e9c",
   "metadata": {},
   "outputs": [],
   "source": [
    "eps0 = 8.854e-12 \n",
    "mu0 = 4*pi*1e-7\n",
    "omega = 1.5e9\n",
    "kappa = omega*sqrt(eps0*mu0)\n",
    "print(\"kappa = \", kappa)\n",
    "\n",
    "E_inc = CF((1,0,0))*exp( -1j * kappa * z )\n",
    "\n",
    "n = specialcf.normal(3)\n",
    "m = GridFunction(fesHDiv) \n",
    "m.Set( - Cross(n, E_inc) , definedon=mesh.Boundaries(\".*\"), dual=True) # Hdiv\n",
    "#Draw(Norm(m), mesh, draw_vol=False, order=2) ;"
   ]
  },
  {
   "cell_type": "code",
   "execution_count": null,
   "id": "36d6ba11-6bc7-4d76-a114-b7119b3b90e7",
   "metadata": {},
   "outputs": [],
   "source": [
    "# V, K: use Hdiv as TnT  \n",
    "intorder = 2 * order + 6\n",
    "with TaskManager(): \n",
    "    V = MaxwellSingleLayerPotentialOperator(fesHDiv, kappa, intorder=intorder, eps=1e-4)\n",
    "    K = MaxwellDoubleLayerPotentialOperatorNew(fesHDiv, kappa, intorder=intorder, eps=1e-4)"
   ]
  },
  {
   "cell_type": "code",
   "execution_count": null,
   "id": "86468414-ef61-462e-a97d-6dbd0e1f5098",
   "metadata": {},
   "outputs": [],
   "source": [
    "j = GridFunction(fesHDiv) \n",
    "pre = BilinearForm( uHDiv.Trace() * vHDiv.Trace() *ds).Assemble().mat.Inverse(freedofs=fesHDiv.FreeDofs()) \n",
    "with TaskManager(): \n",
    "    M = BilinearForm( Cross( uHDiv.Trace(), n) * vHDiv.Trace()* ds(bonus_intorder=3)).Assemble() # <Hcurl, Hdiv>  \n",
    "    rhs = ( (0.5 * M.mat - K.mat ) * m.vec).Evaluate() \n",
    "    CG(mat = V.mat, pre=pre, rhs = rhs, sol=j.vec, tol=1e-8, maxsteps=500, initialize=False, printrates=False)"
   ]
  },
  {
   "cell_type": "code",
   "execution_count": null,
   "id": "1e63632c-608c-4a1d-b1fb-7e7fc709c3d0",
   "metadata": {},
   "outputs": [],
   "source": [
    "mDir = GridFunction(fesHDiv)\n",
    "mDir.Set( m, definedon=mesh.Boundaries(\"dirichlet\"), dual=True) # given Dirichlet data\n",
    "Draw (Norm(mDir), mesh, draw_vol=False, order=3);"
   ]
  },
  {
   "cell_type": "code",
   "execution_count": null,
   "id": "c09bc1bd-195f-41ba-a243-e92c65843df0",
   "metadata": {},
   "outputs": [],
   "source": [
    "jNeu = GridFunction(fesHDiv)\n",
    "jNeu.Set( j, definedon=mesh.Boundaries(\"neumann\"), dual=True) # given Neumann data\n",
    "Draw (Norm(jNeu), mesh, draw_vol=False, order=3);"
   ]
  },
  {
   "cell_type": "code",
   "execution_count": null,
   "id": "18dee7e9-9ceb-4386-8427-9bf937376549",
   "metadata": {},
   "outputs": [],
   "source": [
    "eps = 1e-6\n",
    "intorder = 2 * order + 6\n",
    "with TaskManager():\n",
    "    M = BilinearForm( Cross( uHDiv.Trace(), n) * vHDiv.Trace()* ds(bonus_intorder=3)).Assemble() # <Hcurl, Hdiv>  \n",
    "    fd = ((0.5 * M.mat - K.mat) * mDir.vec - V.mat * jNeu.vec).Evaluate()\n",
    "    fn = ((0.5 * M.mat - K.mat) * jNeu.vec - V.mat * mDir.vec).Evaluate()"
   ]
  },
  {
   "cell_type": "code",
   "execution_count": null,
   "id": "7cee1ee5-ca4e-4058-8a69-02a50e0a3773",
   "metadata": {},
   "outputs": [],
   "source": [
    "fesHDivN = HDivSurface(mesh, order=order, dirichlet=\"neumann\") # Dirichlet nodes free dofs\n",
    "fesHDivD = HDivSurface(mesh, order=order, dirichlet=\"dirichlet\") # Neumann nodes free dofs\n",
    "\n",
    "lhs = BlockMatrix([[V.mat, K.mat], [K.mat, V.mat]]) \n",
    "rhs = BlockVector([fd, fn])\n",
    "pre = BilinearForm( uHDiv.Trace() * vHDiv.Trace() *ds).Assemble()\n",
    "preBlock = BlockMatrix ([[pre.mat.Inverse(freedofs=fesHDivN.FreeDofs()), None], [None, pre.mat.Inverse(freedofs=fesHDivD.FreeDofs())]])\n",
    "\n",
    "sol = GMRes(A=lhs, b=rhs, pre=preBlock, maxsteps=300, tol=1e-8, printrates=False)"
   ]
  },
  {
   "cell_type": "code",
   "execution_count": null,
   "id": "0e83a3fa-af75-4d52-bf5c-986f7a7036a9",
   "metadata": {},
   "outputs": [],
   "source": [
    "gfu = GridFunction(fesHDiv)\n",
    "gfu.vec[:] = sol[0]\n",
    "print (\"Neumann error =\", sqrt(Integrate(Norm(gfu + jNeu - j)**2, mesh.Boundaries(\".*\"), BND)))\n",
    "Draw (Norm(gfu), mesh.Boundaries(\"dirichlet\"), order=3);"
   ]
  },
  {
   "cell_type": "code",
   "execution_count": null,
   "id": "75e1e075-06c5-4a35-9041-c4d09dbba0a1",
   "metadata": {},
   "outputs": [],
   "source": [
    "# compare with the expected Neuman trace (numerical solution for PEC on whole boundary) \n",
    "gfu.vec[:] = sol[1]\n",
    "print (\"Dirichlet error =\", sqrt(Integrate(Norm(gfu +mDir - m)**2, mesh.Boundaries(\".*\"), BND)))\n",
    "Draw (Norm(gfu), mesh.Boundaries(\"neumann\"), draw_vol=False, order=3);"
   ]
  },
  {
   "cell_type": "markdown",
   "id": "ea385457-1e87-40f9-819d-9203aa52c828",
   "metadata": {},
   "source": [
    "References: \n",
    "\n",
    "[Boundary Element Methods for Maxwell Transmission Problems in Lipschitz Domains](https://www.semanticscholar.org/paper/Boundary-Element-Methods-for-Maxwell-Transmission-Buffa-Hiptmair/92147cb3aee1a71d0a38544d0f6fdd6d1213299c)"
   ]
  },
  {
   "cell_type": "code",
   "execution_count": null,
   "id": "10072fec-4727-459e-b753-f0280db0da73",
   "metadata": {},
   "outputs": [],
   "source": []
  }
 ],
 "metadata": {
  "kernelspec": {
   "display_name": "Python 3 (ipykernel)",
   "language": "python",
   "name": "python3"
  },
  "language_info": {
   "codemirror_mode": {
    "name": "ipython",
    "version": 3
   },
   "file_extension": ".py",
   "mimetype": "text/x-python",
   "name": "python",
   "nbconvert_exporter": "python",
   "pygments_lexer": "ipython3",
   "version": "3.11.6"
  }
 },
 "nbformat": 4,
 "nbformat_minor": 5
}
