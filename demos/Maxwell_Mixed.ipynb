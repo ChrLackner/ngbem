{
 "cells": [
  {
   "cell_type": "markdown",
   "id": "27439a9a-bf23-4761-bb28-b73132b97f25",
   "metadata": {},
   "source": [
    "Maxwell solver with mixed BC\n",
    "============================\n",
    "**keys**: mixed bvp, MoM, Maxwell equations, Dirichlet data, Neumann data, manufactured solution"
   ]
  },
  {
   "cell_type": "code",
   "execution_count": null,
   "id": "4220f8af-1580-467a-801e-6ef49d43c70c",
   "metadata": {},
   "outputs": [],
   "source": [
    "from netgen.occ import *\n",
    "import netgen.meshing as meshing\n",
    "from ngsolve import *\n",
    "from ngsolve.webgui import Draw\n",
    "from libbem import *\n",
    "from ngsolve import Projector, Preconditioner\n",
    "from ngsolve.krylovspace import CG, GMRes"
   ]
  },
  {
   "cell_type": "markdown",
   "id": "2b563978-852c-442d-84e9-ef5dd152645b",
   "metadata": {},
   "source": [
    "Consider the mixed problem:\n",
    "\n",
    "|  |  |  |\n",
    "| -|--|- |\n",
    "| $ \\begin{array}{l rcl r} & \\mathrm{curl}\\,\\mathrm{curl} \\boldsymbol E - \\kappa^2 \\boldsymbol E &=& \\boldsymbol 0  &\\mathrm{in}\\; \\Omega^c \\,,\\\\ \\textnormal{Dirichlet condition} & \\gamma_R \\boldsymbol E &=& \\boldsymbol m & \\mathrm{on}\\; \\Gamma_0\\,,\\\\ \\textnormal{Neumann condition} & \\gamma_N \\boldsymbol E &=&  \\boldsymbol j & \\mathrm{on}\\; \\Gamma_1\\,, \\\\ \\textnormal{radiation condition} & \\| \\mathrm{curl}\\boldsymbol E \\times \\dfrac{x}{\\|x\\|} - i \\omega\\epsilon \\boldsymbol E(x)\\| &=& \\mathcal O(1/\\|x\\|^2), & \\|x\\|\\to \\infty\\,. \\end{array} $   | $\\quad\\quad\\quad$  | ![](resources/BEM_Mixed.png)  |\n",
    "\n",
    "- lower half sphere: Dirichlet boundary with given $\\gamma_D \\, E = \\boldsymbol m$ \n",
    "- upper half sphere: Neumann boundary with given $\\gamma_N \\, E = \\boldsymbol j$ "
   ]
  },
  {
   "cell_type": "markdown",
   "id": "8c17c00f-6226-47d3-9d18-09891d98a849",
   "metadata": {},
   "source": [
    "Define geometry and mesh:"
   ]
  },
  {
   "cell_type": "code",
   "execution_count": null,
   "id": "b3bee3e9-b23a-43dd-b5d9-8f9265af827a",
   "metadata": {},
   "outputs": [],
   "source": [
    "topsphere = Sphere((0,0,0), 1) * Box((-1,-1,0),(1,1,1))\n",
    "botsphere = Sphere((0,0,0), 1) - Box((-1,-1,0),(1,1,1))\n",
    "topsphere.faces.name = \"neumann\" # 1/kappa n x curl E\n",
    "botsphere.faces.name = \"dirichlet\" # nxE\n",
    "shape = Fuse( [topsphere,botsphere] )\n",
    "\n",
    "h = 0.5\n",
    "order = 3\n",
    "mesh = Mesh( OCCGeometry(shape).GenerateMesh(maxh=h, perfstepsend=meshing.MeshingStep.MESHSURFACE)).Curve(order)\n",
    "#Draw (mesh);"
   ]
  },
  {
   "cell_type": "markdown",
   "id": "072b149e-d83c-46f6-9d30-b0a432e7dcdd",
   "metadata": {},
   "source": [
    "Define a manufactured solution $\\boldsymbol E$:"
   ]
  },
  {
   "cell_type": "code",
   "execution_count": null,
   "id": "2ea25412-738b-469b-a30c-990d32089e9c",
   "metadata": {},
   "outputs": [],
   "source": [
    "# manufactured solution: kernel with source in point s and direction e\n",
    "kappa = 1. / h\n",
    "s = CF((0., 0., 0.))\n",
    "e = (1.192, -0.189, 2.745)\n",
    "e = CF(e) / sqrt(e[0] ** 2 + e[1] ** 2 + e[2] ** 2)\n",
    "xms = CF((x, y , z)) - s\n",
    "r = Norm(xms)\n",
    "f = (-kappa ** 2 * r ** 2 - 1j * kappa * r + 1.) / r ** 3\n",
    "g = (e * xms) * (-kappa ** 2 * r ** 2 - 3. * 1j * kappa * r + 3.) / r ** 5\n",
    "E = exp(1j * kappa * r) * (f * e - g * xms)\n",
    "curlE = CF((E[2].Diff(y) - E[1].Diff(z), E[0].Diff(z) - E[2].Diff(x), E[1].Diff(x) - E[0].Diff(y)))\n",
    "\n",
    "print(\"kappa = \", kappa)"
   ]
  },
  {
   "cell_type": "markdown",
   "id": "bb071ec7-71ac-407f-b0ef-0a4d54e95368",
   "metadata": {},
   "source": [
    "Define the finite element spaces, i.e., $H^{-\\frac12}(\\mathrm{curl}_\\Gamma, \\Gamma)$ and $H^{-\\frac12}(\\mathrm{div}_\\Gamma, \\Gamma)$ conforming spaces:"
   ]
  },
  {
   "cell_type": "code",
   "execution_count": null,
   "id": "5a6ee11f-4bc6-4cc8-9408-c4d6d9c4727d",
   "metadata": {},
   "outputs": [],
   "source": [
    "order = 3\n",
    "fesHDiv = HDivSurface(mesh, order=order, complex=True)\n",
    "uHDiv,vHDiv = fesHDiv.TnT() \n",
    "fesHCurl = HCurl(mesh, order=order, complex=True)\n",
    "uHCurl,vHCurl = fesHCurl.TnT() "
   ]
  },
  {
   "cell_type": "markdown",
   "id": "46dbeb1f-1888-44d5-88d3-1e3c3111cf05",
   "metadata": {},
   "source": [
    "Get the Dirichlet trace $\\boldsymbol m$ and exact Neumann data $\\boldsymbol j$ as grid functions defined everywhere on $\\Gamma$:"
   ]
  },
  {
   "cell_type": "code",
   "execution_count": null,
   "id": "1b6980a9-510d-4a26-bacf-057f54fffb86",
   "metadata": {},
   "outputs": [],
   "source": [
    "n = specialcf.normal(3)\n",
    "m = GridFunction(fesHCurl) \n",
    "m.Set( Cross( Cross(n, E), n) , definedon=mesh.Boundaries(\".*\"), dual=True) # Hcurl, gamma_R = (nxE)xn\n",
    "j = GridFunction(fesHDiv) \n",
    "j.Set( 1/kappa*Cross(n,curlE) , definedon=mesh.Boundaries(\".*\"), dual=True) # Hdiv, gamma_N = 1/k nx curl E"
   ]
  },
  {
   "cell_type": "markdown",
   "id": "5e2b7978-ddf6-4a4b-9485-73438dd8be47",
   "metadata": {},
   "source": [
    "Define Dirichlet boundary condition on the lower half sphere $\\Gamma_0$ and have a look at it:"
   ]
  },
  {
   "cell_type": "code",
   "execution_count": null,
   "id": "1e63632c-608c-4a1d-b1fb-7e7fc709c3d0",
   "metadata": {},
   "outputs": [],
   "source": [
    "mDir = GridFunction(fesHCurl)\n",
    "mDir.Set( m, definedon=mesh.Boundaries(\"dirichlet\"), dual=True) # given Dirichlet data\n",
    "Draw (Norm(mDir), mesh, draw_vol=False, order=3);"
   ]
  },
  {
   "cell_type": "markdown",
   "id": "9d90e066-0158-4da7-9a0b-c7301076559e",
   "metadata": {},
   "source": [
    "Define Neumann boundary condition on the upper half sphere $\\Gamma_1$ and have a look at it:"
   ]
  },
  {
   "cell_type": "code",
   "execution_count": null,
   "id": "c09bc1bd-195f-41ba-a243-e92c65843df0",
   "metadata": {},
   "outputs": [],
   "source": [
    "jNeu = GridFunction(fesHDiv)\n",
    "jNeu.Set( j, definedon=mesh.Boundaries(\"neumann\"), dual=True) # given Neumann data\n",
    "Draw (Norm(jNeu), mesh, draw_vol=False, order=3);"
   ]
  },
  {
   "cell_type": "markdown",
   "id": "e16e1586-8c7a-4eb7-b5e9-9c2c21aa14b8",
   "metadata": {},
   "source": [
    "Compute boundary integral operators $\\mathrm{V}$, $\\mathrm{K}$, $\\mathrm{D}$ and the mass matrix $\\mathrm M$"
   ]
  },
  {
   "cell_type": "code",
   "execution_count": null,
   "id": "36d6ba11-6bc7-4d76-a114-b7119b3b90e7",
   "metadata": {},
   "outputs": [],
   "source": [
    "# M, V, K and D \n",
    "intorder = 2 * order + 6\n",
    "with TaskManager(): \n",
    "    M = BilinearForm( uHCurl.Trace() * vHDiv.Trace()* ds(bonus_intorder=3)).Assemble() # <Hcurl, Hdiv>  \n",
    "    V = MaxwellSingleLayerPotentialOperator(fesHDiv, kappa, intorder=intorder, eps=1e-4)\n",
    "    K = MaxwellDoubleLayerPotentialOperator(fesHCurl, fesHDiv, kappa, intorder=intorder, eps=1e-4)\n",
    "    D = MaxwellSingleLayerPotentialOperatorCurl(fesHCurl, kappa, intorder=intorder, eps=1e-4)"
   ]
  },
  {
   "cell_type": "markdown",
   "id": "6a0eec30-a38b-4157-9e2a-c8f6360afdc6",
   "metadata": {},
   "source": [
    "Generate right hand side, block matrix and solve the linear system of equations:"
   ]
  },
  {
   "cell_type": "code",
   "execution_count": null,
   "id": "18dee7e9-9ceb-4386-8427-9bf937376549",
   "metadata": {},
   "outputs": [],
   "source": [
    "eps = 1e-6\n",
    "intorder = 2 * order + 6\n",
    "with TaskManager():\n",
    "    fd = ((0.5 * M.mat - K.mat) * mDir.vec - V.mat * jNeu.vec).Evaluate()\n",
    "    fn = ((0.5 * M.mat.T + K.mat.T) * jNeu.vec + D.mat * mDir.vec).Evaluate()"
   ]
  },
  {
   "cell_type": "code",
   "execution_count": null,
   "id": "7cee1ee5-ca4e-4058-8a69-02a50e0a3773",
   "metadata": {},
   "outputs": [],
   "source": [
    "fesHDivN = HDivSurface(mesh, order=order, dirichlet=\"neumann\") # Dirichlet nodes free dofs\n",
    "fesHCurlD = HCurl(mesh, order=order, dirichlet=\"dirichlet\") # Neumann nodes free dofs\n",
    "\n",
    "lhs = BlockMatrix([[V.mat, K.mat], [-K.mat.T, -D.mat]]) \n",
    "rhs = BlockVector([fd, fn])\n",
    "preHDiv = BilinearForm( uHDiv.Trace() * vHDiv.Trace() *ds).Assemble()\n",
    "preHCurl = BilinearForm( uHCurl.Trace() * vHCurl.Trace() *ds).Assemble()\n",
    "preBlock = BlockMatrix ([[preHDiv.mat.Inverse(freedofs=fesHDivN.FreeDofs()), None], [None, preHCurl.mat.Inverse(freedofs=fesHCurlD.FreeDofs())]])\n",
    "\n",
    "sol = GMRes(A=lhs, b=rhs, pre=preBlock, maxsteps=3000, tol=1e-8, printrates=False)"
   ]
  },
  {
   "cell_type": "markdown",
   "id": "a415dd0a-9ba7-4268-87ea-3f396d4f696d",
   "metadata": {},
   "source": [
    "**Check the numerical solution**"
   ]
  },
  {
   "cell_type": "markdown",
   "id": "fc4d0ab0-655e-4d8a-a8f3-7f947c65882b",
   "metadata": {},
   "source": [
    "Have a look at Neumann data on $\\Gamma_0$ and compute the $L_2$-error:"
   ]
  },
  {
   "cell_type": "code",
   "execution_count": null,
   "id": "0e83a3fa-af75-4d52-bf5c-986f7a7036a9",
   "metadata": {},
   "outputs": [],
   "source": [
    "# compare with exact Dirichlet trace\n",
    "gfdiv = GridFunction(fesHDiv)\n",
    "gfdiv.vec[:] = sol[0]\n",
    "print (\"Neumann error =\", sqrt(Integrate(Norm(gfdiv + jNeu - j)**2, mesh.Boundaries(\".*\"), BND)))\n",
    "Draw (Norm(gfdiv), mesh.Boundaries(\"dirichlet\"), order=3);"
   ]
  },
  {
   "cell_type": "markdown",
   "id": "3262a1f8-6edf-4af4-9438-2726aea19e09",
   "metadata": {},
   "source": [
    "Have a look at Dirichlet data on $\\Gamma_1$ and compute the $L_2$-error:"
   ]
  },
  {
   "cell_type": "code",
   "execution_count": null,
   "id": "75e1e075-06c5-4a35-9041-c4d09dbba0a1",
   "metadata": {},
   "outputs": [],
   "source": [
    "# compare with the exact Neuman trace  \n",
    "gfcurl = GridFunction(fesHCurl)\n",
    "gfcurl.vec[:] = sol[1]\n",
    "print (\"Dirichlet error =\", sqrt(Integrate(Norm(gfcurl +mDir - m)**2, mesh.Boundaries(\".*\"), BND)))\n",
    "Draw (Norm(gfcurl), mesh.Boundaries(\"neumann\"), draw_vol=False, order=3);"
   ]
  },
  {
   "cell_type": "markdown",
   "id": "ea385457-1e87-40f9-819d-9203aa52c828",
   "metadata": {},
   "source": [
    "References (theory results): \n",
    "\n",
    "[Boundary Element Methods for Maxwell Transmission Problems in Lipschitz Domains](https://www.semanticscholar.org/paper/Boundary-Element-Methods-for-Maxwell-Transmission-Buffa-Hiptmair/92147cb3aee1a71d0a38544d0f6fdd6d1213299c)\n",
    "\n",
    "Note: the Calderon-projector is in the referenced paper is slightly different from ours as only trace space $H^{-\\frac12}(\\mathrm{div}_\\Gamma,\\Gamma)$ is used). Theoretical results stay the same."
   ]
  },
  {
   "cell_type": "code",
   "execution_count": null,
   "id": "10072fec-4727-459e-b753-f0280db0da73",
   "metadata": {},
   "outputs": [],
   "source": []
  }
 ],
 "metadata": {
  "kernelspec": {
   "display_name": "Python 3 (ipykernel)",
   "language": "python",
   "name": "python3"
  },
  "language_info": {
   "codemirror_mode": {
    "name": "ipython",
    "version": 3
   },
   "file_extension": ".py",
   "mimetype": "text/x-python",
   "name": "python",
   "nbconvert_exporter": "python",
   "pygments_lexer": "ipython3",
   "version": "3.11.6"
  }
 },
 "nbformat": 4,
 "nbformat_minor": 5
}
