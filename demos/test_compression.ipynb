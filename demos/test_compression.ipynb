{
 "cells": [
  {
   "cell_type": "code",
   "execution_count": 1,
   "id": "1aebdace-49b0-4e85-bd91-f8c189ccce89",
   "metadata": {},
   "outputs": [
    {
     "name": "stdout",
     "output_type": "stream",
     "text": [
      "Loading ngbem library\n"
     ]
    }
   ],
   "source": [
    "import sys\n",
    "sys.path.append('../build')\n",
    "\n",
    "from netgen.occ import *\n",
    "from ngsolve import *\n",
    "from ngsolve.webgui import Draw\n",
    "from libbem import *\n",
    "from ngsolve import Projector, Preconditioner\n",
    "from ngsolve.krylovspace import CG"
   ]
  },
  {
   "cell_type": "code",
   "execution_count": 2,
   "id": "36169eb0-7780-4f5b-908f-b0987484240e",
   "metadata": {},
   "outputs": [],
   "source": [
    "nx, ny = 1000, 1000\n",
    "eta = 3"
   ]
  },
  {
   "cell_type": "code",
   "execution_count": 3,
   "id": "f4ff5649-d0bd-4e3f-bd16-fac23ba5f136",
   "metadata": {},
   "outputs": [
    {
     "data": {
      "text/plain": [
       "(63, 1.0969540602521066e-09, 2.265593248593457)"
      ]
     },
     "execution_count": 3,
     "metadata": {},
     "output_type": "execute_result"
    }
   ],
   "source": [
    "TestCompression(nx=nx, ny=ny, eta=eta, eps=1e-9, method='svd')"
   ]
  },
  {
   "cell_type": "code",
   "execution_count": 9,
   "id": "6fa66fdc-7c08-45c7-a2dd-c42c256611da",
   "metadata": {},
   "outputs": [
    {
     "data": {
      "text/plain": [
       "(62, 1.6180475837924885e-09, 0.1615177328610127)"
      ]
     },
     "execution_count": 9,
     "metadata": {},
     "output_type": "execute_result"
    }
   ],
   "source": [
    "TestCompression(nx=nx, ny=ny, eta=eta, eps=1e-9, method='tsvd')"
   ]
  },
  {
   "cell_type": "code",
   "execution_count": 10,
   "id": "5ae5dbfc-6dd6-4feb-a392-df1d86fdeb0b",
   "metadata": {
    "scrolled": true
   },
   "outputs": [
    {
     "data": {
      "text/plain": [
       "(48, 6.775954809493976e-07, 0.011755782454678058)"
      ]
     },
     "execution_count": 10,
     "metadata": {},
     "output_type": "execute_result"
    }
   ],
   "source": [
    "TestCompression(nx=nx, ny=ny, eta=eta, eps=1e-9, method='aca')"
   ]
  },
  {
   "cell_type": "code",
   "execution_count": 6,
   "id": "3128995c-d6cf-4543-ab83-4927c4e6326a",
   "metadata": {},
   "outputs": [
    {
     "name": "stdout",
     "output_type": "stream",
     "text": [
      "Help on built-in function TestCompression in module libbem:\n",
      "\n",
      "TestCompression(...) method of builtins.PyCapsule instance\n",
      "    TestCompression(nx: int = 100, ny: int = 100, eta: float = 2.0, eps: float = 1e-10, method: str = 'svd') -> object\n",
      "\n",
      "    methods: 'svd', 'tsvd', to come: 'aca'\n",
      "    returns rank, error, time\n",
      "\n"
     ]
    }
   ],
   "source": [
    "help (TestCompression)"
   ]
  },
  {
   "cell_type": "code",
   "execution_count": null,
   "id": "d78821b1-0252-411e-ad6e-f97ee7fdd3f3",
   "metadata": {},
   "outputs": [],
   "source": []
  }
 ],
 "metadata": {
  "kernelspec": {
   "display_name": "Python 3 (ipykernel)",
   "language": "python",
   "name": "python3"
  },
  "language_info": {
   "codemirror_mode": {
    "name": "ipython",
    "version": 3
   },
   "file_extension": ".py",
   "mimetype": "text/x-python",
   "name": "python",
   "nbconvert_exporter": "python",
   "pygments_lexer": "ipython3",
   "version": "3.12.1"
  }
 },
 "nbformat": 4,
 "nbformat_minor": 5
}
