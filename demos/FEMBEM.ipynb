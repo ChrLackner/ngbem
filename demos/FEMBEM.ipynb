{
 "cells": [
  {
   "cell_type": "code",
   "execution_count": null,
   "id": "979ea90d-25a0-4090-afee-8c10b3036030",
   "metadata": {},
   "outputs": [],
   "source": [
    "from ngsolve import *\n",
    "from netgen.occ import *\n",
    "from ngsolve.krylovspace import CG, GMRes\n",
    "from ngsolve.webgui import Draw\n",
    "from libbem import *"
   ]
  },
  {
   "cell_type": "code",
   "execution_count": null,
   "id": "756e9f3c-f8e8-4f20-8760-55ec37b4ffbf",
   "metadata": {
    "scrolled": true
   },
   "outputs": [],
   "source": [
    "largebox = Box ((-2,-2,-2), (2,2,2) )\n",
    "b1 = Box ( (-1,-1,0.5), (1,1,1) )\n",
    "b2 = Box ( (-1,-1,-1), (1,1,-0.5))\n",
    "\n",
    "b1.name = \"top\"\n",
    "b2.name = \"bot\"\n",
    "outer = largebox-b1-b2\n",
    "outer.name = \"air\"\n",
    "largebox.faces.name = \"outer\"\n",
    "\n",
    "shape = Compound( [b1,b2,outer] )\n",
    "mesh = Mesh(OCCGeometry(shape).GenerateMesh (maxh=1))\n",
    "# mesh = Mesh(OCCGeometry(largebox).GenerateMesh (maxh=1))\n",
    "\n",
    "Draw (mesh);"
   ]
  },
  {
   "cell_type": "markdown",
   "id": "b564504d-968b-42d4-8ad1-0ecdfdea5072",
   "metadata": {},
   "source": [
    "Only FEM:"
   ]
  },
  {
   "cell_type": "code",
   "execution_count": null,
   "id": "d1318d8a-2b99-4152-99b7-7f505c2523ab",
   "metadata": {},
   "outputs": [],
   "source": [
    "order = 2\n",
    "fesH1 = H1(mesh, order=order)\n",
    "u,v = fesH1.TnT()\n",
    "a = BilinearForm(grad(u)*grad(v)*dx + 1e-5*u*v*dx).Assemble()\n",
    "source = mesh.MaterialCF( { \"top\" : 1, \"bot\" : -1 }, default=0)\n",
    "# source = exp ( -4 * ( x**2+y**2+(z-1)**2 ) ) - exp ( -4 * ( x**2+y**2+(z+1)**2 ) ) \n",
    "f = LinearForm(source*v*dx(bonus_intorder=10)).Assemble()\n",
    "\n",
    "gfu = GridFunction(fesH1)\n",
    "gfu.vec[:] = a.mat.Inverse() * f.vec\n",
    "Draw (gfu, clipping={\"y\":1, \"z\":0, \"dist\":0.0, \"function\" : True });"
   ]
  },
  {
   "cell_type": "code",
   "execution_count": null,
   "id": "84f70bba-7467-492c-9b48-a551b380a1b0",
   "metadata": {},
   "outputs": [],
   "source": [
    "fesL2 = SurfaceL2(mesh, order=order-1, dual_mapping=True, definedon=mesh.Boundaries(\"outer\"))\n",
    "f2 = LinearForm(fesL2).Assemble()  # 0-vector\n",
    "print (\"ndof = \", fesL2.ndof)"
   ]
  },
  {
   "cell_type": "code",
   "execution_count": null,
   "id": "3adf260a-ee03-42d0-85e6-7342ffbc4bde",
   "metadata": {},
   "outputs": [],
   "source": [
    "with TaskManager():\n",
    "    V = SingleLayerPotentialOperator(fesL2, intorder=12, leafsize=40, eta=3., eps=1e-4, method=\"svd\", testhmatrix=False)\n",
    "    K = DoubleLayerPotentialOperator(fesH1, fesL2, \n",
    "                                     trial_definedon=mesh.Boundaries(\"outer\"),  test_definedon=mesh.Boundaries(\"outer\"), \n",
    "                                     intorder=12, leafsize=40, eta=3., eps=1e-4, method=\"svd\", testhmatrix=False)\n",
    "    S = HypersingularOperator(fesH1, definedon=mesh.Boundaries(\"outer\"), intorder=12, leafsize=40, eta=3., eps=1e-4, method=\"svd\", testhmatrix=False)\n",
    "    Id = BilinearForm(fesH1.TrialFunction()*fesL2.TestFunction().Trace()*ds(\"outer\")).Assemble()\n",
    "    "
   ]
  },
  {
   "cell_type": "code",
   "execution_count": null,
   "id": "9319af21-942f-443b-a0ad-1589172e69d1",
   "metadata": {},
   "outputs": [],
   "source": [
    "lhs = BlockMatrix ( [ [ a.mat+S.mat, (0.5*Id.mat+K.mat).T ], [ (0.5*Id.mat+K.mat), -V.mat ] ] )\n",
    "rhs = BlockVector( [ f.vec, f2.vec ] )\n",
    "\n",
    "bndmass = BilinearForm( fesL2.TrialFunction().Trace()*fesL2.TestFunction().Trace()*ds).Assemble()\n",
    "pre = BlockMatrix ( [ [a.mat.Inverse(), None], [None, bndmass.mat.Inverse(freedofs=fesL2.FreeDofs())] ])"
   ]
  },
  {
   "cell_type": "code",
   "execution_count": null,
   "id": "bc07dc46-399a-4404-844e-a5b8d3ebac23",
   "metadata": {},
   "outputs": [],
   "source": [
    "sol = GMRes(A=lhs, b=rhs, pre=pre, maxsteps=200)"
   ]
  },
  {
   "cell_type": "code",
   "execution_count": null,
   "id": "dc335873-1f14-451a-b3fd-d306e0831cd1",
   "metadata": {},
   "outputs": [],
   "source": [
    "gfu.vec[:] = sol[0]\n",
    "Draw (gfu, clipping={\"y\":1, \"z\":0, \"dist\":0.0, \"function\" : True }); "
   ]
  },
  {
   "cell_type": "code",
   "execution_count": null,
   "id": "b69b51bb-8fc7-4ed8-993b-154e3b95bbe2",
   "metadata": {},
   "outputs": [],
   "source": []
  }
 ],
 "metadata": {
  "kernelspec": {
   "display_name": "Python 3 (ipykernel)",
   "language": "python",
   "name": "python3"
  },
  "language_info": {
   "codemirror_mode": {
    "name": "ipython",
    "version": 3
   },
   "file_extension": ".py",
   "mimetype": "text/x-python",
   "name": "python",
   "nbconvert_exporter": "python",
   "pygments_lexer": "ipython3",
   "version": "3.12.1"
  }
 },
 "nbformat": 4,
 "nbformat_minor": 5
}
