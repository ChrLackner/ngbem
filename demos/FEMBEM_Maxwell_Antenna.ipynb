{
 "cells": [
  {
   "cell_type": "markdown",
   "id": "64bc8fb2-d1ec-4852-acfe-20a8bda4e079",
   "metadata": {},
   "source": [
    "# FEM-BEM coupling for a bar antenna"
   ]
  },
  {
   "cell_type": "code",
   "execution_count": null,
   "id": "f6a2dc68-1890-4954-ad61-44826b8ad42d",
   "metadata": {},
   "outputs": [],
   "source": [
    "from ngsolve import *\n",
    "from netgen.occ import *\n",
    "import netgen.meshing as meshing\n",
    "from ngsolve.krylovspace import CG, GMRes\n",
    "from ngsolve.webgui import Draw\n",
    "from ngbem import *"
   ]
  },
  {
   "cell_type": "code",
   "execution_count": null,
   "id": "2263d44e-ac3c-489f-b46d-955884f889f1",
   "metadata": {},
   "outputs": [],
   "source": [
    "sp = Sphere( (0,0,0), 3)\n",
    "sp.faces.name=\"outer\"\n",
    "bar = Cylinder ( (-0.75, 0, 0), X, r=0.1, h=1.5)\n",
    "bar.faces.name=\"antenna\"\n",
    "port = Cylinder ( (-0.05, 0, 0), X, r=0.1, h=0.1)\n",
    "port.faces.name=\"port\"\n",
    "antenna = bar-port\n",
    "\n",
    "air = sp-antenna-port"
   ]
  },
  {
   "cell_type": "code",
   "execution_count": null,
   "id": "7cb8d956-51f8-4a6e-aa69-c392c165949c",
   "metadata": {},
   "outputs": [],
   "source": [
    "Draw (air, clipping=True);"
   ]
  },
  {
   "cell_type": "code",
   "execution_count": null,
   "id": "60cf4198-a51c-4e5c-b240-fbee7c21f9f6",
   "metadata": {},
   "outputs": [],
   "source": [
    "mesh = Mesh(OCCGeometry(air).GenerateMesh(maxh=1)).Curve(2)"
   ]
  },
  {
   "cell_type": "code",
   "execution_count": null,
   "id": "2a02a953-cd8c-4a24-a3fa-35af7c3f7165",
   "metadata": {},
   "outputs": [],
   "source": [
    "Draw (mesh, clipping=True);"
   ]
  },
  {
   "cell_type": "code",
   "execution_count": null,
   "id": "347894a2-bd5b-42ed-9d4a-9bb05a9c9d1b",
   "metadata": {},
   "outputs": [],
   "source": [
    "f = 300e6\n",
    "omega = 2*pi*f\n",
    "eps0 = 1.248e-12\n",
    "mu0 = 1.257e-6\n",
    "\n",
    "kappa = omega * sqrt(eps0*mu0)\n",
    "print (\"kappa=\", kappa)"
   ]
  },
  {
   "cell_type": "code",
   "execution_count": null,
   "id": "9aa5159e-a5f1-4904-942f-e29d17e38e42",
   "metadata": {},
   "outputs": [],
   "source": [
    "fes = HCurl(mesh, order=1, complex=True, dirichlet=\"antenna\")\n",
    "print (\"ndof =\", fes.ndof)"
   ]
  },
  {
   "cell_type": "markdown",
   "id": "483f13f5-dd53-4006-8afe-10174cdbf908",
   "metadata": {},
   "source": [
    "## Solve with first order absorbing boundary conditions"
   ]
  },
  {
   "cell_type": "code",
   "execution_count": null,
   "id": "a5c6712d-8358-4ab8-9038-690c531334af",
   "metadata": {},
   "outputs": [],
   "source": [
    "u,v = fes.TnT()\n",
    "bfa = BilinearForm(1/kappa*curl(u)*curl(v)*dx-kappa* u*v*dx \\\n",
    "                   -1j*u.Trace()*v.Trace()*ds(\"outer\"))\n",
    "lff = LinearForm( CF((1,0,0)) * v.Trace()*ds(\"port\"))\n",
    "\n",
    "with TaskManager():\n",
    "    bfa.Assemble()\n",
    "    lff.Assemble()\n",
    "    inv = bfa.mat.Inverse(freedofs=fes.FreeDofs(), inverse=\"sparsecholesky\")"
   ]
  },
  {
   "cell_type": "code",
   "execution_count": null,
   "id": "17943960-5c8d-48a0-9ae0-3dad7ef39eff",
   "metadata": {},
   "outputs": [],
   "source": [
    "gfu = GridFunction(fes)\n",
    "gfu.vec.data = inv * lff.vec\n",
    "Draw(gfu[1], mesh, clipping={\"function\":True, \"z\" : -1}, animate_complex=True, min=-0.01, max=0.01, order=2);"
   ]
  },
  {
   "cell_type": "code",
   "execution_count": null,
   "id": "e8ef823f-3392-4190-ab20-45c203ab5b3e",
   "metadata": {},
   "outputs": [],
   "source": [
    "fesHDiv = HDivSurface(mesh, order=1, complex=True, definedon=mesh.Boundaries(\"outer\"))\n",
    "f2 = LinearForm(fesHDiv).Assemble()"
   ]
  },
  {
   "cell_type": "code",
   "execution_count": null,
   "id": "1a23c639-6e04-465b-aaad-fe475f7abb00",
   "metadata": {},
   "outputs": [],
   "source": [
    "with TaskManager():\n",
    "    M = BilinearForm(fes.TrialFunction().Trace()*fesHDiv.TestFunction().Trace()*ds(\"outer\", bonus_intorder=3)).Assemble()\n",
    "    V = MaxwellSingleLayerPotentialOperator(fesHDiv, kappa, \n",
    "                                            intorder=8, leafsize=40, eta=3., eps=1e-4, method=\"aca\")\n",
    "    K = MaxwellDoubleLayerPotentialOperator(fes, fesHDiv, kappa, trial_definedon=mesh.Boundaries(\"outer\"),\n",
    "                                            intorder=8, leafsize=40, eta=3., eps=1e-6, method=\"aca\")\n",
    "    D = MaxwellSingleLayerPotentialOperatorCurl(fes, kappa, definedon=mesh.Boundaries(\"outer\"),\n",
    "                                            intorder=8, leafsize=40, eta=3., eps=1e-4, method=\"aca\")    "
   ]
  },
  {
   "cell_type": "code",
   "execution_count": null,
   "id": "18368168-51d8-4218-87c9-ee8e2f3844f9",
   "metadata": {},
   "outputs": [],
   "source": [
    "bfa2 = BilinearForm(1/kappa*curl(u)*curl(v)*dx-kappa*u*v*dx).Assemble()\n",
    "\n",
    "blockmat = BlockMatrix ([[bfa2.mat-D.mat, (-0.5*M.mat+K.mat).T], [(-0.5*M.mat+K.mat), -V.mat]])\n",
    "blockvec = BlockVector([lff.vec, f2.vec])\n",
    "\n",
    "masshdiv = BilinearForm( fesHDiv.TrialFunction().Trace()*fesHDiv.TestFunction().Trace()*ds).Assemble()\n",
    "pre = BlockMatrix ([[inv, None], [None, 1j*masshdiv.mat.Inverse(freedofs=fesHDiv.FreeDofs())] ])\n"
   ]
  },
  {
   "cell_type": "code",
   "execution_count": null,
   "id": "af46bf4f-367a-428e-86a2-0b1da1cf32f9",
   "metadata": {},
   "outputs": [],
   "source": [
    "sol = GMRes(A=blockmat, b=blockvec, pre=pre, tol=1e-8, maxsteps=200, printrates=True)"
   ]
  },
  {
   "cell_type": "code",
   "execution_count": null,
   "id": "550b9194-ac45-492a-84e1-a78eecf95747",
   "metadata": {
    "scrolled": true
   },
   "outputs": [],
   "source": [
    "gfu = GridFunction(fes)\n",
    "gfu.vec[:] = sol[0]\n",
    "Draw(gfu[1], mesh, clipping={\"function\":True, \"z\" : -1}, animate_complex=True, min=-1e-2, max=1e-2, order=2);"
   ]
  },
  {
   "cell_type": "code",
   "execution_count": null,
   "id": "381c3663-61cb-4eec-b4ca-ed4cf929d34f",
   "metadata": {},
   "outputs": [],
   "source": []
  },
  {
   "cell_type": "code",
   "execution_count": null,
   "id": "e56f4d06-e9a2-4071-9d36-f86eeaa597b1",
   "metadata": {},
   "outputs": [],
   "source": []
  }
 ],
 "metadata": {
  "kernelspec": {
   "display_name": "Python 3 (ipykernel)",
   "language": "python",
   "name": "python3"
  },
  "language_info": {
   "codemirror_mode": {
    "name": "ipython",
    "version": 3
   },
   "file_extension": ".py",
   "mimetype": "text/x-python",
   "name": "python",
   "nbconvert_exporter": "python",
   "pygments_lexer": "ipython3",
   "version": "3.11.6"
  }
 },
 "nbformat": 4,
 "nbformat_minor": 5
}
