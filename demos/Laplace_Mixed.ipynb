{
 "cells": [
  {
   "cell_type": "markdown",
   "id": "51bdeb80-02e0-4682-8062-976bdc02fd31",
   "metadata": {},
   "source": [
    "Laplace mixed boundary values\n",
    "==============================\n",
    "\n",
    "**keys**: homogeneous Laplace bvp, Calderon projector, Dirichlet data, Neumann data "
   ]
  },
  {
   "cell_type": "code",
   "execution_count": 2,
   "id": "979ea90d-25a0-4090-afee-8c10b3036030",
   "metadata": {},
   "outputs": [
    {
     "name": "stdout",
     "output_type": "stream",
     "text": [
      "Loading ngbem library\n"
     ]
    }
   ],
   "source": [
    "import sys\n",
    "sys.path.append(\"../build/\")\n",
    "from ngsolve import *\n",
    "from netgen.occ import *\n",
    "from ngsolve.krylovspace import CG, GMRes\n",
    "from ngsolve.webgui import Draw\n",
    "from libbem import *"
   ]
  },
  {
   "cell_type": "markdown",
   "id": "b564504d-968b-42d4-8ad1-0ecdfdea5072",
   "metadata": {},
   "source": [
    "Consider the following interior boundary value problem with mixed boundary conditions: \n",
    "\n",
    "$$ \\begin{array}{r rcl r} & \\Delta u &=& 0  &\\mathrm{in}\\; \\Omega\\,,\\\\ \\textnormal{Dirichlet condition} & \\gamma_0 u &=& u_0 & \\mathrm{on}\\; \\Gamma_0\\,,\\\\ \\textnormal{Neumann condition} & \\gamma_1 u &=&  u_1 & \\mathrm{on}\\; \\Gamma_1\\,. \\end{array} $$ \n",
    "\n",
    "Let for instance $\\Omega$ be a unit ball and $\\Gamma_0$ the lower half sphere and $\\Gamma_1$ the upper half sphere."
   ]
  },
  {
   "cell_type": "code",
   "execution_count": 4,
   "id": "756e9f3c-f8e8-4f20-8760-55ec37b4ffbf",
   "metadata": {
    "scrolled": true
   },
   "outputs": [
    {
     "data": {
      "application/vnd.jupyter.widget-view+json": {
       "model_id": "9be1f9fc2c8a413fb9476535d587d6b1",
       "version_major": 2,
       "version_minor": 0
      },
      "text/plain": [
       "WebGuiWidget(layout=Layout(height='50vh', width='100%'), value={'gui_settings': {}, 'ngsolve_version': '6.2.24…"
      ]
     },
     "metadata": {},
     "output_type": "display_data"
    }
   ],
   "source": [
    "topsphere = Sphere((0,0,0), 1) * Box((-1,-1,0),(1,1,1))\n",
    "botsphere = Sphere((0,0,0), 1) - Box((-1,-1,0),(1,1,1))\n",
    "topsphere.faces.name = \"neumann\"\n",
    "botsphere.faces.name = \"dirichlet\"\n",
    "shape = Fuse( [topsphere,botsphere] )\n",
    "\n",
    "order = 3\n",
    "mesh = Mesh(OCCGeometry(shape).GenerateMesh(maxh=0.25)).Curve(order)\n",
    "Draw (mesh);"
   ]
  },
  {
   "cell_type": "markdown",
   "id": "431bc471-c56d-4c1e-b62f-8b9b7d41ae68",
   "metadata": {},
   "source": [
    "The following representation formula for the solution $u$ holds:\n",
    "\n",
    "$$ x \\in \\Omega: \\quad u(x) =  \\int_\\Gamma \\displaystyle{\\frac{1}{4\\,\\pi}\\, \\frac{1}{\\| x-y\\|} } \\, \\gamma_1 u (y)\\, \\mathrm{d}\\sigma_y - \\int_\\Gamma \\displaystyle{\\frac{1}{4\\,\\pi}\\, \\frac{\\langle n(y) , x-y\\rangle }{\\| x-y\\|^3} } \\, \\gamma_0 u (y)\\, \\mathrm{d}\\sigma_y\\,, $$ \n",
    "\n",
    "and the unique traces of $u$ are related by the Calderon projector\n",
    "\n",
    "  \n",
    "$$  \\left( \\begin{array}{c} \\gamma_0 u \\\\ \\gamma_1 u \\end{array}\\right) =  \\left( \\begin{array}{cc} -V & \\frac12 + K \\\\ \\frac12 - K^\\intercal & -D \\end{array} \\right)  \\left( \\begin{array}{c} \\gamma_1 u \\\\ \\gamma_0 u \\end{array}\\right) $$"
   ]
  },
  {
   "cell_type": "code",
   "execution_count": 20,
   "id": "84f70bba-7467-492c-9b48-a551b380a1b0",
   "metadata": {},
   "outputs": [
    {
     "name": "stdout",
     "output_type": "stream",
     "text": [
      "ndofL2 =  2736 ndofH1 =  2128\n"
     ]
    }
   ],
   "source": [
    "fesL2 = SurfaceL2(mesh, order=order-1, dirichlet=\"neumann\")\n",
    "u,v = fesL2.TnT()\n",
    "fesH1 = H1(mesh, order=order, dirichlet=\"dirichlet\", definedon=mesh.Boundaries(\".*\"))\n",
    "u1,v1 = fesH1.TnT()\n",
    "print (\"ndofL2 = \", fesL2.ndof, \"ndofH1 = \", fesH1.ndof)"
   ]
  },
  {
   "cell_type": "code",
   "execution_count": 21,
   "id": "2efdaed4-1832-45bc-9dd1-3e2e957eb5b5",
   "metadata": {},
   "outputs": [
    {
     "data": {
      "application/vnd.jupyter.widget-view+json": {
       "model_id": "b0dd77b01dba45a89ff56d47cbd58c8d",
       "version_major": 2,
       "version_minor": 0
      },
      "text/plain": [
       "WebGuiWidget(layout=Layout(height='50vh', width='100%'), value={'gui_settings': {}, 'ngsolve_version': '6.2.23…"
      ]
     },
     "metadata": {},
     "output_type": "display_data"
    },
    {
     "data": {
      "text/plain": [
       "BaseWebGuiScene"
      ]
     },
     "execution_count": 21,
     "metadata": {},
     "output_type": "execute_result"
    }
   ],
   "source": [
    "uexa = CF(x)\n",
    "ud = GridFunction(fesH1)\n",
    "ud.Interpolate(uexa, definedon=mesh.Boundaries(\"dirichlet\"))\n",
    "\n",
    "n = specialcf.normal(3)\n",
    "gradn_uexa = CF((uexa.Diff(x), uexa.Diff(y), uexa.Diff(z))) * n\n",
    "un = GridFunction(fesL2)\n",
    "un.Interpolate(gradn_uexa, definedon=mesh.Boundaries(\"neumann\"))\n",
    "Draw(ud, mesh, draw_vol=False)"
   ]
  },
  {
   "cell_type": "code",
   "execution_count": 22,
   "id": "3adf260a-ee03-42d0-85e6-7342ffbc4bde",
   "metadata": {},
   "outputs": [],
   "source": [
    "eps = 1e-6\n",
    "intorder = 2 * order + 6\n",
    "with TaskManager():\n",
    "    V = SingleLayerPotentialOperator(fesL2, intorder=intorder, eps=eps)\n",
    "    K = DoubleLayerPotentialOperator(fesH1, fesL2, intorder=intorder, eps=eps)\n",
    "    W = HypersingularOperator(fesH1, intorder=intorder, eps=eps)\n",
    "    M = BilinearForm(u1.Trace() * v.Trace() * ds(bonus_intorder=3)).Assemble()\n",
    "    fd = ((0.5 * M.mat + K.mat) * ud.vec - V.mat * un.vec).Evaluate()\n",
    "    fn = ((0.5 * M.mat.T - K.mat.T) * un.vec - W.mat * ud.vec).Evaluate()\n",
    "    pred = BilinearForm(u.Trace() * v.Trace() * ds(bonus_intorder=3), check_unused=False).Assemble()\n",
    "    pren = BilinearForm(u1.Trace() * v1.Trace() * ds(bonus_intorder=3), check_unused=False).Assemble()"
   ]
  },
  {
   "cell_type": "code",
   "execution_count": 26,
   "id": "45043c43-6a37-4887-9293-ae4eb1f0f4c5",
   "metadata": {},
   "outputs": [
    {
     "name": "stdout",
     "output_type": "stream",
     "text": [
      "\u001b[2KGMRes iteration 1, residual = 109.56977428387229     \n",
      "\u001b[2KGMRes iteration 2, residual = 53.5780889864675     \n",
      "\u001b[2KGMRes iteration 3, residual = 20.02971529993262     \n",
      "\u001b[2KGMRes iteration 4, residual = 7.726387210439952     \n",
      "\u001b[2KGMRes iteration 5, residual = 5.904571084454502     \n",
      "\u001b[2KGMRes iteration 6, residual = 5.225276193491822     \n",
      "\u001b[2KGMRes iteration 7, residual = 4.695885280589744     \n",
      "\u001b[2KGMRes iteration 8, residual = 3.845742237212525     \n",
      "\u001b[2KGMRes iteration 9, residual = 2.934693441298939     \n",
      "\u001b[2KGMRes iteration 10, residual = 2.1473652961829655     \n",
      "\u001b[2KGMRes iteration 11, residual = 1.798482243956206     \n",
      "\u001b[2KGMRes iteration 12, residual = 1.609659909950845     \n",
      "\u001b[2KGMRes iteration 13, residual = 1.4221319492240578     \n",
      "\u001b[2KGMRes iteration 14, residual = 1.283385497448402     \n",
      "\u001b[2KGMRes iteration 15, residual = 1.1815881666909356     \n",
      "\u001b[2KGMRes iteration 16, residual = 1.0835527239355531     \n",
      "\u001b[2KGMRes iteration 17, residual = 0.9660125018594617     \n",
      "\u001b[2KGMRes iteration 18, residual = 0.8510309673852624     \n",
      "\u001b[2KGMRes iteration 19, residual = 0.7248868740095139     \n",
      "\u001b[2KGMRes iteration 20, residual = 0.5415679170954246     \n",
      "\u001b[2KGMRes iteration 21, residual = 0.36026518980654787     \n",
      "\u001b[2KGMRes iteration 22, residual = 0.24574930210050935     \n",
      "\u001b[2KGMRes iteration 23, residual = 0.16671279818692708     \n",
      "\u001b[2KGMRes iteration 24, residual = 0.1162742028793886     \n",
      "\u001b[2KGMRes iteration 25, residual = 0.08564097546139882     \n",
      "\u001b[2KGMRes iteration 26, residual = 0.07585618311099031     \n",
      "\u001b[2KGMRes iteration 27, residual = 0.07280030611206442     \n",
      "\u001b[2KGMRes iteration 28, residual = 0.0711190223783307     \n",
      "\u001b[2KGMRes iteration 29, residual = 0.06974609122355341     \n",
      "\u001b[2KGMRes iteration 30, residual = 0.06677310051883681     \n",
      "\u001b[2KGMRes iteration 31, residual = 0.0587503815747308     \n",
      "\u001b[2KGMRes iteration 32, residual = 0.04548871576559066     \n",
      "\u001b[2KGMRes iteration 33, residual = 0.032319557897749415     \n",
      "\u001b[2KGMRes iteration 34, residual = 0.023750620126478817     \n",
      "\u001b[2KGMRes iteration 35, residual = 0.02003645791527373     \n",
      "\u001b[2KGMRes iteration 36, residual = 0.01876555644698503     \n",
      "\u001b[2KGMRes iteration 37, residual = 0.018188191274646635     \n",
      "\u001b[2KGMRes iteration 38, residual = 0.017664650298429535     \n",
      "\u001b[2KGMRes iteration 39, residual = 0.017320862322692403     \n",
      "\u001b[2KGMRes iteration 40, residual = 0.01707632550640501     \n",
      "\u001b[2KGMRes iteration 41, residual = 0.016563187037445838     \n",
      "\u001b[2KGMRes iteration 42, residual = 0.0160044528312945     \n",
      "\u001b[2KGMRes iteration 43, residual = 0.015337970331198837     \n",
      "\u001b[2KGMRes iteration 44, residual = 0.01387627867240621     \n",
      "\u001b[2KGMRes iteration 45, residual = 0.012477739890168099     \n",
      "\u001b[2KGMRes iteration 46, residual = 0.011011806260896135     \n",
      "\u001b[2KGMRes iteration 47, residual = 0.009251260733031383     \n",
      "\u001b[2KGMRes iteration 48, residual = 0.008024978559539297     \n",
      "\u001b[2KGMRes iteration 49, residual = 0.007398338859469003     \n",
      "\u001b[2KGMRes iteration 50, residual = 0.007090567060957281     \n",
      "\u001b[2KGMRes iteration 51, residual = 0.006951365559010717     \n",
      "\u001b[2KGMRes iteration 52, residual = 0.00688644653973935     \n",
      "\u001b[2KGMRes iteration 53, residual = 0.006835147742568104     \n",
      "\u001b[2KGMRes iteration 54, residual = 0.006746108245962034     \n",
      "\u001b[2KGMRes iteration 55, residual = 0.006528485457063949     \n",
      "\u001b[2KGMRes iteration 56, residual = 0.006065521233533084     \n",
      "\u001b[2KGMRes iteration 57, residual = 0.005512292482029869     \n",
      "\u001b[2KGMRes iteration 58, residual = 0.00517187331544824     \n",
      "\u001b[2KGMRes iteration 59, residual = 0.004968742151143647     \n",
      "\u001b[2KGMRes iteration 60, residual = 0.004768523235861661     \n",
      "\u001b[2KGMRes iteration 61, residual = 0.004482629863752647     \n",
      "\u001b[2KGMRes iteration 62, residual = 0.0041533661938249295     \n",
      "\u001b[2KGMRes iteration 63, residual = 0.003903654592081004     \n",
      "\u001b[2KGMRes iteration 64, residual = 0.0037316460752036375     \n",
      "\u001b[2KGMRes iteration 65, residual = 0.0035920096499283648     \n",
      "\u001b[2KGMRes iteration 66, residual = 0.0034331449431806295     \n",
      "\u001b[2KGMRes iteration 67, residual = 0.003299163201200943     \n",
      "\u001b[2KGMRes iteration 68, residual = 0.003203710531547774     \n",
      "\u001b[2KGMRes iteration 69, residual = 0.0031321167925527065     \n",
      "\u001b[2KGMRes iteration 70, residual = 0.0030564091311187686     \n",
      "\u001b[2KGMRes iteration 71, residual = 0.0029685477801232466     \n",
      "\u001b[2KGMRes iteration 72, residual = 0.0029139402323060996     \n",
      "\u001b[2KGMRes iteration 73, residual = 0.0028825541202472044     \n",
      "\u001b[2KGMRes iteration 74, residual = 0.0028390239939239696     \n",
      "\u001b[2KGMRes iteration 75, residual = 0.0027737999627153774     \n",
      "\u001b[2KGMRes iteration 76, residual = 0.0027243277985356156     \n",
      "\u001b[2KGMRes iteration 77, residual = 0.0026742706307696018     \n",
      "\u001b[2KGMRes iteration 78, residual = 0.00259340017212373     \n",
      "\u001b[2KGMRes iteration 79, residual = 0.0025020675614789373     \n",
      "\u001b[2KGMRes iteration 80, residual = 0.002419853792525762     \n",
      "\u001b[2KGMRes iteration 81, residual = 0.002325612868889517     \n",
      "\u001b[2KGMRes iteration 82, residual = 0.0021279539514530727     \n",
      "\u001b[2KGMRes iteration 83, residual = 0.0018496195277618419     \n",
      "\u001b[2KGMRes iteration 84, residual = 0.001649044338741344     \n",
      "\u001b[2KGMRes iteration 85, residual = 0.0014651241182120599     \n",
      "\u001b[2KGMRes iteration 86, residual = 0.0013769601603722645     \n",
      "\u001b[2KGMRes iteration 87, residual = 0.001352777625181813     \n",
      "\u001b[2KGMRes iteration 88, residual = 0.0013342752661669067     \n",
      "\u001b[2KGMRes iteration 89, residual = 0.001320713512215475     \n",
      "\u001b[2KGMRes iteration 90, residual = 0.0013101387990785249     \n",
      "\u001b[2KGMRes iteration 91, residual = 0.0012964795481411673     \n",
      "\u001b[2KGMRes iteration 92, residual = 0.0012800685821742564     \n",
      "\u001b[2KGMRes iteration 93, residual = 0.0012555716118821108     \n",
      "\u001b[2KGMRes iteration 94, residual = 0.0012050893547932938     \n",
      "\u001b[2KGMRes iteration 95, residual = 0.001129063177476587     \n",
      "\u001b[2KGMRes iteration 96, residual = 0.0010136743889404012     \n",
      "\u001b[2KGMRes iteration 97, residual = 0.0008735506743608678     \n",
      "\u001b[2KGMRes iteration 98, residual = 0.0007328742896245233     \n",
      "\u001b[2KGMRes iteration 99, residual = 0.0006221024427599083     \n",
      "\u001b[2KGMRes iteration 100, residual = 0.0005730412724941579     \n",
      "\u001b[2KGMRes iteration 101, residual = 0.0005531219034360184     \n",
      "\u001b[2KGMRes iteration 102, residual = 0.0005448435654112117     \n",
      "\u001b[2KGMRes iteration 103, residual = 0.0005413806361585995     \n",
      "\u001b[2KGMRes iteration 104, residual = 0.0005384367090829691     \n",
      "\u001b[2KGMRes iteration 105, residual = 0.0005335287513637789     \n",
      "\u001b[2KGMRes iteration 106, residual = 0.0005207662185519055     \n",
      "\u001b[2KGMRes iteration 107, residual = 0.0004931003788893008     \n",
      "\u001b[2KGMRes iteration 108, residual = 0.0004312925508190256     \n",
      "\u001b[2KGMRes iteration 109, residual = 0.00035859605988928194     \n",
      "\u001b[2KGMRes iteration 110, residual = 0.0003124861255328372     \n",
      "\u001b[2KGMRes iteration 111, residual = 0.00029677393117580607     \n",
      "\u001b[2KGMRes iteration 112, residual = 0.0002905735382141465     \n",
      "\u001b[2KGMRes iteration 113, residual = 0.00028677160524369957     \n",
      "\u001b[2KGMRes iteration 114, residual = 0.00028125842484407414     \n",
      "\u001b[2KGMRes iteration 115, residual = 0.00026996166970355285     \n",
      "\u001b[2KGMRes iteration 116, residual = 0.00025549688010043765     \n",
      "\u001b[2KGMRes iteration 117, residual = 0.00024122834699877505     \n",
      "\u001b[2KGMRes iteration 118, residual = 0.000231668139317149     \n",
      "\u001b[2KGMRes iteration 119, residual = 0.00022576100190276906     \n",
      "\u001b[2KGMRes iteration 120, residual = 0.00022107896617166284     \n",
      "\u001b[2KGMRes iteration 121, residual = 0.00021803817055975763     \n",
      "\u001b[2KGMRes iteration 122, residual = 0.0002163617036406314     \n",
      "\u001b[2KGMRes iteration 123, residual = 0.00021517045893675672     \n",
      "\u001b[2KGMRes iteration 124, residual = 0.0002128772341335738     \n",
      "\u001b[2KGMRes iteration 125, residual = 0.0002071670865206406     \n",
      "\u001b[2KGMRes iteration 126, residual = 0.00019270421406875627     \n",
      "\u001b[2KGMRes iteration 127, residual = 0.000174731742894358     \n",
      "\u001b[2KGMRes iteration 128, residual = 0.00015861044030403095     \n",
      "\u001b[2KGMRes iteration 129, residual = 0.00015080016323129584     \n",
      "\u001b[2KGMRes iteration 130, residual = 0.0001462218453862548     \n",
      "\u001b[2KGMRes iteration 131, residual = 0.00014338115451886752     \n",
      "\u001b[2KGMRes iteration 132, residual = 0.00014178309224662617     \n",
      "\u001b[2KGMRes iteration 133, residual = 0.00013940001917144335     \n",
      "\u001b[2KGMRes iteration 134, residual = 0.00013321179606184814     \n",
      "\u001b[2KGMRes iteration 135, residual = 0.00012059801866688682     \n",
      "\u001b[2KGMRes iteration 136, residual = 0.00010686892638356446     \n",
      "\u001b[2KGMRes iteration 137, residual = 0.00010017975479801012     \n",
      "\u001b[2KGMRes iteration 138, residual = 9.73069255839538e-05     \n",
      "\u001b[2KGMRes iteration 139, residual = 9.507084509252457e-05     \n",
      "\u001b[2KGMRes iteration 140, residual = 9.360492974589362e-05     \n",
      "\u001b[2KGMRes iteration 141, residual = 9.267813122188463e-05     \n",
      "\u001b[2KGMRes iteration 142, residual = 9.205029970234549e-05     \n",
      "\u001b[2KGMRes iteration 143, residual = 9.14869026193023e-05     \n",
      "\u001b[2KGMRes iteration 144, residual = 9.083882540821815e-05     \n",
      "\u001b[2KGMRes iteration 145, residual = 8.99264842675609e-05     \n",
      "\u001b[2KGMRes iteration 146, residual = 8.772751651286717e-05     \n",
      "\u001b[2KGMRes iteration 147, residual = 8.19496346394862e-05     \n",
      "\u001b[2KGMRes iteration 148, residual = 7.259970096235854e-05     \n",
      "\u001b[2KGMRes iteration 149, residual = 6.380993287178722e-05     \n",
      "\u001b[2KGMRes iteration 150, residual = 5.621219491606642e-05     \n",
      "\u001b[2KGMRes iteration 151, residual = 5.1297401074603495e-05     \n",
      "\u001b[2KGMRes iteration 152, residual = 4.910219476157949e-05     \n",
      "\u001b[2KGMRes iteration 153, residual = 4.8457102020957e-05     \n",
      "\u001b[2KGMRes iteration 154, residual = 4.823089732979468e-05     \n",
      "\u001b[2KGMRes iteration 155, residual = 4.8052891605619366e-05     \n",
      "\u001b[2KGMRes iteration 156, residual = 4.7824873526727834e-05     \n",
      "\u001b[2KGMRes iteration 157, residual = 4.7354776236530715e-05     \n",
      "\u001b[2KGMRes iteration 158, residual = 4.611097727349081e-05     \n",
      "\u001b[2KGMRes iteration 159, residual = 4.3008935311433466e-05     \n",
      "\u001b[2KGMRes iteration 160, residual = 4.0562658923185975e-05     \n",
      "\u001b[2KGMRes iteration 161, residual = 3.9629098958940214e-05     \n",
      "\u001b[2KGMRes iteration 162, residual = 3.916564678273749e-05     \n",
      "\u001b[2KGMRes iteration 163, residual = 3.888716090702366e-05     \n",
      "\u001b[2KGMRes iteration 164, residual = 3.85683871292341e-05     \n",
      "\u001b[2KGMRes iteration 165, residual = 3.7495624932800345e-05     \n",
      "\u001b[2KGMRes iteration 166, residual = 3.450460875607044e-05     \n",
      "\u001b[2KGMRes iteration 167, residual = 3.1483739020085765e-05     \n",
      "\u001b[2KGMRes iteration 168, residual = 2.9774850111056687e-05     \n",
      "\u001b[2KGMRes iteration 169, residual = 2.8781280544489404e-05     \n",
      "\u001b[2KGMRes iteration 170, residual = 2.8411183921582397e-05     \n",
      "\u001b[2KGMRes iteration 171, residual = 2.8095615941226352e-05     \n",
      "\u001b[2KGMRes iteration 172, residual = 2.7905748171021384e-05     \n",
      "\u001b[2KGMRes iteration 173, residual = 2.7817196373634765e-05     \n",
      "\u001b[2KGMRes iteration 174, residual = 2.772476785891799e-05     \n",
      "\u001b[2KGMRes iteration 175, residual = 2.7522790431875262e-05     \n",
      "\u001b[2KGMRes iteration 176, residual = 2.6905074306103504e-05     \n",
      "\u001b[2KGMRes iteration 177, residual = 2.5395473029717806e-05     \n",
      "\u001b[2KGMRes iteration 178, residual = 2.382022572634148e-05     \n",
      "\u001b[2KGMRes iteration 179, residual = 2.3151593387881497e-05     \n",
      "\u001b[2KGMRes iteration 180, residual = 2.2886477447263133e-05     \n",
      "\u001b[2KGMRes iteration 181, residual = 2.2766872794718e-05     \n",
      "\u001b[2KGMRes iteration 182, residual = 2.2628020710612527e-05     \n",
      "\u001b[2KGMRes iteration 183, residual = 2.239280300890962e-05     \n",
      "\u001b[2KGMRes iteration 184, residual = 2.1940279014021617e-05     \n",
      "\u001b[2KGMRes iteration 185, residual = 2.0867344793655634e-05     \n",
      "\u001b[2KGMRes iteration 186, residual = 1.859305804629214e-05     \n",
      "\u001b[2KGMRes iteration 187, residual = 1.543131824524575e-05     \n",
      "\u001b[2KGMRes iteration 188, residual = 1.3608477365661671e-05     \n",
      "\u001b[2KGMRes iteration 189, residual = 1.3030763926507483e-05     \n",
      "\u001b[2KGMRes iteration 190, residual = 1.2892132798907434e-05     \n",
      "\u001b[2KGMRes iteration 191, residual = 1.2833211134282689e-05     \n",
      "\u001b[2KGMRes iteration 192, residual = 1.2768960092059486e-05     \n",
      "\u001b[2KGMRes iteration 193, residual = 1.266041480827319e-05     \n",
      "\u001b[2KGMRes iteration 194, residual = 1.2443086876508472e-05     \n",
      "\u001b[2KGMRes iteration 195, residual = 1.202053398782662e-05     \n",
      "\u001b[2KGMRes iteration 196, residual = 1.1273119253008097e-05     \n",
      "\u001b[2KGMRes iteration 197, residual = 1.0287353963172793e-05     \n",
      "\u001b[2KGMRes iteration 198, residual = 9.487680089604425e-06     \n",
      "\u001b[2KGMRes iteration 199, residual = 9.121838307169179e-06     \n",
      "\u001b[2KGMRes iteration 200, residual = 8.96363909573783e-06     \n",
      "\u001b[2KGMRes iteration 201, residual = 8.87603384660259e-06     \n",
      "\u001b[2KGMRes iteration 202, residual = 8.81269913485937e-06     \n",
      "\u001b[2KGMRes iteration 203, residual = 8.712832627785035e-06     \n",
      "\u001b[2KGMRes iteration 204, residual = 8.39691122486267e-06     \n",
      "\u001b[2KGMRes iteration 205, residual = 7.213177838072544e-06     \n",
      "\u001b[2KGMRes iteration 206, residual = 5.586293446566802e-06     \n",
      "\u001b[2KGMRes iteration 207, residual = 4.749618915326204e-06     \n",
      "\u001b[2KGMRes iteration 208, residual = 4.39870319740284e-06     \n",
      "\u001b[2KGMRes iteration 209, residual = 4.301314556789463e-06     \n",
      "\u001b[2KGMRes iteration 210, residual = 4.2587546131186865e-06     \n",
      "\u001b[2KGMRes iteration 211, residual = 4.238099623080064e-06     \n",
      "\u001b[2KGMRes iteration 212, residual = 4.226490936551565e-06     \n",
      "\u001b[2KGMRes iteration 213, residual = 4.203000645536608e-06     \n",
      "\u001b[2KGMRes iteration 214, residual = 4.123139908565171e-06     \n",
      "\u001b[2KGMRes iteration 215, residual = 3.952928327599606e-06     \n",
      "\u001b[2KGMRes iteration 216, residual = 3.6368174020333162e-06     \n",
      "\u001b[2KGMRes iteration 217, residual = 3.2137155668118465e-06     \n",
      "\u001b[2KGMRes iteration 218, residual = 2.8258103480415397e-06     \n",
      "\u001b[2KGMRes iteration 219, residual = 2.596171069325864e-06     \n",
      "\u001b[2KGMRes iteration 220, residual = 2.500611361379293e-06     \n",
      "\u001b[2KGMRes iteration 221, residual = 2.4487086840941254e-06     \n",
      "\u001b[2KGMRes iteration 222, residual = 2.424858724250286e-06     \n",
      "\u001b[2KGMRes iteration 223, residual = 2.4047002433449476e-06     \n",
      "\u001b[2KGMRes iteration 224, residual = 2.361413238637114e-06     \n",
      "\u001b[2KGMRes iteration 225, residual = 2.208552095480546e-06     \n",
      "\u001b[2KGMRes iteration 226, residual = 1.926184301983363e-06     \n",
      "\u001b[2KGMRes iteration 227, residual = 1.7505255439149208e-06     \n",
      "\u001b[2KGMRes iteration 228, residual = 1.6863026989768085e-06     \n",
      "\u001b[2KGMRes iteration 229, residual = 1.6595696301933345e-06     \n",
      "\u001b[2KGMRes iteration 230, residual = 1.6488654182918563e-06     \n",
      "\u001b[2KGMRes iteration 231, residual = 1.6424802144143977e-06     \n",
      "\u001b[2KGMRes iteration 232, residual = 1.6342475245873949e-06     \n",
      "\u001b[2KGMRes iteration 233, residual = 1.6189638817358796e-06     \n",
      "\u001b[2KGMRes iteration 234, residual = 1.590789269607288e-06     \n",
      "\u001b[2KGMRes iteration 235, residual = 1.505707223264575e-06     \n",
      "\u001b[2KGMRes iteration 236, residual = 1.3217379405786205e-06     \n",
      "\u001b[2KGMRes iteration 237, residual = 1.2154174107269352e-06     \n",
      "\u001b[2KGMRes iteration 238, residual = 1.188551319622984e-06     \n",
      "\u001b[2KGMRes iteration 239, residual = 1.179036838374699e-06     \n",
      "\u001b[2KGMRes iteration 240, residual = 1.1725314246008732e-06     \n",
      "\u001b[2KGMRes iteration 241, residual = 1.1618976499085266e-06     \n",
      "\u001b[2KGMRes iteration 242, residual = 1.125928908393871e-06     \n",
      "\u001b[2KGMRes iteration 243, residual = 1.0071739829140228e-06     \n",
      "\u001b[2KGMRes iteration 244, residual = 8.851221473393201e-07     \n",
      "\u001b[2KGMRes iteration 245, residual = 8.044450385404143e-07     \n",
      "\u001b[2KGMRes iteration 246, residual = 7.454426644810289e-07     \n",
      "\u001b[2KGMRes iteration 247, residual = 7.291711541125313e-07     \n",
      "\u001b[2KGMRes iteration 248, residual = 7.249716113171559e-07     \n",
      "\u001b[2KGMRes iteration 249, residual = 7.226396350786622e-07     \n",
      "\u001b[2KGMRes iteration 250, residual = 7.201730344129061e-07     \n",
      "\u001b[2KGMRes iteration 251, residual = 7.116041196954511e-07     \n",
      "\u001b[2KGMRes iteration 252, residual = 6.751986887082926e-07     \n",
      "\u001b[2KGMRes iteration 253, residual = 6.103247393575342e-07     \n",
      "\u001b[2KGMRes iteration 254, residual = 5.647408381248947e-07     \n",
      "\u001b[2KGMRes iteration 255, residual = 5.513634891177736e-07     \n",
      "\u001b[2KGMRes iteration 256, residual = 5.465598495004576e-07     \n",
      "\u001b[2KGMRes iteration 257, residual = 5.432479363230751e-07     \n",
      "\u001b[2KGMRes iteration 258, residual = 5.40517226164228e-07     \n",
      "\u001b[2KGMRes iteration 259, residual = 5.369780136010462e-07     \n",
      "\u001b[2KGMRes iteration 260, residual = 5.281700100549978e-07     \n",
      "\u001b[2KGMRes iteration 261, residual = 5.010582431829352e-07     \n",
      "\u001b[2KGMRes iteration 262, residual = 4.391618359089278e-07     \n",
      "\u001b[2KGMRes iteration 263, residual = 3.7399834779275177e-07     \n",
      "\u001b[2KGMRes iteration 264, residual = 3.358182324900473e-07     \n",
      "\u001b[2KGMRes iteration 265, residual = 3.192524544965115e-07     \n",
      "\u001b[2KGMRes iteration 266, residual = 3.131345787315357e-07     \n",
      "\u001b[2KGMRes iteration 267, residual = 3.1097162085600317e-07     \n",
      "\u001b[2KGMRes iteration 268, residual = 3.09244546502845e-07     \n",
      "\u001b[2KGMRes iteration 269, residual = 3.0521397988180566e-07     \n",
      "\u001b[2KGMRes iteration 270, residual = 2.913232357017497e-07     \n",
      "\u001b[2KGMRes iteration 271, residual = 2.698203696942916e-07     \n",
      "\u001b[2KGMRes iteration 272, residual = 2.590323992322458e-07     \n",
      "\u001b[2KGMRes iteration 273, residual = 2.553048865682976e-07     \n",
      "\u001b[2KGMRes iteration 274, residual = 2.5383210280023013e-07     \n",
      "\u001b[2KGMRes iteration 275, residual = 2.528564302454714e-07     \n",
      "\u001b[2KGMRes iteration 276, residual = 2.510735067460848e-07     \n",
      "\u001b[2KGMRes iteration 277, residual = 2.4572997654696383e-07     \n",
      "\u001b[2KGMRes iteration 278, residual = 2.2607053753198185e-07     \n",
      "\u001b[2KGMRes iteration 279, residual = 1.863259496769756e-07     \n",
      "\u001b[2KGMRes iteration 280, residual = 1.6189432390510996e-07     \n",
      "\u001b[2KGMRes iteration 281, residual = 1.5404247303579958e-07     \n",
      "\u001b[2KGMRes iteration 282, residual = 1.5130987762572148e-07     \n",
      "\u001b[2KGMRes iteration 283, residual = 1.4981113279738042e-07     \n",
      "\u001b[2KGMRes iteration 284, residual = 1.487369697208114e-07     \n",
      "\u001b[2KGMRes iteration 285, residual = 1.4671880088654168e-07     \n",
      "\u001b[2KGMRes iteration 286, residual = 1.400897367511069e-07     \n",
      "\u001b[2KGMRes iteration 287, residual = 1.2770249370232322e-07     \n",
      "\u001b[2KGMRes iteration 288, residual = 1.0702141400491227e-07     \n",
      "\u001b[2KGMRes iteration 289, residual = 9.175872738767106e-08     \n",
      "\u001b[2KGMRes iteration 290, residual = 8.647687877302087e-08     \n",
      "\u001b[2KGMRes iteration 291, residual = 8.493890810861643e-08     \n",
      "\u001b[2KGMRes iteration 292, residual = 8.463404925850336e-08     \n",
      "\u001b[2KGMRes iteration 293, residual = 8.440326445807248e-08     \n",
      "\u001b[2KGMRes iteration 294, residual = 8.368825549380022e-08     \n",
      "\u001b[2KGMRes iteration 295, residual = 8.13424824590534e-08     \n",
      "\u001b[2KGMRes iteration 296, residual = 7.499681896333657e-08     \n",
      "\u001b[2KGMRes iteration 297, residual = 6.571969807667024e-08     \n",
      "\u001b[2KGMRes iteration 298, residual = 5.961345334599529e-08     \n",
      "\u001b[2KGMRes iteration 299, residual = 5.739359731432106e-08     \n",
      "\u001b[2KGMRes iteration 300, residual = 5.677529668601209e-08     \n",
      "\u001b[2KWARNING: GMRes did not converge to TOL\n"
     ]
    }
   ],
   "source": [
    "lhs = BlockMatrix([[V.mat, - K.mat], [K.mat.T, W.mat]])\n",
    "rhs = BlockVector([fd, fn])\n",
    "pre = BlockMatrix ([[pred.mat.Inverse(freedofs=fesL2.FreeDofs()), None], [None, pren.mat.Inverse(freedofs=fesH1.FreeDofs())]])\n",
    "\n",
    "sol = GMRes(A=lhs, b=rhs, pre=pre, maxsteps=300)"
   ]
  },
  {
   "cell_type": "code",
   "execution_count": 27,
   "id": "dc335873-1f14-451a-b3fd-d306e0831cd1",
   "metadata": {},
   "outputs": [
    {
     "data": {
      "application/vnd.jupyter.widget-view+json": {
       "model_id": "58a52cb1b2344b4c96db116189f5bfec",
       "version_major": 2,
       "version_minor": 0
      },
      "text/plain": [
       "WebGuiWidget(layout=Layout(height='50vh', width='100%'), value={'gui_settings': {}, 'ngsolve_version': '6.2.23…"
      ]
     },
     "metadata": {},
     "output_type": "display_data"
    },
    {
     "data": {
      "text/plain": [
       "BaseWebGuiScene"
      ]
     },
     "execution_count": 27,
     "metadata": {},
     "output_type": "execute_result"
    }
   ],
   "source": [
    "gfu = GridFunction(fesL2)\n",
    "gfu.vec[:] = sol[0]\n",
    "#gfu.Interpolate(gradn_uexa, definedon=mesh.Boundaries(\"neumann\")) \n",
    "Draw(gfu)"
   ]
  },
  {
   "cell_type": "code",
   "execution_count": 28,
   "id": "b69b51bb-8fc7-4ed8-993b-154e3b95bbe2",
   "metadata": {},
   "outputs": [
    {
     "name": "stdout",
     "output_type": "stream",
     "text": [
      "L2 error of surface gradients = 0.0004377141341219706\n"
     ]
    }
   ],
   "source": [
    "print (\"L2 error of surface gradients =\", sqrt(Integrate((gradn_uexa - gfu)**2, mesh.Boundaries(\"dirichlet\"), BND)))"
   ]
  },
  {
   "cell_type": "code",
   "execution_count": null,
   "id": "c35f73dc-3e40-482a-ba72-a7e03e16637a",
   "metadata": {},
   "outputs": [],
   "source": []
  }
 ],
 "metadata": {
  "kernelspec": {
   "display_name": "Python 3 (ipykernel)",
   "language": "python",
   "name": "python3"
  },
  "language_info": {
   "codemirror_mode": {
    "name": "ipython",
    "version": 3
   },
   "file_extension": ".py",
   "mimetype": "text/x-python",
   "name": "python",
   "nbconvert_exporter": "python",
   "pygments_lexer": "ipython3",
   "version": "3.11.6"
  }
 },
 "nbformat": 4,
 "nbformat_minor": 5
}
