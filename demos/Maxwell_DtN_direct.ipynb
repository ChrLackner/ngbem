{
 "cells": [
  {
   "cell_type": "markdown",
   "id": "27439a9a-bf23-4761-bb28-b73132b97f25",
   "metadata": {},
   "source": [
    "Maxwell solver for Pec using direct formulation\n",
    "=============================\n",
    "**keys**: Maxwell double layer potential, PEC scattering, MoM, Neumann trace"
   ]
  },
  {
   "cell_type": "code",
   "execution_count": null,
   "id": "4220f8af-1580-467a-801e-6ef49d43c70c",
   "metadata": {},
   "outputs": [],
   "source": [
    "from netgen.occ import *\n",
    "import netgen.meshing as meshing\n",
    "from ngsolve import *\n",
    "from ngsolve.webgui import Draw\n",
    "from libbem import *\n",
    "from ngsolve import Projector, Preconditioner\n",
    "from ngsolve.krylovspace import CG"
   ]
  },
  {
   "cell_type": "code",
   "execution_count": null,
   "id": "b3bee3e9-b23a-43dd-b5d9-8f9265af827a",
   "metadata": {},
   "outputs": [],
   "source": [
    "sp = Sphere( (0,0,0), 1)\n",
    "mesh = Mesh( OCCGeometry(sp).GenerateMesh(maxh=1, perfstepsend=meshing.MeshingStep.MESHSURFACE)).Curve(3)"
   ]
  },
  {
   "cell_type": "code",
   "execution_count": null,
   "id": "5a6ee11f-4bc6-4cc8-9408-c4d6d9c4727d",
   "metadata": {},
   "outputs": [],
   "source": [
    "fesHCurl = HCurl(mesh, order=3, complex=True)\n",
    "fesHDiv = HDivSurface(mesh, order=3, complex=True)\n",
    "uHCurl,vHCurl = fesHCurl.TnT() # H(curl_Gamma) trial for Dirichlet data ( (nxE)xn )\n",
    "uHDiv,vHDiv = fesHDiv.TnT() # H(div_Gamma) trial space for Neumann data ( nx curlE ) and test space for BIE\n",
    "\n",
    "print (\"ndof HCurl = \", fesHCurl.ndof)\n",
    "print (\"ndof HDiv = \", fesHDiv.ndof)"
   ]
  },
  {
   "cell_type": "code",
   "execution_count": null,
   "id": "2ea25412-738b-469b-a30c-990d32089e9c",
   "metadata": {},
   "outputs": [],
   "source": [
    "eps0 = 8.854e-12 \n",
    "mu0 = 4*pi*1e-7\n",
    "omega = 1.5e9\n",
    "kappa = omega*sqrt(eps0*mu0)\n",
    "print(\"kappa = \", kappa)\n",
    "\n",
    "E_inc = CF((1,0,0))*exp( -1j * kappa * z )\n",
    "\n",
    "n = specialcf.normal(3)\n",
    "mR = GridFunction(fesHCurl) \n",
    "mR.Set( - Cross( Cross(n, E_inc), n) , definedon=mesh.Boundaries(\".*\"), dual=True) # Hcurl"
   ]
  },
  {
   "cell_type": "code",
   "execution_count": null,
   "id": "959ddac0-c19b-478b-b253-023bda4bc70d",
   "metadata": {},
   "outputs": [],
   "source": [
    "# new operators, i.e., V: Hdiv is TnT; K: Hdiv as test and HCurl as trial space with rotated evaluator   \n",
    "with TaskManager(): \n",
    "    V = MaxwellSingleLayerPotentialOperator(fesHDiv, kappa, \n",
    "                                            intorder=10, leafsize=40, eta=3., eps=1e-4, method=\"aca\", testhmatrix=False)\n",
    "    K = MaxwellDoubleLayerPotentialOperator(fesHCurl, fesHDiv, kappa, \n",
    "                                            intorder=12, leafsize=40, eta=3., eps=1e-6, method=\"aca\", testhmatrix=False)"
   ]
  },
  {
   "cell_type": "code",
   "execution_count": null,
   "id": "826c6485-fa0f-4643-a245-70fd662c99d9",
   "metadata": {},
   "outputs": [],
   "source": [
    "# solve direct formulation for j, i.e., Neumann data of scattered electric field E\n",
    "j = GridFunction(fesHDiv) \n",
    "pre = BilinearForm( uHDiv.Trace() * vHDiv.Trace() *ds).Assemble().mat.Inverse(freedofs=fesHDiv.FreeDofs()) \n",
    "with TaskManager(): \n",
    "    M = BilinearForm( uHCurl.Trace() * vHDiv.Trace()* ds(bonus_intorder=3)).Assemble() # <Hcurl, Hdiv>  \n",
    "    rhs = ( (0.5 * M.mat - K.mat ) * mR.vec).Evaluate() \n",
    "    CG(mat = V.mat, pre=pre, rhs = rhs, sol=j.vec, tol=1e-8, maxsteps=500, initialize=False, printrates=False)\n",
    "\n",
    "# sove EFIE, j_efie\n",
    "j_efie = GridFunction(fesHDiv) # Hdiv\n",
    "rhs_efie = LinearForm( mR * vHDiv.Trace() *ds(bonus_intorder=3)).Assemble() \n",
    "CG(mat = V.mat, pre=pre, rhs = rhs_efie.vec, sol=j_efie.vec, tol=1e-8, maxsteps=500, initialize=False, printrates=False);\n",
    "curlE_inc = CF( (0,-1j*kappa,0) ) *exp( -1j * kappa * z ) "
   ]
  },
  {
   "cell_type": "code",
   "execution_count": null,
   "id": "6d889b95-ee41-4202-80d6-ca7de9f2c848",
   "metadata": {},
   "outputs": [],
   "source": [
    "# check j: it must hold j_efie =j + j_inc \n",
    "# reason: j_efie is the Neumann data of total electric Field E_tot = E + E_inc\n",
    "j_inc = GridFunction(fesHDiv) \n",
    "j_inc.Set( Cross(n, curlE_inc), definedon=mesh.Boundaries(\".*\"), dual=True) # Hdiv \n",
    "\n",
    "j_efie_test = GridFunction(fesHDiv)\n",
    "j_efie_test.Set (j + j_inc, definedon=mesh.Boundaries(\".*\"), dual=True) # consistent in Hdiv\n",
    "\n",
    "Draw(Norm(j_efie), mesh, draw_vol=False, order=3);\n",
    "Draw(Norm(j_efie_test), mesh, draw_vol=False, order=3);"
   ]
  },
  {
   "cell_type": "code",
   "execution_count": null,
   "id": "79921d6d-00ab-4b75-b447-1f2514eceee7",
   "metadata": {},
   "outputs": [],
   "source": []
  },
  {
   "cell_type": "code",
   "execution_count": null,
   "id": "145bc12d-bd07-4ea2-88ec-8bbb8ee9112d",
   "metadata": {},
   "outputs": [],
   "source": []
  }
 ],
 "metadata": {
  "kernelspec": {
   "display_name": "Python 3 (ipykernel)",
   "language": "python",
   "name": "python3"
  },
  "language_info": {
   "codemirror_mode": {
    "name": "ipython",
    "version": 3
   },
   "file_extension": ".py",
   "mimetype": "text/x-python",
   "name": "python",
   "nbconvert_exporter": "python",
   "pygments_lexer": "ipython3",
   "version": "3.11.6"
  }
 },
 "nbformat": 4,
 "nbformat_minor": 5
}
