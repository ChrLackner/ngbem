{
 "cells": [
  {
   "cell_type": "markdown",
   "id": "27439a9a-bf23-4761-bb28-b73132b97f25",
   "metadata": {},
   "source": [
    "Maxwell solver for Pec using direct formulation\n",
    "=============================\n",
    "**keys**: Maxwell double layer potential, PEC scattering, MoM, Neumann trace\n",
    "\n",
    "ASSUME: \n",
    "\n",
    "    return make_unique<GenericIntegralOperator<MaxwellDLKernel<3>>>(space, space,                                                            \n",
    "                                                                    make_shared<T_DifferentialOperator<DiffOpRotatedTrace>>(), \n",
    "                                                                    make_shared<T_DifferentialOperator<DiffOpRotatedTrace>>(), \n",
    "                                                                    MaxwellDLKernel<3>(kappa), param);\n"
   ]
  },
  {
   "cell_type": "code",
   "execution_count": null,
   "id": "4220f8af-1580-467a-801e-6ef49d43c70c",
   "metadata": {},
   "outputs": [],
   "source": [
    "from netgen.occ import *\n",
    "import netgen.meshing as meshing\n",
    "from ngsolve import *\n",
    "from ngsolve.webgui import Draw\n",
    "from libbem import *\n",
    "from ngsolve import Projector, Preconditioner\n",
    "from ngsolve.krylovspace import CG"
   ]
  },
  {
   "cell_type": "markdown",
   "id": "949f2633-c5c4-459e-aeb6-a39752d4e7a9",
   "metadata": {},
   "source": [
    "We consider a perfect conductor $\\Omega \\subset \\mathbb R^3$ and a plane wave $\\boldsymbol E_{\\mathrm{inc}} $ with tangential trace $\\gamma_R \\boldsymbol E_{\\mathrm{inc}} = -\\boldsymbol m \\in \\boldsymbol H^{-\\frac12}\\left( \\mathrm{curl}_\\Gamma, \\Gamma\\right)\\,.$ The incoming wave thus induces a scattered electric field $\\boldsymbol E$ which propagates into $\\Omega^c$. The scattered electric field solves the following Dirichlet boundary value problem: \n",
    "\n",
    "$$ \\left\\{ \\begin{array}{rcl l} \\mathbf{curl} \\, \\mathbf{curl}\\, \\boldsymbol E - \\kappa^2 \\, \\boldsymbol E &=& \\boldsymbol 0, \\quad &\\textnormal{in } \\Omega^c \\subset \\mathbb R^3\\,,\\\\ \\gamma_R \\,\\boldsymbol E &=& \\boldsymbol m_R, \\quad & \\textnormal{on }\\Gamma \\\\ \\left\\| \\mathbf{curl} \\, \\boldsymbol E( x) - i\\,\\omega\\,\\epsilon \\, \\boldsymbol E( x)\\right\\| &=& \\mathcal O\\left( \\displaystyle \\frac{1}{\\| x\\|^2}\\right), &\\textnormal{for} \\; \\|x\\| \\to \\infty\\,.\\end{array} \\right. $$ \n",
    "\n",
    "and a possible representation reads\n",
    "\n",
    "$$ \\boldsymbol E(x) = \\underbrace{\\int\\limits_\\Gamma \\displaystyle{ \\frac{1}{4\\,\\pi} \\, \\frac{e^{i\\,\\kappa\\,\\|x-y\\|}}{\\| x-y\\|} } \\, \\boldsymbol j(y)\\, \\mathrm{d}\\sigma_y + \\frac{1}{\\kappa^2} \\nabla \\int\\limits_\\Gamma \\displaystyle{ \\frac{1}{4\\,\\pi}\\, \\frac{e^{i\\,\\kappa\\,\\|x-y\\|}}{\\| x-y\\|} } \\, \\mathrm{div}_\\Gamma \\boldsymbol j(y)\\, \\mathrm{d}\\sigma_y }_{\\displaystyle{\\mathrm{SL}(\\boldsymbol j)} } + \\underbrace{ \\nabla \\times \\int\\limits_\\Gamma \\displaystyle{ \\frac{1}{4\\,\\pi} \\, \\frac{e^{i\\,\\kappa\\,\\|x-y\\|}}{\\| x-y\\|} } \\, \\boldsymbol m_D(y)\\, \\mathrm{d}\\sigma_y }_{\\displaystyle{ \\mathrm{DL} ( \\boldsymbol{m}_D) } } \\,.$$\n",
    "\n",
    "The trace $\\boldsymbol j$ is the Neumann trace and $\\boldsymbol{ m}_D = \\boldsymbol n\\times \\boldsymbol m_R$ denotes the rotated Dirichlet trace of $\\boldsymbol E$. We carefully apply the tangential trace $\\gamma_R$ and thus obtain a boundary integral equation for unknown Neumann data $\\boldsymbol j$. The bounary integral equation is solved by the boundary element method, i.e. the numerical solution of the variational formulation \n",
    "\n",
    "$$  \\forall \\, \\boldsymbol v\\in H^{-\\frac12}(\\mathrm{div}_\\Gamma, \\Gamma): \\quad \\left\\langle \\mathrm{SL} (\\boldsymbol j), \\boldsymbol v \\right\\rangle_{-\\frac12} = \\left\\langle \\boldsymbol{m}_D, \\boldsymbol v\\right\\rangle_{-\\frac12}  + \\left\\langle \\mathrm{DL}( \\boldsymbol{m}_D), \\boldsymbol v\\right\\rangle_{-\\frac12} \\,. $$ \n",
    "\n",
    "In the enineering community, the approximation scheme is also known as **method of moments** (MoM). "
   ]
  },
  {
   "cell_type": "markdown",
   "id": "c74e2639-0d66-49ca-84e1-62a4631f1652",
   "metadata": {},
   "source": [
    "Define the geometry of the perfect conductor $\\Omega$ and create a mesh:"
   ]
  },
  {
   "cell_type": "code",
   "execution_count": null,
   "id": "b3bee3e9-b23a-43dd-b5d9-8f9265af827a",
   "metadata": {},
   "outputs": [],
   "source": [
    "sp = Sphere( (0,0,0), 1)\n",
    "mesh = Mesh( OCCGeometry(sp).GenerateMesh(maxh=1, perfstepsend=meshing.MeshingStep.MESHSURFACE)).Curve(2)"
   ]
  },
  {
   "cell_type": "markdown",
   "id": "e8c31fe0-9761-494b-9ab7-81a88a8c9bbb",
   "metadata": {},
   "source": [
    "Next, we create finite element spaces for $\\boldsymbol H^{-\\frac12}(\\mathrm{curl}_\\Gamma, \\Gamma)$ and rotate them later to obtain $\\boldsymbol H^{-\\frac12}(\\mathrm{div}_\\Gamma, \\Gamma)$ conforming shape functions as test and trial space. "
   ]
  },
  {
   "cell_type": "code",
   "execution_count": null,
   "id": "5a6ee11f-4bc6-4cc8-9408-c4d6d9c4727d",
   "metadata": {},
   "outputs": [],
   "source": [
    "fesHCurl = HCurl(mesh, order=3, complex=True)\n",
    "fesHDiv = HDivSurface(mesh, order=3, complex=True)\n",
    "uHCurl,vHCurl = fesHCurl.TnT() # H(curl_Gamma) conform spaces; trial and test\n",
    "uHDiv,vHDiv = fesHDiv.TnT() # H(div_Gamma) conform spaces; trial and test\n",
    "\n",
    "print (\"ndof HCurl = \", fesHCurl.ndof)"
   ]
  },
  {
   "cell_type": "markdown",
   "id": "072b149e-d83c-46f6-9d30-b0a432e7dcdd",
   "metadata": {},
   "source": [
    "Define the incoming plane wave and compute the given boundary data $\\boldsymbol m = -\\gamma_R \\boldsymbol E_{\\mathrm{inc}}$ : "
   ]
  },
  {
   "cell_type": "code",
   "execution_count": null,
   "id": "2ea25412-738b-469b-a30c-990d32089e9c",
   "metadata": {},
   "outputs": [],
   "source": [
    "eps0 = 8.854e-12 \n",
    "mu0 = 4*pi*1e-7\n",
    "omega = 1.5e9\n",
    "kappa = omega*sqrt(eps0*mu0)\n",
    "print(\"kappa = \", kappa)\n",
    "\n",
    "E_inc = CF((1,0,0))*exp( -1j * kappa * z )\n",
    "\n",
    "n = specialcf.normal(3)\n",
    "mR = GridFunction(fesHCurl) \n",
    "mR.Set( - E_inc, definedon=mesh.Boundaries(\".*\"), dual=True) # Hcurl\n",
    "#Draw (Norm(mR), mesh, draw_vol=False, order=2);"
   ]
  },
  {
   "cell_type": "markdown",
   "id": "c9255ee1-9bb1-47a3-a3f1-12fc048bb19e",
   "metadata": {},
   "source": [
    "The discretisation of the above variational formulation leads to a system of linear equations, ie\n",
    "$$ \\mathrm{V} \\, \\mathrm j = \\left( \\frac12 \\,\\mathrm{M} +\\mathrm{K} \\right)\\, \\mathrm{m_R}\\,,$$\n",
    "where \n",
    "* $\\mathrm V$ is the Maxwell single layer operator. $V$ is a regular, symmetric matrix.\n",
    "* $\\mathrm{M}$ is the mass matrix.\n",
    "* $\\mathrm K$ is the Maxwell double layer operator. $K$ is quadratic. "
   ]
  },
  {
   "cell_type": "code",
   "execution_count": null,
   "id": "959ddac0-c19b-478b-b253-023bda4bc70d",
   "metadata": {},
   "outputs": [],
   "source": [
    "with TaskManager(): \n",
    "    V = MaxwellSingleLayerPotentialOperatorNew(fesHDiv, kappa, \n",
    "                                            intorder=10, leafsize=40, eta=3., eps=1e-4, method=\"aca\", testhmatrix=False)\n",
    "    K = MaxwellDoubleLayerPotentialOperatorNew(fesHCurl, fesHDiv, kappa, \n",
    "                                            intorder=12, leafsize=40, eta=3., eps=1e-6, method=\"aca\", testhmatrix=False)"
   ]
  },
  {
   "cell_type": "code",
   "execution_count": null,
   "id": "826c6485-fa0f-4643-a245-70fd662c99d9",
   "metadata": {},
   "outputs": [],
   "source": [
    "j = GridFunction(fesHDiv) \n",
    "pre = BilinearForm( uHDiv.Trace() * vHDiv.Trace() *ds).Assemble().mat.Inverse(freedofs=fesHCurl.FreeDofs()) \n",
    "with TaskManager(): \n",
    "    M = BilinearForm(uHCurl.Trace() * vHDiv.Trace() * ds(bonus_intorder=3)).Assemble() # <Hcurl, Hdiv>  \n",
    "    rhs = ( (0.5 * M.mat + K.mat) * mR.vec).Evaluate()\n",
    "    CG(mat = V.mat, pre=pre, rhs = rhs, sol=j.vec, tol=1e-8, maxsteps=500, initialize=False, printrates=False)"
   ]
  },
  {
   "cell_type": "code",
   "execution_count": null,
   "id": "62b21708-128c-4bf3-a000-d4b270183f9b",
   "metadata": {},
   "outputs": [],
   "source": [
    "## alternatively work with rotated trace mD\n",
    "#mD = GridFunction(fesHCurl) \n",
    "#mD.Set( - Cross(n,E_inc), definedon=mesh.Boundaries(\".*\"), dual=True) # Hdiv\n",
    "#j = GridFunction(fesHCurl) \n",
    "#pre = BilinearForm( uHCurl.Trace() * vHCurl.Trace() *ds).Assemble().mat.Inverse(freedofs=fesHCurl.FreeDofs()) \n",
    "#with TaskManager(): \n",
    "#    M = BilinearForm(uHCurl.Trace() * vHCurl.Trace() * ds(bonus_intorder=3)).Assemble() # <Hcurl, Hdiv>  \n",
    "#    rhs = ( 0.5 * M.mat * mD.vec + K.mat * mR.vec).Evaluate() \n",
    "#    CG(mat = V.mat, pre=pre, rhs = rhs, sol=j.vec, tol=1e-8, maxsteps=500, initialize=False, printrates=False)"
   ]
  },
  {
   "cell_type": "code",
   "execution_count": null,
   "id": "d50ff705-479f-4cef-802b-cc39c4a1ebb1",
   "metadata": {},
   "outputs": [],
   "source": [
    "Draw(j, mesh, draw_vol=False, order=3, animate_complex=True);"
   ]
  },
  {
   "cell_type": "code",
   "execution_count": null,
   "id": "eddc78ea-1a10-429b-87cc-9d15333efa77",
   "metadata": {},
   "outputs": [],
   "source": [
    "bis daher hab ich auf HDivSurface umgestellt ...."
   ]
  },
  {
   "cell_type": "markdown",
   "id": "a5c78468-19b5-4750-bc9e-5cc58f22e8ac",
   "metadata": {},
   "source": [
    "**Check the numerical result for $j$ with EFIE**\n",
    "\n",
    "The density $\\boldsymbol j$ is related to the solution $\\boldsymbol j_{\\mathrm{efie}}$ of the EFIE (indirect formulation), i.e., \n",
    "\n",
    "$$  \\boldsymbol j = \\boldsymbol j_{\\mathrm{efie}} - \\boldsymbol j_{\\mathrm{inc}}\\,.$$ \n",
    "\n",
    "Thus, given $\\boldsymbol j_{\\mathrm{efie}}$, there is an alternative to compute $\\boldsymbol j$. We use this alternative to check the direct formulation."
   ]
  },
  {
   "cell_type": "code",
   "execution_count": null,
   "id": "c77b4ce8-e4bb-4aa6-b80f-ccee528622cb",
   "metadata": {},
   "outputs": [],
   "source": [
    "# solve EFIE (Neumann trace of total field)\n",
    "j_efie = GridFunction(fesHCurl) \n",
    "rhs_efie = LinearForm( mR * Cross( n, vHCurl.Trace() ) *ds(bonus_intorder=3)).Assemble() \n",
    "CG(mat = V.mat, pre=pre, rhs = rhs_efie.vec, sol=j_efie.vec, tol=1e-8, maxsteps=500, initialize=False, printrates=False);"
   ]
  },
  {
   "cell_type": "code",
   "execution_count": null,
   "id": "6be859de-5312-494f-8ffb-ea9c6744b502",
   "metadata": {},
   "outputs": [],
   "source": [
    "# get the resulting Neumann trace of the scattered field\n",
    "curlE_inc = CF( (0,-1j*kappa,0) ) *exp( -1j * kappa * z ) \n",
    "j_inc = GridFunction(fesHCurl) \n",
    "j_inc.Set( curlE_inc, definedon=mesh.Boundaries(\".*\")) \n",
    "j_test = GridFunction(fesHCurl) \n",
    "j_test.Set (j_efie-j_inc, definedon=mesh.Boundaries(\".*\")) "
   ]
  },
  {
   "cell_type": "code",
   "execution_count": null,
   "id": "ed46a59e-79a1-4cdd-bda1-de2d11ea2f21",
   "metadata": {},
   "outputs": [],
   "source": [
    "Draw(Norm(j), mesh, draw_vol=False, order=2);\n",
    "Draw(Norm(j_test), mesh, draw_vol=False, order=2, animate_complex=True);\n",
    "print(Norm(j.vec))\n",
    "print(Norm(j_test.vec))"
   ]
  },
  {
   "cell_type": "code",
   "execution_count": null,
   "id": "258d3cf6-8646-48f0-9688-4b4455f177b6",
   "metadata": {},
   "outputs": [],
   "source": [
    "Draw(j.real, mesh, draw_vol=False, order=2);\n",
    "Draw(j_test.real, mesh, draw_vol=False, order=2);"
   ]
  },
  {
   "cell_type": "code",
   "execution_count": null,
   "id": "2b69dc88-49b0-4a64-8f85-4d3d8faa2bb5",
   "metadata": {},
   "outputs": [],
   "source": [
    "Draw(j.imag, mesh, draw_vol=False, order=2);\n",
    "Draw(j_test.imag, mesh, draw_vol=False, order=2);"
   ]
  },
  {
   "cell_type": "code",
   "execution_count": null,
   "id": "06800751-a827-4d58-9271-0e63d1b5a635",
   "metadata": {},
   "outputs": [],
   "source": []
  },
  {
   "cell_type": "markdown",
   "id": "ea385457-1e87-40f9-819d-9203aa52c828",
   "metadata": {},
   "source": [
    "For details on convergence studies for HOBEM for PEC scattering look [here](https://publikationen.sulb.uni-saarland.de/bitstream/20.500.11880/26312/1/thesis_weggler_final_6.1.12.pdf)."
   ]
  },
  {
   "cell_type": "code",
   "execution_count": null,
   "id": "747a41a9-0eb6-4071-bfec-51abbbee5a8e",
   "metadata": {},
   "outputs": [],
   "source": [
    "fesHCurl = HCurl(mesh, order=3, complex=True)\n",
    "fesHDiv = HDivSurface(mesh, order=3, complex=True)\n",
    "\n",
    "K = MaxwellDoubleLayerPotentialOperator(fesHCurl, fesHDiv, kappa, \n",
    "                                        intorder=12, leafsize=40, eta=3., eps=1e-6, method=\"aca\", testhmatrix=False)"
   ]
  },
  {
   "cell_type": "code",
   "execution_count": null,
   "id": "53ab7411-8db5-4bdc-8165-f22a4219be1d",
   "metadata": {},
   "outputs": [],
   "source": [
    "print (K.mat)"
   ]
  },
  {
   "cell_type": "code",
   "execution_count": null,
   "id": "9180ca39-411c-42fe-a898-c6002d36e4ed",
   "metadata": {},
   "outputs": [],
   "source": []
  }
 ],
 "metadata": {
  "kernelspec": {
   "display_name": "Python 3 (ipykernel)",
   "language": "python",
   "name": "python3"
  },
  "language_info": {
   "codemirror_mode": {
    "name": "ipython",
    "version": 3
   },
   "file_extension": ".py",
   "mimetype": "text/x-python",
   "name": "python",
   "nbconvert_exporter": "python",
   "pygments_lexer": "ipython3",
   "version": "3.12.1"
  }
 },
 "nbformat": 4,
 "nbformat_minor": 5
}
