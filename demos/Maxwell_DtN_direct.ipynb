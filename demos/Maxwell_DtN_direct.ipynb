{
 "cells": [
  {
   "cell_type": "markdown",
   "id": "27439a9a-bf23-4761-bb28-b73132b97f25",
   "metadata": {},
   "source": [
    "Maxwell solver for Pec using direct formulation\n",
    "============================="
   ]
  },
  {
   "cell_type": "code",
   "execution_count": null,
   "id": "4220f8af-1580-467a-801e-6ef49d43c70c",
   "metadata": {},
   "outputs": [],
   "source": [
    "from netgen.occ import *\n",
    "import netgen.meshing as meshing\n",
    "from ngsolve import *\n",
    "from ngsolve.webgui import Draw\n",
    "from libbem import *\n",
    "from ngsolve import Projector, Preconditioner\n",
    "from ngsolve.krylovspace import CG"
   ]
  },
  {
   "cell_type": "markdown",
   "id": "949f2633-c5c4-459e-aeb6-a39752d4e7a9",
   "metadata": {},
   "source": [
    "We consider a perfect conductor $\\Omega \\subset \\mathbb R^3$ and a plane wave $\\boldsymbol E^i $ with Dirichlet trace $\\gamma_D \\boldsymbol E^i = -\\boldsymbol m \\in \\boldsymbol H^{-\\frac12}\\left( \\mathrm{div}_\\Gamma, \\Gamma\\right)\\,.$ The incoming wave thus induces a scattered electric field $\\boldsymbol E$ which propagates into $\\Omega^c$. The scattered electric field solves the following Dirichlet boundary value problem: \n",
    "\n",
    "$$ \\left\\{ \\begin{array}{rcl l} \\mathbf{curl} \\, \\mathbf{curl}\\, \\boldsymbol E - \\kappa^2 \\, \\boldsymbol E &=& \\boldsymbol 0, \\quad &\\textnormal{in } \\Omega^c \\subset \\mathbb R^3\\,,\\\\ \\gamma_D \\,\\boldsymbol E &=& \\boldsymbol m, \\quad & \\textnormal{on }\\Gamma \\\\ \\left\\| \\mathbf{curl} \\, \\boldsymbol E( x) - i\\,\\omega\\,\\epsilon \\, \\boldsymbol E( x)\\right\\| &=& \\mathcal O\\left( \\displaystyle \\frac{1}{\\| x\\|^2}\\right), &\\textnormal{for} \\; \\|x\\| \\to \\infty\\,.\\end{array} \\right. $$ \n",
    "\n",
    "and a possible representation reads\n",
    "\n",
    "$$ \\boldsymbol E(x) = \\underbrace{\\int\\limits_\\Gamma \\displaystyle{ \\frac{1}{4\\,\\pi} \\, \\frac{e^{i\\,\\kappa\\,\\|x-y\\|}}{\\| x-y\\|} } \\, \\boldsymbol j(y)\\, \\mathrm{d}\\sigma_y + \\frac{1}{\\kappa^2} \\nabla \\int\\limits_\\Gamma \\displaystyle{ \\frac{1}{4\\,\\pi}\\, \\frac{e^{i\\,\\kappa\\,\\|x-y\\|}}{\\| x-y\\|} } \\, \\mathrm{div}_\\Gamma \\boldsymbol j(y)\\, \\mathrm{d}\\sigma_y }_{\\displaystyle{\\mathrm{SL}(\\boldsymbol j)} } + \\underbrace{ \\nabla \\times \\int\\limits_\\Gamma \\displaystyle{ \\frac{1}{4\\,\\pi} \\, \\frac{e^{i\\,\\kappa\\,\\|x-y\\|}}{\\| x-y\\|} } \\, \\boldsymbol m(y)\\, \\mathrm{d}\\sigma_y }_{\\displaystyle{ \\mathrm{DL} (\\boldsymbol m) } } \\,,$$\n",
    "\n",
    "where $\\boldsymbol j = \\gamma_D \\boldsymbol E$ denotes the Dirichlet trace and $\\boldsymbol m = \\gamma_N \\boldsymbol E$ the Neumann trace of $\\boldsymbol E$. \n",
    "\n",
    "We consider the tangential trace of $\\boldsymbol E$ as given just above and obtain a boundary integral equation for unknown data $\\boldsymbol j$ which is solved by the boundary element method, i.e. the numerical solution of the variational formulation \n",
    "\n",
    "$$ \\begin{array}{c} \\forall \\, \\boldsymbol v\\in H^{-\\frac12}(\\mathrm{div}_\\Gamma, \\Gamma): \\quad \\left\\langle \\mathrm{SL} (\\boldsymbol j), \\boldsymbol v \\right\\rangle_{-\\frac12} = \\left\\langle \\boldsymbol m \\times \\boldsymbol n, \\boldsymbol v\\right\\rangle_{-\\frac12}  - \\left\\langle \\mathrm{DL}(\\boldsymbol m), \\boldsymbol v\\right\\rangle_{-\\frac12} \\,. \\end{array}$$ \n",
    "\n",
    "In the enineering community, the approximation scheme is also known as **method of moments** (MoM). "
   ]
  },
  {
   "cell_type": "markdown",
   "id": "c74e2639-0d66-49ca-84e1-62a4631f1652",
   "metadata": {},
   "source": [
    "Define the geometry of the perfect conductor $\\Omega$ and create a mesh:"
   ]
  },
  {
   "cell_type": "code",
   "execution_count": null,
   "id": "b3bee3e9-b23a-43dd-b5d9-8f9265af827a",
   "metadata": {},
   "outputs": [],
   "source": [
    "sp = Sphere( (0,0,0), 1)\n",
    "mesh = Mesh( OCCGeometry(sp).GenerateMesh(maxh=1, perfstepsend=meshing.MeshingStep.MESHSURFACE)).Curve(2)"
   ]
  },
  {
   "cell_type": "markdown",
   "id": "e8c31fe0-9761-494b-9ab7-81a88a8c9bbb",
   "metadata": {},
   "source": [
    "Next, we create finite element spaces for $\\boldsymbol H^{-\\frac12}(\\mathrm{curl}_\\Gamma, \\Gamma)$ and rotate them later to obtain $\\boldsymbol H^{-\\frac12}(\\mathrm{div}_\\Gamma, \\Gamma)$ conforming shape functions as test and trial space. "
   ]
  },
  {
   "cell_type": "code",
   "execution_count": null,
   "id": "5a6ee11f-4bc6-4cc8-9408-c4d6d9c4727d",
   "metadata": {},
   "outputs": [],
   "source": [
    "fesHCurl = HCurl(mesh, order=3, complex=True)\n",
    "uHCurl,vHCurl = fesHCurl.TnT() # H(curl_Gamma) conform spaces\n",
    "print (\"ndof HCurl = \", fesHCurl.ndof)"
   ]
  },
  {
   "cell_type": "markdown",
   "id": "072b149e-d83c-46f6-9d30-b0a432e7dcdd",
   "metadata": {},
   "source": [
    "Define the incoming plane wave and compute the given boundary data $\\boldsymbol m$: "
   ]
  },
  {
   "cell_type": "code",
   "execution_count": null,
   "id": "2ea25412-738b-469b-a30c-990d32089e9c",
   "metadata": {},
   "outputs": [],
   "source": [
    "eps0 = 8.854e-12 \n",
    "mu0 = 4*pi*1e-7\n",
    "omega = 1.5e9\n",
    "kappa = omega*sqrt(eps0*mu0)\n",
    "print(\"kappa = \", kappa)\n",
    "\n",
    "E = CF((1,0,0))*exp( -1j * kappa * z )\n",
    "n = specialcf.normal(3)\n",
    "m = GridFunction(fesHCurl) \n",
    "m.Set(-Cross(n,E), definedon=mesh.Boundaries(\".*\"), dual=True) # dual=True calls the PBI operator "
   ]
  },
  {
   "cell_type": "code",
   "execution_count": null,
   "id": "0e174391-4df1-4965-b2da-6aeee2c576cf",
   "metadata": {},
   "outputs": [],
   "source": [
    "#Draw (m.real*m.real + m.imag*m.imag, mesh, draw_vol=False, order=2);\n",
    "#Draw (test.real*test.real+test.imag*test.imag, mesh, draw_vol=False, order=2);\n",
    "#Draw (m.imag, mesh, draw_vol=False, order=2);"
   ]
  },
  {
   "cell_type": "markdown",
   "id": "c9255ee1-9bb1-47a3-a3f1-12fc048bb19e",
   "metadata": {},
   "source": [
    "The discretisation of the above variational formulation leads to a system of linear equations, ie\n",
    "$$ \\mathrm{V} \\, \\mathrm j = \\left( \\frac12 \\,\\mathrm{Id} - \\mathrm{K} \\right)\\, \\mathrm{m}\\,,$$\n",
    "where \n",
    "* $\\mathrm V$ is the Maxwell single layer operator. $V$ is a regular, symmetric matrix.\n",
    "* $\\mathrm{Id}$ is the mass matrix.\n",
    "* $\\mathrm K$ is the Maxwell double layer operator. $K$ is quadratic. "
   ]
  },
  {
   "cell_type": "code",
   "execution_count": null,
   "id": "959ddac0-c19b-478b-b253-023bda4bc70d",
   "metadata": {},
   "outputs": [],
   "source": [
    "j = GridFunction(fesHCurl) # note: we actually solve for coefficients for FE space H(div_Gamma)\n",
    "pre = BilinearForm(uHCurl.Trace()*vHCurl.Trace()*ds).Assemble().mat.Inverse(freedofs=fesHCurl.FreeDofs()) # to be changed\n",
    "with TaskManager(): # pajetrace=1000*1000*1000):\n",
    "    V = MaxwellSingleLayerPotentialOperator(fesHCurl, kappa, \n",
    "                                            intorder=12, leafsize=40, eta=3., eps=1e-4, method=\"svd\", testhmatrix=False)\n",
    "    Id = BilinearForm(0.5 * uHCurl.Trace() * Cross(n, vHCurl.Trace()) * ds(bonus_intorder=3)).Assemble() # <H(curl_Gamma), H(div_Gamma)>\n",
    "    K = MaxwellDoubleLayerPotentialOperator(fesHCurl, kappa, \n",
    "                                            intorder=12, leafsize=40, eta=3., eps=1e-4, method=\"svd\", testhmatrix=False)\n",
    "    rhs = ( (Id.mat - K.mat) * m.vec ).Evaluate() \n",
    "    CG(mat = V.mat, pre=pre, rhs = rhs, sol=j.vec, tol=1e-8, maxsteps=500, initialize=False, printrates=False)"
   ]
  },
  {
   "cell_type": "code",
   "execution_count": null,
   "id": "a704205e-dc5c-400c-bc07-c920c500df99",
   "metadata": {},
   "outputs": [],
   "source": [
    "#Draw (j.real*j.real+j.imag*j.imag, mesh, draw_vol=False, order=2);\n",
    "#Draw (j.imag, mesh, draw_vol=False, order=2);\n",
    "#Draw (j.real, mesh, draw_vol=False, order=2);"
   ]
  },
  {
   "cell_type": "code",
   "execution_count": null,
   "id": "a5326283-9b86-4f2b-89aa-e4001a4efeed",
   "metadata": {},
   "outputs": [],
   "source": [
    "Draw(j, mesh, draw_vol=False, order=2, min=-3, max=3, animate_complex=True);"
   ]
  },
  {
   "cell_type": "markdown",
   "id": "a5c78468-19b5-4750-bc9e-5cc58f22e8ac",
   "metadata": {},
   "source": [
    "The density $\\boldsymbol j$ approximates the Neumann trace $\\gamma_N \\boldsymbol E$ of the scattered field $\\boldsymbol E$ and $\\boldsymbol j$ is related to the solution $\\boldsymbol j_{\\mathrm{ind}}$ of the EFIE (indirect formulation). It holds \n",
    "\n",
    "$$ \\boldsymbol j_{\\mathrm{ind}} = \\boldsymbol j_{\\mathrm{inc}} + \\boldsymbol j\\,,$$ \n",
    "\n",
    "where $\\boldsymbol j_{\\mathrm{inc}}$ denotes the Neumann trace of the incoming plance wave. "
   ]
  },
  {
   "cell_type": "code",
   "execution_count": null,
   "id": "2b69dc88-49b0-4a64-8f85-4d3d8faa2bb5",
   "metadata": {},
   "outputs": [],
   "source": [
    "curlE = CF((0,-1j*kappa,0))*exp( -1j * kappa * z )\n",
    "j_inc = GridFunction(fesHCurl) \n",
    "j_inc.Set( Cross(n,curlE), definedon=mesh.Boundaries(\".*\"), dual=True) # dual=True calls the PBI operator \n",
    "j_ind = GridFunction(fesHCurl) \n",
    "j_ind.Set ( j_inc + j, definedon=mesh.Boundaries(\".*\"), dual=True) \n",
    "#Draw (j_ind.real*j_ind.real+j_ind.imag*j_ind.imag, mesh, draw_vol=False, order=2);\n",
    "Draw (j_ind.real, mesh, draw_vol=False, order=2);\n",
    "Draw (j_ind.imag, mesh, draw_vol=False, order=2);"
   ]
  },
  {
   "cell_type": "markdown",
   "id": "422aba66-f32e-4ecd-a797-cc926b81b3cd",
   "metadata": {},
   "source": [
    "Let us check if the EFIE returns the same trace $\\boldsymbol j_{\\mathrm{ind}}$ "
   ]
  },
  {
   "cell_type": "code",
   "execution_count": null,
   "id": "6472ac49-a123-401f-b3e4-752e36758aa7",
   "metadata": {},
   "outputs": [],
   "source": [
    "test_rhs = LinearForm( (-E) * Cross(n,vHCurl.Trace()) *ds(bonus_intorder=3)).Assemble() \n",
    "CG(mat = V.mat, pre=pre, rhs = test_rhs.vec, sol=j_ind.vec, tol=1e-8, maxsteps=500, initialize=False, printrates=False)\n",
    "#Draw (j_ind.real*j_ind.real+j_ind.imag*j_ind.imag, mesh, draw_vol=False, order=2);\n",
    "Draw (j_ind.real, mesh, draw_vol=False, order=2);\n",
    "Draw (j_ind.imag, mesh, draw_vol=False, order=2);"
   ]
  },
  {
   "cell_type": "code",
   "execution_count": null,
   "id": "b6c0c3f6-aab6-427c-8da1-00297b1bfbf3",
   "metadata": {},
   "outputs": [],
   "source": [
    "test_rhs = LinearForm( Cross(m,n) * Cross(n,vHCurl.Trace() )*ds(bonus_intorder=3)).Assemble()\n",
    "CG(mat = V.mat, pre=pre, rhs = test_rhs.vec, sol=j_ind.vec, tol=1e-8, maxsteps=500, initialize=False, printrates=False)\n",
    "#Draw (j_ind.real*j_ind.real+j_ind.imag*j_ind.imag, mesh, draw_vol=False, order=2);\n",
    "Draw (j_ind.real, mesh, draw_vol=False, order=2);\n",
    "Draw (j_ind.imag, mesh, draw_vol=False, order=2);"
   ]
  },
  {
   "cell_type": "code",
   "execution_count": null,
   "id": "06800751-a827-4d58-9271-0e63d1b5a635",
   "metadata": {},
   "outputs": [],
   "source": []
  },
  {
   "cell_type": "markdown",
   "id": "ea385457-1e87-40f9-819d-9203aa52c828",
   "metadata": {},
   "source": [
    "For details on convergence studies for HOBEM for PEC scattering look [here](https://publikationen.sulb.uni-saarland.de/bitstream/20.500.11880/26312/1/thesis_weggler_final_6.1.12.pdf)."
   ]
  }
 ],
 "metadata": {
  "kernelspec": {
   "display_name": "Python 3 (ipykernel)",
   "language": "python",
   "name": "python3"
  },
  "language_info": {
   "codemirror_mode": {
    "name": "ipython",
    "version": 3
   },
   "file_extension": ".py",
   "mimetype": "text/x-python",
   "name": "python",
   "nbconvert_exporter": "python",
   "pygments_lexer": "ipython3",
   "version": "3.11.6"
  }
 },
 "nbformat": 4,
 "nbformat_minor": 5
}
