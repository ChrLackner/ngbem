{
 "cells": [
  {
   "cell_type": "markdown",
   "id": "27439a9a-bf23-4761-bb28-b73132b97f25",
   "metadata": {},
   "source": [
    "Maxwell solver for Pec using direct formulation\n",
    "=============================\n",
    "**keys**: Maxwell double layer potential, PEC scattering, MoM, Neumann trace, surface current density"
   ]
  },
  {
   "cell_type": "code",
   "execution_count": null,
   "id": "4220f8af-1580-467a-801e-6ef49d43c70c",
   "metadata": {},
   "outputs": [],
   "source": [
    "from netgen.occ import *\n",
    "import netgen.meshing as meshing\n",
    "from ngsolve import *\n",
    "from ngsolve.webgui import Draw\n",
    "from libbem import *\n",
    "from ngsolve import Projector, Preconditioner\n",
    "from ngsolve.krylovspace import CG"
   ]
  },
  {
   "cell_type": "markdown",
   "id": "82ca8ea2-1feb-46f7-b416-b95db24a9090",
   "metadata": {},
   "source": [
    "We consider a perfect conductor $\\Omega \\subset \\mathbb R^3$ and an electromagnetic signal that induces a scattered electric field which propagates into $\\Omega^c$. The scattered electric field $\\boldsymbol E$ solves the following Dirichlet boundary value problem: \n",
    "\n",
    "$$ \\left\\{ \\begin{array}{rcl l} \\mathbf{curl} \\, \\mathbf{curl}\\, \\boldsymbol E - \\kappa^2 \\, \\boldsymbol E &=& \\boldsymbol 0, \\quad &\\textnormal{in } \\Omega^c \\subset \\mathbb R^3\\,,\\\\ \\gamma_R \\,\\boldsymbol E &=& \\boldsymbol m, \\quad & \\textnormal{on }\\Gamma \\\\ \\left\\| \\mathbf{curl} \\, \\boldsymbol E( x) - i\\,\\omega\\,\\epsilon \\, \\boldsymbol E( x)\\right\\| &=& \\mathcal O\\left( \\displaystyle \\frac{1}{\\| x\\|^2}\\right), &\\textnormal{for} \\; \\|x\\| \\to \\infty\\,.\\end{array} \\right. $$ \n",
    "\n",
    "A possible representation for $\\boldsymbol E$ reads\n",
    "\n",
    "$$ \\boldsymbol E(x) = \\underbrace{\\kappa \\, \\int\\limits_\\Gamma \\displaystyle{ \\frac{1}{4\\,\\pi} \\, \\frac{e^{i\\,\\kappa\\,\\|x-y\\|}}{\\| x-y\\|} } \\, \\boldsymbol j(y)\\, \\mathrm{d}\\sigma_y + \\frac{1}{\\kappa} \\nabla \\int\\limits_\\Gamma \\displaystyle{ \\frac{1}{4\\,\\pi}\\, \\frac{e^{i\\,\\kappa\\,\\|x-y\\|}}{\\| x-y\\|} } \\, \\mathrm{div}_\\Gamma \\boldsymbol j(y)\\, \\mathrm{d}\\sigma_y }_{\\displaystyle{\\mathrm{SL}(\\boldsymbol j)} } + \\underbrace{ \\nabla \\times \\int\\limits_\\Gamma \\displaystyle{ \\frac{1}{4\\,\\pi} \\, \\frac{e^{i\\,\\kappa\\,\\|x-y\\|}}{\\| x-y\\|} } \\, \\boldsymbol n \\times \\boldsymbol{m}(y)\\, \\mathrm{d}\\sigma_y }_{\\displaystyle{ \\mathrm{DL} (\\boldsymbol n \\times \\boldsymbol{m}) } } \\,.$$\n",
    "\n",
    "We carefully apply the tangential trace $\\gamma_R$ on $\\boldsymbol E$ and obtain a boundary integral equation for the unknown trace $\\boldsymbol j$. Note that $\\boldsymbol m \\in H^{-\\frac12}(\\mathrm{curl}_\\Gamma, \\Gamma)$ is the given Dirichlet data. The boundary integral equation is solved by the boundary element method, i.e. the numerical solution of the variational formulation \n",
    "\n",
    "$$ \\forall \\, \\boldsymbol v\\in H^{-\\frac12}(\\mathrm{div}_\\Gamma, \\Gamma): \\quad \\left\\langle \\mathrm{SL} (\\boldsymbol j), \\boldsymbol v \\right\\rangle_{-\\frac12} = \\left\\langle \\boldsymbol m, \\boldsymbol v\\right\\rangle_{-\\frac12}  - \\left\\langle \\mathrm{DL}(\\boldsymbol n \\times \\boldsymbol{m}), \\boldsymbol v\\right\\rangle_{-\\frac12} \\,. $$ \n",
    "\n",
    "In the enineering community, the approximation scheme is also known as **method of moments** (MoM). "
   ]
  },
  {
   "cell_type": "markdown",
   "id": "05b10492-009a-4be4-b5ce-21c0d887223e",
   "metadata": {},
   "source": [
    "Define the geometry of the perfect conductor $\\Omega$ and create a mesh:"
   ]
  },
  {
   "cell_type": "code",
   "execution_count": null,
   "id": "b3bee3e9-b23a-43dd-b5d9-8f9265af827a",
   "metadata": {},
   "outputs": [],
   "source": [
    "sp = Sphere( (0,0,0), 1)\n",
    "mesh = Mesh( OCCGeometry(sp).GenerateMesh(maxh=1, perfstepsend=meshing.MeshingStep.MESHSURFACE)).Curve(3)"
   ]
  },
  {
   "cell_type": "markdown",
   "id": "65e5bb28-d6bd-414e-b46c-8b794a8485d0",
   "metadata": {},
   "source": [
    "Next, we create finite element spaces for $\\boldsymbol H^{-\\frac12}(\\mathrm{curl}_\\Gamma, \\Gamma)$ and $\\boldsymbol H^{-\\frac12}(\\mathrm{div}_\\Gamma, \\Gamma)$: "
   ]
  },
  {
   "cell_type": "code",
   "execution_count": null,
   "id": "5a6ee11f-4bc6-4cc8-9408-c4d6d9c4727d",
   "metadata": {},
   "outputs": [],
   "source": [
    "fesHCurl = HCurl(mesh, order=3, complex=True)\n",
    "fesHDiv = HDivSurface(mesh, order=3, complex=True)\n",
    "uHCurl,vHCurl = fesHCurl.TnT() # H(curl_Gamma) trial for Dirichlet data ( (nxE)xn )\n",
    "uHDiv,vHDiv = fesHDiv.TnT() # H(div_Gamma) trial space for Neumann data ( nx curlE ) and test space for BIE\n",
    "\n",
    "print (\"ndof HCurl = \", fesHCurl.ndof)\n",
    "print (\"ndof HDiv = \", fesHDiv.ndof)"
   ]
  },
  {
   "cell_type": "markdown",
   "id": "eca4c4e3-48a7-4c9a-8884-20bae03ef373",
   "metadata": {},
   "source": [
    "Define the incoming plane wave and compute the given boundary data $\\boldsymbol m = -\\gamma_R \\boldsymbol E_{\\mathrm{inc}}$ : "
   ]
  },
  {
   "cell_type": "code",
   "execution_count": null,
   "id": "2ea25412-738b-469b-a30c-990d32089e9c",
   "metadata": {},
   "outputs": [],
   "source": [
    "eps0 = 8.854e-12 \n",
    "mu0 = 4*pi*1e-7\n",
    "omega = 1.5e9\n",
    "kappa = omega*sqrt(eps0*mu0)\n",
    "print(\"kappa = \", kappa)\n",
    "\n",
    "E_inc = CF((1,0,0))*exp( -1j * kappa * z )\n",
    "\n",
    "n = specialcf.normal(3)\n",
    "m = GridFunction(fesHCurl) \n",
    "m.Set( - Cross( Cross(n, E_inc), n) , definedon=mesh.Boundaries(\".*\"), dual=True) # Hcurl"
   ]
  },
  {
   "cell_type": "markdown",
   "id": "7d01290a-0d5b-41e9-87d3-a3cb02802867",
   "metadata": {},
   "source": [
    "The discretisation of the above variational formulation leads to a system of linear equations, ie\n",
    "$$ \\mathrm{V} \\, \\mathrm j = \\left( \\frac12 \\,\\mathrm{M} - \\mathrm{K} \\right)\\, \\mathrm{m}\\,,$$\n",
    "where  \n",
    "* $\\mathrm V$ is the Maxwell single layer operator. $V$ is a regular, symmetric matrix.\n",
    "* $\\mathrm{M}$ is the mass matrix.\n",
    "* $\\mathrm K$ is the Maxwell double layer operator. $K$ is quadratic."
   ]
  },
  {
   "cell_type": "code",
   "execution_count": null,
   "id": "959ddac0-c19b-478b-b253-023bda4bc70d",
   "metadata": {},
   "outputs": [],
   "source": [
    "# V: Hdiv is TnT; K: Hdiv as test and HCurl as trial space with rotated evaluator   \n",
    "with TaskManager(): \n",
    "    V = MaxwellSingleLayerPotentialOperator(fesHDiv, kappa, \n",
    "                                            intorder=10, leafsize=40, eta=3., eps=1e-4, method=\"aca\", testhmatrix=False)\n",
    "    K = MaxwellDoubleLayerPotentialOperator(fesHCurl, fesHDiv, kappa, \n",
    "                                            intorder=12, leafsize=40, eta=3., eps=1e-6, method=\"aca\", testhmatrix=False)"
   ]
  },
  {
   "cell_type": "code",
   "execution_count": null,
   "id": "826c6485-fa0f-4643-a245-70fd662c99d9",
   "metadata": {},
   "outputs": [],
   "source": [
    "# solve direct formulation for j, i.e., Neumann data of scattered electric field E\n",
    "j = GridFunction(fesHDiv) \n",
    "pre = BilinearForm( uHDiv.Trace() * vHDiv.Trace() *ds).Assemble().mat.Inverse(freedofs=fesHDiv.FreeDofs()) \n",
    "with TaskManager(): \n",
    "    M = BilinearForm( uHCurl.Trace() * vHDiv.Trace()* ds(bonus_intorder=3)).Assemble() # <Hcurl, Hdiv>  \n",
    "    rhs = ( (0.5 * M.mat - K.mat ) * m.vec).Evaluate() \n",
    "    GMRes(A = V.mat, pre=pre, b = rhs, x=j.vec, tol=1e-8, maxsteps=5000, printrates=True)\n",
    "    #CG(mat = V.mat, pre=pre, rhs = rhs, sol=j.vec, tol=1e-8, maxsteps=500, initialize=False, printrates=False)"
   ]
  },
  {
   "cell_type": "markdown",
   "id": "d4fea6a1-a4e6-4c0b-99e5-ba4c4e3ab00d",
   "metadata": {},
   "source": [
    "**Check the numerical result for $j$ with EFIE**\n",
    "\n",
    "The density $\\boldsymbol j$ is the Neumann trace of the scattered electric field, which is defined as follows\n",
    "\n",
    "$$ \\boldsymbol j = \\frac{1}{\\kappa} \\, \\boldsymbol n \\times  \\boldsymbol{ \\mathrm{curl} } \\,\\boldsymbol E\\,.$$ \n",
    "\n",
    "related to the solution $\\boldsymbol j_{\\mathrm{efie}}$ of the EFIE (indirect formulation), i.e., \n",
    "\n",
    "$$  \\boldsymbol j_{\\mathrm{efie}} = \\boldsymbol j + \\boldsymbol j_{\\mathrm{inc}}\\,.$$ \n",
    "\n",
    "Thus, given $\\boldsymbol j$, there is an alternative to compute $\\boldsymbol j_{\\mathrm{efie}}$. Let's us it to check the direct formulation."
   ]
  },
  {
   "cell_type": "code",
   "execution_count": null,
   "id": "6d889b95-ee41-4202-80d6-ca7de9f2c848",
   "metadata": {},
   "outputs": [],
   "source": [
    "# check j: it must hold j_efie =j + j_inc \n",
    "# reason: j_efie is the Neumann data of total electric Field E_tot = E + E_inc\n",
    "curlE_inc = CF( (0,-1j*kappa,0) ) *exp( -1j * kappa * z ) \n",
    "j_inc = GridFunction(fesHDiv) \n",
    "j_inc.Set( Cross(n, 1/kappa * curlE_inc), definedon=mesh.Boundaries(\".*\"), dual=True) # Hdiv \n",
    "\n",
    "j_efie = GridFunction(fesHDiv)\n",
    "j_efie.Set (j + j_inc, definedon=mesh.Boundaries(\".*\"), dual=True) # consistent in Hdiv"
   ]
  },
  {
   "cell_type": "code",
   "execution_count": null,
   "id": "79921d6d-00ab-4b75-b447-1f2514eceee7",
   "metadata": {},
   "outputs": [],
   "source": [
    "# now solve EFIE, j_efie_test\n",
    "j_efie_test = GridFunction(fesHDiv) # Hdiv\n",
    "rhs_efie = LinearForm( m * vHDiv.Trace() *ds(bonus_intorder=3)).Assemble() \n",
    "CG(mat = V.mat, pre=pre, rhs = rhs_efie.vec, sol=j_efie_test.vec, tol=1e-8, maxsteps=500, initialize=False, printrates=False);"
   ]
  },
  {
   "cell_type": "code",
   "execution_count": null,
   "id": "145bc12d-bd07-4ea2-88ec-8bbb8ee9112d",
   "metadata": {},
   "outputs": [],
   "source": [
    "Draw(Norm(j_efie), mesh, draw_vol=False, order=3);\n",
    "Draw(Norm(j_efie_test), mesh, draw_vol=False, order=3);"
   ]
  },
  {
   "cell_type": "markdown",
   "id": "cf743e05-041a-481f-b85a-48cd96180994",
   "metadata": {},
   "source": [
    "References: \n",
    "\n",
    "[Boundary Element Methods for Maxwell Transmission Problems in Lipschitz Domains](https://www.semanticscholar.org/paper/Boundary-Element-Methods-for-Maxwell-Transmission-Buffa-Hiptmair/92147cb3aee1a71d0a38544d0f6fdd6d1213299c)"
   ]
  },
  {
   "cell_type": "code",
   "execution_count": null,
   "id": "2128018b-811e-4f8f-9d59-01ffecd81038",
   "metadata": {},
   "outputs": [],
   "source": []
  }
 ],
 "metadata": {
  "kernelspec": {
   "display_name": "Python 3 (ipykernel)",
   "language": "python",
   "name": "python3"
  },
  "language_info": {
   "codemirror_mode": {
    "name": "ipython",
    "version": 3
   },
   "file_extension": ".py",
   "mimetype": "text/x-python",
   "name": "python",
   "nbconvert_exporter": "python",
   "pygments_lexer": "ipython3",
   "version": "3.11.6"
  }
 },
 "nbformat": 4,
 "nbformat_minor": 5
}
