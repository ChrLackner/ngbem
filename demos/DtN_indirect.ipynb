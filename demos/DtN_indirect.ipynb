{
 "cells": [
  {
   "cell_type": "code",
   "execution_count": null,
   "id": "667a666a-3324-4cc0-a3f0-47ba7aa32d5c",
   "metadata": {},
   "outputs": [],
   "source": [
    "import sys\n",
    "sys.path.append('../build')\n",
    "\n",
    "from netgen.occ import *\n",
    "from ngsolve import *\n",
    "from ngsolve.webgui import Draw\n",
    "from libbem import *\n",
    "SetHeapSize (10**9)"
   ]
  },
  {
   "cell_type": "markdown",
   "id": "7ba2b304-c597-408f-8873-5b6f90444a7a",
   "metadata": {},
   "source": [
    "Use ngbem as HOBEM solver \n",
    "=============================\n",
    "\n",
    "\n",
    "As first example how it works, consider $$ \\begin{cases} \\Delta u &=& 0, \\quad \\Omega \\subset \\mathbb R^3\\,,\\\\ u&=& u_0, \\quad \\Gamma = \\partial \\Omega\\,.\\end{cases} $$ \n",
    "\n",
    "Consider the following ansatz for the solution  $u\\in H^1(\\Omega)$ of the bvp (indirect ansatz) $$ u(x) = \\underbrace{ \\int_\\Gamma \\displaystyle{\\frac{1}{4\\,\\pi}\\, \\frac{1}{\\| x-y\\|} } \\, j(y)\\, \\mathrm{d}\\sigma_y }_{\\displaystyle{ \\mathrm{SL}(j) } }$$ and solve for the density $j\\in H^{-\\frac12}(\\Gamma)$ by the boundary element method, i.e. the numerical solution of the variational formulation $$ \\forall \\, v\\in H^{-\\frac12}(\\Gamma): \\quad \\left\\langle \\gamma_0 \\left(\\mathrm{SL}(j)\\right), v \\right\\rangle_{-\\frac12} = \\left\\langle u_0, v\\right\\rangle_{-\\frac12} \\,. $$\n",
    " "
   ]
  },
  {
   "cell_type": "markdown",
   "id": "be5f96f2-32b2-4d48-883f-8bc994f9388d",
   "metadata": {},
   "source": [
    "Define the domain $\\Omega \\subset \\mathbb R^3$ and create a mesh:"
   ]
  },
  {
   "cell_type": "code",
   "execution_count": null,
   "id": "c7abb299-0827-4f90-8d0f-6239f08249b2",
   "metadata": {},
   "outputs": [],
   "source": [
    "sp = Sphere( (0,0,0), 1)\n",
    "mesh = Mesh( OCCGeometry(sp).GenerateMesh(maxh=0.2)).Curve(3)\n",
    "#mesh = Mesh(unit_cube.GenerateMesh(maxh=1))"
   ]
  },
  {
   "cell_type": "markdown",
   "id": "1b0307f4-ad7f-4252-84ab-f4c8b14c896d",
   "metadata": {},
   "source": [
    "Define dirichlet data:"
   ]
  },
  {
   "cell_type": "code",
   "execution_count": null,
   "id": "c3194f56-dc87-487a-9b08-1dcd99035665",
   "metadata": {},
   "outputs": [],
   "source": [
    "u0 = 1/ sqrt( (x+1)**2 + (y+1)**2 + (z+1)**2 )"
   ]
  },
  {
   "cell_type": "markdown",
   "id": "8f6fd26c-9809-458b-82e4-958a1206fd5a",
   "metadata": {},
   "source": [
    "Create test and trial function finite element spaces for $H^{-\\frac12}(\\Gamma)$ according to the given mesh:  "
   ]
  },
  {
   "cell_type": "code",
   "execution_count": null,
   "id": "d8c2c6d6-b3b3-4f91-8e2b-b63c146b6a09",
   "metadata": {},
   "outputs": [],
   "source": [
    "fesL2 = SurfaceL2(mesh, order=3, dual_mapping=True)\n",
    "u,v = fesL2.TnT()"
   ]
  },
  {
   "cell_type": "markdown",
   "id": "1d100561-8769-422d-a540-ef937a672e84",
   "metadata": {},
   "source": [
    "Assemble the right hand side:"
   ]
  },
  {
   "cell_type": "code",
   "execution_count": null,
   "id": "3d18cc77-9cb6-4e05-a11c-adcddd996d6a",
   "metadata": {},
   "outputs": [],
   "source": [
    "f = LinearForm (u0*v.Trace()*ds(bonus_intorder=3)).Assemble()"
   ]
  },
  {
   "cell_type": "markdown",
   "id": "c553ca48-1fdc-45d0-b0b2-a0621ceeb0bd",
   "metadata": {},
   "source": [
    "Demo 1: Assemble full single layer potential matrix and solve for density $j$ with direct solver:"
   ]
  },
  {
   "cell_type": "code",
   "execution_count": null,
   "id": "c49875a2-0f57-420a-8462-8c91743f880c",
   "metadata": {},
   "outputs": [],
   "source": [
    "V = BilinearForm(fesL2)\n",
    "SingleLayerPotentialOperator(V, intorder=10)\n",
    "V.Assemble()\n",
    "gfv = GridFunction(fesL2)\n",
    "inv = V.mat.Inverse()\n",
    "gfv.vec.data = inv * f.vec\n",
    "Draw (gfv);"
   ]
  },
  {
   "cell_type": "markdown",
   "id": "bd4292d0-1b19-4847-9f8f-d3660ba78c4a",
   "metadata": {},
   "source": [
    "Demo 2: Assemble low-rank approximation single layer potential matrix (H-matrix) and solve for density $j$ with iterative solver:"
   ]
  },
  {
   "cell_type": "code",
   "execution_count": null,
   "id": "8acec479-eb95-4258-a200-2389cacdee45",
   "metadata": {},
   "outputs": [],
   "source": [
    "V = BilinearForm(fesL2, nonassemble=True)\n",
    "with TaskManager(pajetrace=1000*1000*1000):\n",
    "    SingleLayerPotentialOperator(V, intorder=10, leafsize=40, eta=3., eps=1e-10, method=\"svd\")\n",
    "    gfv = GridFunction(fesL2)\n",
    "    solvers.BVP(bf=V, lf=f, gf=gfv, solver=CGSolver)\n",
    "Draw (gfv);"
   ]
  },
  {
   "cell_type": "code",
   "execution_count": null,
   "id": "2ede1e97-2b3b-4949-98d9-acb703b98fcf",
   "metadata": {},
   "outputs": [],
   "source": [
    "for t in Timers():\n",
    "    if \"ngbem\" in t[\"name\"]:\n",
    "        print (t)"
   ]
  },
  {
   "cell_type": "markdown",
   "id": "941acf67-d78e-469c-8b82-3f93ce6a2606",
   "metadata": {},
   "source": [
    "You can find details on the implementation of isoparametric HOBEM for elliptic and Maxwell problems in the following work:\n",
    "\n",
    "\n",
    "[High Order Boundary Element Methods (2011)](https://publikationen.sulb.uni-saarland.de/bitstream/20.500.11880/26312/1/thesis_weggler_final_6.1.12.pdf)\n",
    "\n"
   ]
  }
 ],
 "metadata": {
  "kernelspec": {
   "display_name": "Python 3 (ipykernel)",
   "language": "python",
   "name": "python3"
  },
  "language_info": {
   "codemirror_mode": {
    "name": "ipython",
    "version": 3
   },
   "file_extension": ".py",
   "mimetype": "text/x-python",
   "name": "python",
   "nbconvert_exporter": "python",
   "pygments_lexer": "ipython3",
   "version": "3.12.1"
  }
 },
 "nbformat": 4,
 "nbformat_minor": 5
}
