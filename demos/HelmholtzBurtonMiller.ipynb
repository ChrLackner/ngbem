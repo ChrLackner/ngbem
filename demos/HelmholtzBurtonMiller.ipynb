{
 "cells": [
  {
   "cell_type": "markdown",
   "id": "c258b181-d56d-4330-b6c9-2d4447d5e6b0",
   "metadata": {},
   "source": [
    "# Helmholtz solver using Burton Miller formulation"
   ]
  },
  {
   "cell_type": "markdown",
   "id": "e8b4732c-ac4f-440a-aa35-f1e069eaede3",
   "metadata": {},
   "source": [
    "https://github.com/bempp/bempp-cl/blob/main/notebooks/helmholtz/helmholtz_combined_exterior.ipynb"
   ]
  },
  {
   "cell_type": "code",
   "execution_count": null,
   "id": "04c8c4a0-d3ab-4ca1-8a84-c5e26d27a529",
   "metadata": {},
   "outputs": [],
   "source": [
    "import sys\n",
    "sys.path.append('../build')\n",
    "\n",
    "from netgen.occ import *\n",
    "from ngsolve import *\n",
    "from ngsolve.webgui import Draw\n",
    "from libbem import *\n",
    "from ngsolve import Projector, Preconditioner\n",
    "from ngsolve.krylovspace import CG, GMRes"
   ]
  },
  {
   "cell_type": "code",
   "execution_count": null,
   "id": "c14ee523-32f4-4650-903c-6948b9462faf",
   "metadata": {},
   "outputs": [],
   "source": [
    "order=4"
   ]
  },
  {
   "cell_type": "code",
   "execution_count": null,
   "id": "8fb15e57-0511-4804-86a1-cb7334940730",
   "metadata": {},
   "outputs": [],
   "source": [
    "# sp1 = Sphere( (0,0,0), 1)\n",
    "screen = WorkPlane(Axes( (0,0,-3.5), Z, X)).RectangleC(20,20).Face()\n",
    "sp = Fuse(Sphere( (0,0,0), 3).faces)\n",
    "screen.faces.name=\"screen\"\n",
    "sp.faces.name=\"sphere\"\n",
    "shape = screen+sp\n",
    "# Draw (shape)\n",
    "mesh = Mesh( OCCGeometry(shape).GenerateMesh(maxh=0.5)).Curve(order)\n",
    "Draw (mesh);"
   ]
  },
  {
   "cell_type": "code",
   "execution_count": null,
   "id": "f7de0337-2303-423a-9b5c-23c7a29afe78",
   "metadata": {},
   "outputs": [],
   "source": [
    "fes_sphere = Compress(SurfaceL2(mesh, order=order, dual_mapping=False, complex=True, definedon=mesh.Boundaries(\"sphere\")))\n",
    "fes_sphere_test = Compress(SurfaceL2(mesh, order=order, dual_mapping=False, complex=True, definedon=mesh.Boundaries(\"sphere\")))\n",
    "fes_screen = Compress(SurfaceL2(mesh, order=order, dual_mapping=True, complex=True, definedon=mesh.Boundaries(\"screen\")))\n",
    "print (\"ndof_sphere = \", fes_sphere.ndof, \"ndof_screen =\", fes_screen.ndof)"
   ]
  },
  {
   "cell_type": "code",
   "execution_count": null,
   "id": "a3a398e7-46cf-4c6b-8c3c-c8ad274e3c29",
   "metadata": {},
   "outputs": [],
   "source": [
    "kappa = 10\n",
    "opt = dict (intorder=16, leafsize=40, eta=3., eps=1e-10, method=\"svd\", testhmatrix=False)"
   ]
  },
  {
   "cell_type": "code",
   "execution_count": null,
   "id": "8bb506fb-8435-4434-9964-51c0d7ad19b6",
   "metadata": {},
   "outputs": [],
   "source": [
    "# SetTestoutFile(\"bem.out\")\n",
    "with TaskManager():\n",
    "    V = HelmholtzSingleLayerPotentialOperator(fes_sphere, fes_sphere_test, kappa=kappa, **opt)\n",
    "    K = HelmholtzDoubleLayerPotentialOperator(fes_sphere, fes_sphere_test, kappa=kappa, **opt)\n",
    "    u = fes_sphere.TrialFunction()\n",
    "    v = fes_sphere_test.TestFunction()\n",
    "    Id = BilinearForm(u*v*ds).Assemble()"
   ]
  },
  {
   "cell_type": "code",
   "execution_count": null,
   "id": "8ccba963-694e-4da0-b832-2c1a0e46c764",
   "metadata": {},
   "outputs": [],
   "source": [
    "lhs = 0.5 * Id.mat + K.mat - 1j * kappa * V.mat\n",
    "source = 1j * kappa * exp(1j * kappa * x) * (specialcf.normal(3)[0]-1)\n",
    "rhs = LinearForm(source*v*ds).Assemble()"
   ]
  },
  {
   "cell_type": "code",
   "execution_count": null,
   "id": "1bea9bba-d4c3-4efa-b59a-22c662d61660",
   "metadata": {},
   "outputs": [],
   "source": [
    "gfu = GridFunction(fes_sphere)\n",
    "pre = BilinearForm(u*v*ds, diagonal=True).Assemble().mat.Inverse(inverse=\"sparsecholesky\")\n",
    "with TaskManager():\n",
    "    gfu.vec[:] = GMRes(A=lhs, b=rhs.vec, pre=pre, maxsteps=200)"
   ]
  },
  {
   "cell_type": "code",
   "execution_count": null,
   "id": "aaa4752a-a385-4987-9c58-5a6e3a795205",
   "metadata": {},
   "outputs": [],
   "source": [
    "print (\"res = \", Norm(lhs*gfu.vec-rhs.vec))\n",
    "Draw (gfu, order=3, min=-30, max=30)"
   ]
  },
  {
   "cell_type": "markdown",
   "id": "3fe84c82-c45b-437d-9f44-e3abd00844ec",
   "metadata": {},
   "source": [
    "# to come: prostprocessing on screen"
   ]
  },
  {
   "cell_type": "code",
   "execution_count": null,
   "id": "bd231a11-506c-4e4a-8b40-af0689c83b38",
   "metadata": {
    "scrolled": true
   },
   "outputs": [],
   "source": [
    "xxx interupt run all"
   ]
  },
  {
   "cell_type": "code",
   "execution_count": null,
   "id": "8588d280-9133-41d0-ac06-d1c0fe7956ac",
   "metadata": {},
   "outputs": [],
   "source": [
    "u,v = fes_screen.TnT()\n",
    "mass = BilinearForm(u*v*ds).Assemble()\n",
    "V2 = HelmholtzSingleLayerPotentialOperator(fes_sphere, fes_screen, kappa=kappa, **opt)"
   ]
  },
  {
   "cell_type": "code",
   "execution_count": null,
   "id": "40b5c492-2bf7-46da-9ad6-498943a39975",
   "metadata": {},
   "outputs": [],
   "source": [
    "gf1 = GridFunction(fes_sphere)\n",
    "gf2 = GridFunction(fes_screen)\n",
    "gf1.Set (1, definedon=mesh.Boundaries(\".*\"))\n",
    "gf2.vec.data = (mass.mat.Inverse()@V2.mat) * gf1.vec"
   ]
  },
  {
   "cell_type": "code",
   "execution_count": null,
   "id": "caff801e-5290-483f-844c-81517dd85fc3",
   "metadata": {},
   "outputs": [],
   "source": [
    "Draw (1e2*gf2, mesh, order=3, animate_complex=True, min=-1, max=1);"
   ]
  },
  {
   "cell_type": "code",
   "execution_count": null,
   "id": "0f595758-5568-4373-bb31-7d6aeed22add",
   "metadata": {},
   "outputs": [],
   "source": [
    "print (Id.mat)"
   ]
  },
  {
   "cell_type": "code",
   "execution_count": null,
   "id": "777e0a0c-db6f-4b31-b4c7-6203acc9a4ca",
   "metadata": {},
   "outputs": [],
   "source": [
    "for t in Timers():\n",
    "    if \"ngbem\" in t[\"name\"]:\n",
    "        print (t)"
   ]
  },
  {
   "cell_type": "code",
   "execution_count": null,
   "id": "4ecce1ff-8fbe-4e22-8989-5870d317d434",
   "metadata": {},
   "outputs": [],
   "source": []
  }
 ],
 "metadata": {
  "kernelspec": {
   "display_name": "Python 3 (ipykernel)",
   "language": "python",
   "name": "python3"
  },
  "language_info": {
   "codemirror_mode": {
    "name": "ipython",
    "version": 3
   },
   "file_extension": ".py",
   "mimetype": "text/x-python",
   "name": "python",
   "nbconvert_exporter": "python",
   "pygments_lexer": "ipython3",
   "version": "3.12.1"
  }
 },
 "nbformat": 4,
 "nbformat_minor": 5
}
