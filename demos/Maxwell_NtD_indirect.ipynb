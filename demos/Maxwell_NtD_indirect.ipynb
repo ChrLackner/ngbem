{
 "cells": [
  {
   "cell_type": "code",
   "execution_count": null,
   "id": "4220f8af-1580-467a-801e-6ef49d43c70c",
   "metadata": {},
   "outputs": [],
   "source": [
    "from netgen.occ import *\n",
    "import netgen.meshing as meshing\n",
    "from ngsolve import *\n",
    "from ngsolve.webgui import Draw\n",
    "from libbem import *\n",
    "from ngsolve import Projector, Preconditioner\n",
    "from ngsolve.krylovspace import CG"
   ]
  },
  {
   "cell_type": "code",
   "execution_count": null,
   "id": "b3bee3e9-b23a-43dd-b5d9-8f9265af827a",
   "metadata": {},
   "outputs": [],
   "source": [
    "sp = Sphere( (0,0,0), 1)\n",
    "mesh = Mesh( OCCGeometry(sp).GenerateMesh(maxh=1, perfstepsend=meshing.MeshingStep.MESHSURFACE)).Curve(2)"
   ]
  },
  {
   "cell_type": "code",
   "execution_count": null,
   "id": "5a6ee11f-4bc6-4cc8-9408-c4d6d9c4727d",
   "metadata": {},
   "outputs": [],
   "source": [
    "fesHCurl = HCurl(mesh, order=1, complex=True)\n",
    "uHCurl,vHCurl = fesHCurl.TnT() # H(curl_Gamma) conform spaces\n",
    "print (\"ndof HCurl = \", fesHCurl.ndof)"
   ]
  },
  {
   "cell_type": "code",
   "execution_count": null,
   "id": "2ea25412-738b-469b-a30c-990d32089e9c",
   "metadata": {},
   "outputs": [],
   "source": [
    "eps0 = 8.854e-12 \n",
    "mu0 = 4*pi*1e-7\n",
    "omega = 1.5e9\n",
    "kappa = omega*sqrt(eps0*mu0)\n",
    "print(\"kappa = \", kappa)\n",
    "\n",
    "E = CF((1,0,0))*exp( -1j * kappa * z )\n",
    "n = specialcf.normal(3)\n",
    "Edir = Cross(n,E) # nxE in H(div_Gamma)\n",
    "Draw (Edir.real, mesh, draw_vol=False, order=2) \n",
    "Draw (Edir.imag, mesh, draw_vol=False, order=2)"
   ]
  },
  {
   "cell_type": "code",
   "execution_count": null,
   "id": "5da7bba5-fe7a-4b35-814e-50f380c0c338",
   "metadata": {},
   "outputs": [],
   "source": [
    "rhs = LinearForm( Cross(Edir,n) * Cross(n,vHCurl.Trace()) *ds(bonus_intorder=3)).Assemble() # <H(curl_Gamma), H(div_Gamma)> "
   ]
  },
  {
   "cell_type": "code",
   "execution_count": null,
   "id": "86468414-ef61-462e-a97d-6dbd0e1f5098",
   "metadata": {},
   "outputs": [],
   "source": [
    "j = GridFunction(fesHCurl) # note: we actually solve for coefficients for FE space H(div_Gamma)\n",
    "pre = BilinearForm(uHCurl.Trace()*vHCurl.Trace()*ds).Assemble().mat.Inverse(freedofs=fesHCurl.FreeDofs()) # to be changed\n",
    "with TaskManager(): # pajetrace=1000*1000*1000):\n",
    "    SVec = MaxwellVecSingleLayerPotentialOperator(fesHCurl, kappa, \n",
    "                                               intorder=12, leafsize=40, eta=3., eps=1e-11, method=\"svd\", testhmatrix=False)\n",
    "    SSca = MaxwellScaSingleLayerPotentialOperator(fesHCurl, kappa, \n",
    "                                               intorder=12, leafsize=40, eta=3., eps=1e-11, method=\"svd\", testhmatrix=False)\n",
    "    CG(mat = SVec.mat - 1/(kappa*kappa)*SSca.mat, pre=pre, rhs = rhs.vec, sol=j.vec, \n",
    "       tol=1e-8, maxsteps=500, initialize=False, printrates=True)"
   ]
  },
  {
   "cell_type": "code",
   "execution_count": null,
   "id": "1e63632c-608c-4a1d-b1fb-7e7fc709c3d0",
   "metadata": {},
   "outputs": [],
   "source": [
    "Draw (j.real, mesh, draw_vol=False, order=2)\n",
    "Draw (j.imag, mesh, draw_vol=False, order=2)"
   ]
  },
  {
   "cell_type": "code",
   "execution_count": null,
   "id": "47cecb8c-3884-4f58-9230-eabbfa741de7",
   "metadata": {},
   "outputs": [],
   "source": []
  },
  {
   "cell_type": "code",
   "execution_count": null,
   "id": "416898ca-e757-4406-becf-faaac00af1a1",
   "metadata": {},
   "outputs": [],
   "source": []
  }
 ],
 "metadata": {
  "kernelspec": {
   "display_name": "Python 3 (ipykernel)",
   "language": "python",
   "name": "python3"
  },
  "language_info": {
   "codemirror_mode": {
    "name": "ipython",
    "version": 3
   },
   "file_extension": ".py",
   "mimetype": "text/x-python",
   "name": "python",
   "nbconvert_exporter": "python",
   "pygments_lexer": "ipython3",
   "version": "3.11.6"
  }
 },
 "nbformat": 4,
 "nbformat_minor": 5
}
