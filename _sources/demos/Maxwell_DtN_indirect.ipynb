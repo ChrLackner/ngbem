{
 "cells": [
  {
   "cell_type": "markdown",
   "id": "27439a9a-bf23-4761-bb28-b73132b97f25",
   "metadata": {},
   "source": [
    "Maxwell solver for PEC bodies (EFIE)\n",
    "=============================\n"
   ]
  },
  {
   "cell_type": "code",
   "execution_count": null,
   "id": "4220f8af-1580-467a-801e-6ef49d43c70c",
   "metadata": {},
   "outputs": [],
   "source": [
    "from netgen.occ import *\n",
    "import netgen.meshing as meshing\n",
    "from ngsolve import *\n",
    "from ngsolve.webgui import Draw\n",
    "from libbem import *\n",
    "from ngsolve import Projector, Preconditioner\n",
    "from ngsolve.krylovspace import CG"
   ]
  },
  {
   "cell_type": "markdown",
   "id": "60f033eb-7ce3-464f-a114-cbcd2b784c83",
   "metadata": {},
   "source": [
    "We consider a perfect conducter $\\Omega \\subset \\mathbb R^3$ and a plane wave $\\boldsymbol E_{\\mathrm{inc}} $ with Dirichlet trace $\\gamma_D \\boldsymbol E_{\\mathrm{inc}} = -\\boldsymbol m \\in \\boldsymbol H^{-\\frac12}\\left( \\mathrm{div}_\\Gamma, \\Gamma\\right)\\,.$ The incoming wave thus induces a scattered electric field $\\boldsymbol E$ which propagates into $\\Omega^c$. The scattered electric field solves the following boundary value problem: \n",
    "\n",
    "$$ \\left\\{ \\begin{array}{rcl l} \\mathbf{curl} \\, \\mathbf{curl}\\, \\boldsymbol E - \\kappa^2 \\, \\boldsymbol E &=& \\boldsymbol 0, \\quad &\\textnormal{in } \\Omega^c \\subset \\mathbb R^3\\,,\\\\ \\gamma_D \\,\\boldsymbol E &=& \\boldsymbol m, \\quad & \\textnormal{on }\\Gamma \\\\ \\left\\| \\mathbf{curl} \\, \\boldsymbol E( x) - i\\,\\omega\\,\\epsilon \\, \\boldsymbol E( x)\\right\\| &=& \\mathcal O\\left( \\displaystyle \\frac{1}{\\| x\\|^2}\\right), &\\textnormal{for} \\; \\|x\\| \\to \\infty\\,.\\end{array} \\right. $$ \n",
    "\n",
    "and a possible representation reads\n",
    "\n",
    "$$ \\boldsymbol E(x) = \\underbrace{\\int_\\Gamma \\displaystyle{ \\frac{1}{4\\,\\pi} \\, \\frac{e^{i\\,\\kappa\\,\\|x-y\\|}}{\\| x-y\\|} } \\, \\boldsymbol j(y)\\, \\mathrm{d}\\sigma_y + \\frac{1}{\\kappa^2} \\nabla \\int_\\Gamma \\displaystyle{ \\frac{1}{4\\,\\pi}\\, \\frac{e^{i\\,\\kappa\\,\\|x-y\\|}}{\\| x-y\\|} } \\, \\mathrm{div}_\\Gamma \\boldsymbol j(y)\\, \\mathrm{d}\\sigma_y }_{\\displaystyle{ \\mathrm{SL} (\\boldsymbol j) } } \\,.$$ \n",
    "\n",
    "The density $\\boldsymbol j$ is determined by the boundary element method, i.e. the numerical solution of the variational formulation \n",
    "\n",
    "$$ \\begin{array}{c} \\forall \\, \\boldsymbol v\\in H^{-\\frac12}(\\mathrm{div}_\\Gamma, \\Gamma): \\quad \\left\\langle \\,\\mathrm{SL} (\\boldsymbol j),\\, \\boldsymbol v \\right\\rangle_{-\\frac12} = \\left\\langle \\boldsymbol m \\times \\boldsymbol n, \\boldsymbol v\\right\\rangle_{-\\frac12} \\,. \\end{array}$$ \n",
    "\n",
    "In the enineering community, the approximation scheme is also known as **method of moments** (MoM) and the resulting equation for $\\boldsymbol j$ is called the **EFIE**, the **electric field integral equation**. "
   ]
  },
  {
   "cell_type": "markdown",
   "id": "c74e2639-0d66-49ca-84e1-62a4631f1652",
   "metadata": {},
   "source": [
    "Define the geometry of the perfect conductor $\\Omega$ and create a mesh:"
   ]
  },
  {
   "cell_type": "code",
   "execution_count": null,
   "id": "b3bee3e9-b23a-43dd-b5d9-8f9265af827a",
   "metadata": {},
   "outputs": [],
   "source": [
    "sp = Sphere( (0,0,0), 1)\n",
    "mesh = Mesh( OCCGeometry(sp).GenerateMesh(maxh=1, perfstepsend=meshing.MeshingStep.MESHSURFACE)).Curve(2)"
   ]
  },
  {
   "cell_type": "markdown",
   "id": "e8c31fe0-9761-494b-9ab7-81a88a8c9bbb",
   "metadata": {},
   "source": [
    "Next, we create two finite element spaces for $\\boldsymbol H^{-\\frac12}(\\mathrm{curl}_\\Gamma, \\Gamma)$ and rotate them later to obtain $\\boldsymbol H^{-\\frac12}(\\mathrm{div}_\\Gamma, \\Gamma)$ conforming shape functions as test and trial spaces. "
   ]
  },
  {
   "cell_type": "code",
   "execution_count": null,
   "id": "5a6ee11f-4bc6-4cc8-9408-c4d6d9c4727d",
   "metadata": {},
   "outputs": [],
   "source": [
    "fesHCurl = HCurl(mesh, order=3, complex=True)\n",
    "uHCurl,vHCurl = fesHCurl.TnT() # H(curl_Gamma) conform spaces\n",
    "print (\"ndof HCurl = \", fesHCurl.ndof)"
   ]
  },
  {
   "cell_type": "markdown",
   "id": "072b149e-d83c-46f6-9d30-b0a432e7dcdd",
   "metadata": {},
   "source": [
    "Define the incoming plane wave and compute the given boundary data $\\boldsymbol m$: "
   ]
  },
  {
   "cell_type": "code",
   "execution_count": null,
   "id": "2ea25412-738b-469b-a30c-990d32089e9c",
   "metadata": {},
   "outputs": [],
   "source": [
    "eps0 = 8.854e-12 \n",
    "mu0 = 4*pi*1e-7\n",
    "omega = 1.5e9\n",
    "kappa = omega*sqrt(eps0*mu0)\n",
    "print(\"kappa = \", kappa)\n",
    "\n",
    "E_inc = CF((1,0,0))*exp( -1j * kappa * z )\n",
    "n = specialcf.normal(3)\n",
    "m = -Cross(n,E_inc) # -nxE_inc in H(div_Gamma)"
   ]
  },
  {
   "cell_type": "code",
   "execution_count": null,
   "id": "0a6f5474-50dc-4ff7-9e27-b84aba0f9624",
   "metadata": {},
   "outputs": [],
   "source": [
    "#Draw (m.real*m.real + m.imag*m.imag, mesh, draw_vol=False, order=2);\n",
    "Draw (m.real, mesh, draw_vol=False, order=2);\n",
    "Draw (m.imag, mesh, draw_vol=False, order=2);"
   ]
  },
  {
   "cell_type": "markdown",
   "id": "2d42750a-50ce-445a-b547-bb64f74aa98f",
   "metadata": {},
   "source": [
    "Compute the right hand side vector:"
   ]
  },
  {
   "cell_type": "code",
   "execution_count": null,
   "id": "5da7bba5-fe7a-4b35-814e-50f380c0c338",
   "metadata": {},
   "outputs": [],
   "source": [
    "rhs = LinearForm( Cross(m,n) * Cross(n,vHCurl.Trace()) *ds(bonus_intorder=3)).Assemble() # <H(curl_Gamma), H(div_Gamma)> "
   ]
  },
  {
   "cell_type": "markdown",
   "id": "3da5f807-ba13-42fe-84bd-33517fa6b167",
   "metadata": {},
   "source": [
    "The discretisation of the above variational formulation leads to a system of linear equations, ie\n",
    "\n",
    "$$ V\\, \\mathrm j = \\mathrm{rhs}\\,,$$\n",
    "\n",
    "where the single layer operator $V$ is a regular and symmetric matrix."
   ]
  },
  {
   "cell_type": "code",
   "execution_count": null,
   "id": "1e63632c-608c-4a1d-b1fb-7e7fc709c3d0",
   "metadata": {},
   "outputs": [],
   "source": [
    "j = GridFunction(fesHCurl) # note: we actually solve for coefficients for FE space H(div_Gamma)\n",
    "pre = BilinearForm(uHCurl.Trace()*vHCurl.Trace()*ds).Assemble().mat.Inverse(freedofs=fesHCurl.FreeDofs()) # to be changed\n",
    "with TaskManager(): # pajetrace=1000*1000*1000):\n",
    "    V = MaxwellSingleLayerPotentialOperator(fesHCurl, kappa, intorder=12, leafsize=40, eta=3., eps=1e-4, method=\"svd\", testhmatrix=False)\n",
    "    CG(mat = V.mat, pre=pre, rhs = rhs.vec, sol=j.vec, tol=1e-8, maxsteps=500, initialize=False, printrates=False)"
   ]
  },
  {
   "cell_type": "code",
   "execution_count": null,
   "id": "c3448bc0-0ab1-4be3-afbb-de775f798957",
   "metadata": {},
   "outputs": [],
   "source": [
    "#Draw (j.real*j.real + j.imag*j.imag, mesh, draw_vol=False, order=2);\n",
    "#Draw (j.real, mesh, draw_vol=False, order=2);\n",
    "#Draw (j.imag, mesh, draw_vol=False, order=2);"
   ]
  },
  {
   "cell_type": "code",
   "execution_count": null,
   "id": "3740f001-5e93-4f71-8a7f-f35ff2b62f21",
   "metadata": {},
   "outputs": [],
   "source": [
    "Draw( j, mesh, draw_vol=False, order=2, min=-3, max=3, animate_complex=True);"
   ]
  },
  {
   "cell_type": "markdown",
   "id": "38e678fa-f663-4a37-a4d7-b2ada33adc31",
   "metadata": {},
   "source": []
  },
  {
   "cell_type": "markdown",
   "id": "ea385457-1e87-40f9-819d-9203aa52c828",
   "metadata": {},
   "source": [
    "For details on convergence rates and low frequency stabilisation of the EFIE look [here](https://publikationen.sulb.uni-saarland.de/bitstream/20.500.11880/26312/1/thesis_weggler_final_6.1.12.pdf)."
   ]
  }
 ],
 "metadata": {
  "kernelspec": {
   "display_name": "Python 3 (ipykernel)",
   "language": "python",
   "name": "python3"
  },
  "language_info": {
   "codemirror_mode": {
    "name": "ipython",
    "version": 3
   },
   "file_extension": ".py",
   "mimetype": "text/x-python",
   "name": "python",
   "nbconvert_exporter": "python",
   "pygments_lexer": "ipython3",
   "version": "3.11.6"
  }
 },
 "nbformat": 4,
 "nbformat_minor": 5
}
